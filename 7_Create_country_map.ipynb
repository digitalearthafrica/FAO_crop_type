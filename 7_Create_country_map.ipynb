{
 "cells": [
  {
   "cell_type": "markdown",
   "id": "39e4ea29-d3df-4e0a-a56d-9b8d11fdb5b8",
   "metadata": {},
   "source": [
    "# Create a regional or country-wide crop type map"
   ]
  },
  {
   "cell_type": "markdown",
   "id": "cf73bf38-f266-493c-8167-c8fd2542f218",
   "metadata": {},
   "source": [
    "## Background\n",
    "\n",
    "Once we are satisfied with the map results for the test areas, we can proceed to apply the model over a larger region or an entire country. To limit the memory use, we will break a large area into tiles, make predictions over tiles and merge the results."
   ]
  },
  {
   "cell_type": "markdown",
   "id": "4de5d332-e41a-45e8-a3b7-54da2112e1bc",
   "metadata": {},
   "source": [
    "## Description\n",
    "\n",
    "This notebook can be used to generate a crop type map over a region defined in a shapefile."
   ]
  },
  {
   "cell_type": "markdown",
   "id": "6a97d7e9-2767-4d58-afd9-02b1c1b9a204",
   "metadata": {},
   "source": [
    "## Getting started\n",
    "To run this analysis, run all the cells in the notebook, starting with the \"Load packages\" cell."
   ]
  },
  {
   "cell_type": "markdown",
   "id": "d768ca38-3928-48fd-8be2-625d45dff12e",
   "metadata": {},
   "source": [
    "### Load packages"
   ]
  },
  {
   "cell_type": "code",
   "execution_count": 1,
   "id": "efdac518-de9e-4e91-8375-ab4972b4e860",
   "metadata": {},
   "outputs": [
    {
     "name": "stderr",
     "output_type": "stream",
     "text": [
      "/usr/local/lib/python3.8/dist-packages/geopandas/_compat.py:112: UserWarning: The Shapely GEOS version (3.8.0-CAPI-1.13.1 ) is incompatible with the GEOS version PyGEOS was compiled with (3.10.3-CAPI-1.16.1). Conversions between both will be slow.\n",
      "  warnings.warn(\n",
      "/usr/local/lib/python3.8/dist-packages/dask/dataframe/utils.py:367: FutureWarning: pandas.Int64Index is deprecated and will be removed from pandas in a future version. Use pandas.Index with the appropriate dtype instead.\n",
      "  _numeric_index_types = (pd.Int64Index, pd.Float64Index, pd.UInt64Index)\n",
      "/usr/local/lib/python3.8/dist-packages/dask/dataframe/utils.py:367: FutureWarning: pandas.Float64Index is deprecated and will be removed from pandas in a future version. Use pandas.Index with the appropriate dtype instead.\n",
      "  _numeric_index_types = (pd.Int64Index, pd.Float64Index, pd.UInt64Index)\n",
      "/usr/local/lib/python3.8/dist-packages/dask/dataframe/utils.py:367: FutureWarning: pandas.UInt64Index is deprecated and will be removed from pandas in a future version. Use pandas.Index with the appropriate dtype instead.\n",
      "  _numeric_index_types = (pd.Int64Index, pd.Float64Index, pd.UInt64Index)\n"
     ]
    }
   ],
   "source": [
    "import xarray as xr\n",
    "from joblib import load\n",
    "import matplotlib.pyplot as plt\n",
    "import pandas as pd\n",
    "import geopandas as gpd\n",
    "import numpy as np\n",
    "import os\n",
    "import json\n",
    "import pickle\n",
    "\n",
    "import datacube\n",
    "from datacube.utils import geometry\n",
    "from datacube.utils.cog import write_cog\n",
    "from odc.io.cgroups import get_cpu_quota\n",
    "\n",
    "from deafrica_tools.dask import create_local_dask_cluster\n",
    "from deafrica_tools.classification import predict_xr\n",
    "from deafrica_tools.spatial import xr_rasterize\n",
    "\n",
    "from feature_collection import feature_layers"
   ]
  },
  {
   "cell_type": "markdown",
   "id": "2d68117e-55a1-4e78-9dd3-8b95f2f7f381",
   "metadata": {},
   "source": [
    "## Create Dask cluster for running predictions\n",
    "\n",
    "We use dask to parallel and speed up the processing."
   ]
  },
  {
   "cell_type": "code",
   "execution_count": 2,
   "id": "49cf6218-893f-454e-89d0-a3e4e70b3f19",
   "metadata": {},
   "outputs": [
    {
     "name": "stdout",
     "output_type": "stream",
     "text": [
      "ncpus = 15\n"
     ]
    },
    {
     "data": {
      "text/html": [
       "<table style=\"border: 2px solid white;\">\n",
       "<tr>\n",
       "<td style=\"vertical-align: top; border: 0px solid white\">\n",
       "<h3 style=\"text-align: left;\">Client</h3>\n",
       "<ul style=\"text-align: left; list-style: none; margin: 0; padding: 0;\">\n",
       "  <li><b>Scheduler: </b>tcp://127.0.0.1:42257</li>\n",
       "  <li><b>Dashboard: </b><a href='/user/fang.yuan@digitalearthafrica.org/proxy/8787/status' target='_blank'>/user/fang.yuan@digitalearthafrica.org/proxy/8787/status</a></li>\n",
       "</ul>\n",
       "</td>\n",
       "<td style=\"vertical-align: top; border: 0px solid white\">\n",
       "<h3 style=\"text-align: left;\">Cluster</h3>\n",
       "<ul style=\"text-align: left; list-style:none; margin: 0; padding: 0;\">\n",
       "  <li><b>Workers: </b>1</li>\n",
       "  <li><b>Cores: </b>15</li>\n",
       "  <li><b>Memory: </b>104.37 GB</li>\n",
       "</ul>\n",
       "</td>\n",
       "</tr>\n",
       "</table>"
      ],
      "text/plain": [
       "<Client: 'tcp://127.0.0.1:42257' processes=1 threads=15, memory=104.37 GB>"
      ]
     },
     "metadata": {},
     "output_type": "display_data"
    }
   ],
   "source": [
    "ncpus = round(get_cpu_quota())\n",
    "print(\"ncpus = \" + str(ncpus))\n",
    "\n",
    "# client = create_local_dask_cluster(return_client=True, n_workers=1, threads_per_worker=ncpus)\n",
    "create_local_dask_cluster()"
   ]
  },
  {
   "cell_type": "markdown",
   "id": "679589c0-2b8f-45fb-93e8-07c319a2d251",
   "metadata": {},
   "source": [
    "## Load model and class labels\n",
    "\n",
    "We use the model trained and saved in the [fit classifier notebook](3_Fit_classifier.ipynb). it is important that the list of features used match the model."
   ]
  },
  {
   "cell_type": "code",
   "execution_count": 3,
   "id": "91cdfd9f-c15e-4482-84f5-8ecb3843d653",
   "metadata": {},
   "outputs": [],
   "source": [
    "model_basepath = \"Results/Model/\"\n",
    "\n",
    "# Choose model and load\n",
    "model_path = os.path.join(model_basepath, \"rf_removecorrfeaturesgt0p9_simplified_cv.joblib\")\n",
    "model = load(model_path).set_params(n_jobs=1)\n",
    "\n",
    "\n",
    "# Get label dictionary\n",
    "labels_path = os.path.join(model_basepath, \"class_labels.json\")\n",
    "with open(labels_path, \"r\") as json_file:\n",
    "    labels_dict = json.load(json_file)\n",
    "\n",
    "# Get model features\n",
    "feautres_path = os.path.join(model_basepath, \"rf_removecorrfeaturesgt0p9_simplified_features.json\")\n",
    "with open(feautres_path, \"r\") as json_file:\n",
    "    features_dict = json.load(json_file)\n",
    "    \n",
    "features = features_dict[\"features\"]"
   ]
  },
  {
   "cell_type": "code",
   "execution_count": 4,
   "id": "8ac8516a-400c-4930-8726-12d50082e925",
   "metadata": {},
   "outputs": [
    {
     "data": {
      "text/plain": [
       "46"
      ]
     },
     "execution_count": 4,
     "metadata": {},
     "output_type": "execute_result"
    }
   ],
   "source": [
    "len(features)"
   ]
  },
  {
   "cell_type": "markdown",
   "id": "879c0efc-374c-476e-90a9-339a6ec4441d",
   "metadata": {
    "tags": []
   },
   "source": [
    "## Load area of interest (AOI)\n",
    "\n",
    "Two sets of tiles that cover the country of Mozambique are provided as shapefiles in the `Data` folder. \n",
    "The smaller ones are suitable for processing with 32 GB of memory."
   ]
  },
  {
   "cell_type": "code",
   "execution_count": 5,
   "id": "958f5c36-38d8-4d21-9b90-dbc3485be3a1",
   "metadata": {},
   "outputs": [],
   "source": [
    "output_crs=\"EPSG:6933\""
   ]
  },
  {
   "cell_type": "code",
   "execution_count": 7,
   "id": "e8b9a18b-d927-4798-b76d-d5e05a6fe1cd",
   "metadata": {},
   "outputs": [],
   "source": [
    "# Choose the test area shapefile\n",
    "tiles_file = \"Data/Mozambique_tiles.shp\"\n",
    "tiles_gdf = gpd.read_file(tiles_file).to_crs(output_crs)\n",
    "\n",
    "# Set results path\n",
    "output_folder = \"Results/Map\"\n",
    "if not os.path.exists(output_folder):\n",
    "    os.makedirs(output_folder)\n"
   ]
  },
  {
   "cell_type": "markdown",
   "id": "431577d9-8b07-49c3-94df-d0dab2e0e20f",
   "metadata": {},
   "source": [
    "> For testing, we select a level 2 (district) admin region in Mozambique to generate the crop type map."
   ]
  },
  {
   "cell_type": "code",
   "execution_count": 8,
   "id": "476ba7e9-369b-4c59-9ca8-f1d330f98e89",
   "metadata": {},
   "outputs": [],
   "source": [
    "# Pick a district name\n",
    "district_name = \"Nhamatanda\" #\"Lichinga\"\n",
    "\n",
    "# Set basename for the output files\n",
    "if district_name is None:\n",
    "    output_basename = \"Mozambique_\"\n",
    "else:\n",
    "    output_basename = f\"{district_name}_\""
   ]
  },
  {
   "cell_type": "code",
   "execution_count": 9,
   "id": "2e57a4f2-c4b3-4920-88b8-d658fe4f25d0",
   "metadata": {},
   "outputs": [],
   "source": [
    "if district_name is not None:\n",
    "    mozambique_admins = gpd.read_file(\"Data/Mozambique_admin_gadm_level3.gpkg\")\n",
    "    mozambique_level2 = mozambique_admins.dissolve(by=\"GID_2\").to_crs(output_crs)\n",
    "    admin = mozambique_level2[mozambique_level2[\"NAME_2\"]==district_name]\n",
    "    admin"
   ]
  },
  {
   "cell_type": "code",
   "execution_count": 10,
   "id": "fd0a1b4b-a326-4531-88c2-c2fdf4b71c6b",
   "metadata": {},
   "outputs": [],
   "source": [
    "# Visulize the location\n",
    "\n",
    "if district_name is not None:\n",
    "    admin.explore(\n",
    "        tiles=\"https://mt1.google.com/vt/lyrs=y&x={x}&y={y}&z={z}\",\n",
    "        attr='Imagery @2022 Landsat/Copernicus, Map data @2022 Google',\n",
    "        popup=True,\n",
    "        cmap='viridis',\n",
    "        style_kwds=dict(color='red', fillOpacity=0, weight=3),\n",
    "    )"
   ]
  },
  {
   "cell_type": "markdown",
   "id": "75e5df1a-5b97-4ef2-bfb0-6661053c9344",
   "metadata": {},
   "source": [
    "### Select tiles that overlap the admin region "
   ]
  },
  {
   "cell_type": "code",
   "execution_count": 11,
   "id": "58b8051e-9df6-4bff-9ba0-eb4c4e6ca15d",
   "metadata": {},
   "outputs": [],
   "source": [
    "if district_name is not None:\n",
    "    AOIs_gdf = tiles_gdf[tiles_gdf.overlaps(admin.iloc[0].geometry)]\n",
    "else:\n",
    "    AOIs_gdf = tiles_gdf"
   ]
  },
  {
   "cell_type": "code",
   "execution_count": 12,
   "id": "84c32e9a-3977-497e-8074-d5687db0f241",
   "metadata": {},
   "outputs": [
    {
     "name": "stdout",
     "output_type": "stream",
     "text": [
      "# of tiles: 9\n",
      "Area of each tile (sq km): 2498\n"
     ]
    }
   ],
   "source": [
    "# check number and size of tiles\n",
    "\n",
    "print(\"# of tiles:\", len(AOIs_gdf))\n",
    "print(\"Area of each tile (sq km):\", int(AOIs_gdf.area.mean()/1e6))"
   ]
  },
  {
   "cell_type": "code",
   "execution_count": 13,
   "id": "e23b40d8-4d1a-4a3b-b105-5c35cb32bf7d",
   "metadata": {},
   "outputs": [
    {
     "data": {
      "text/html": [
       "<div style=\"width:100%;\"><div style=\"position:relative;width:100%;height:0;padding-bottom:60%;\"><span style=\"color:#565656\">Make this Notebook Trusted to load map: File -> Trust Notebook</span><iframe srcdoc=\"&lt;!DOCTYPE html&gt;\n",
       "&lt;head&gt;    \n",
       "    &lt;meta http-equiv=&quot;content-type&quot; content=&quot;text/html; charset=UTF-8&quot; /&gt;\n",
       "    \n",
       "        &lt;script&gt;\n",
       "            L_NO_TOUCH = false;\n",
       "            L_DISABLE_3D = false;\n",
       "        &lt;/script&gt;\n",
       "    \n",
       "    &lt;style&gt;html, body {width: 100%;height: 100%;margin: 0;padding: 0;}&lt;/style&gt;\n",
       "    &lt;style&gt;#map {position:absolute;top:0;bottom:0;right:0;left:0;}&lt;/style&gt;\n",
       "    &lt;script src=&quot;https://cdn.jsdelivr.net/npm/leaflet@1.6.0/dist/leaflet.js&quot;&gt;&lt;/script&gt;\n",
       "    &lt;script src=&quot;https://code.jquery.com/jquery-1.12.4.min.js&quot;&gt;&lt;/script&gt;\n",
       "    &lt;script src=&quot;https://maxcdn.bootstrapcdn.com/bootstrap/3.2.0/js/bootstrap.min.js&quot;&gt;&lt;/script&gt;\n",
       "    &lt;script src=&quot;https://cdnjs.cloudflare.com/ajax/libs/Leaflet.awesome-markers/2.0.2/leaflet.awesome-markers.js&quot;&gt;&lt;/script&gt;\n",
       "    &lt;link rel=&quot;stylesheet&quot; href=&quot;https://cdn.jsdelivr.net/npm/leaflet@1.6.0/dist/leaflet.css&quot;/&gt;\n",
       "    &lt;link rel=&quot;stylesheet&quot; href=&quot;https://maxcdn.bootstrapcdn.com/bootstrap/3.2.0/css/bootstrap.min.css&quot;/&gt;\n",
       "    &lt;link rel=&quot;stylesheet&quot; href=&quot;https://maxcdn.bootstrapcdn.com/bootstrap/3.2.0/css/bootstrap-theme.min.css&quot;/&gt;\n",
       "    &lt;link rel=&quot;stylesheet&quot; href=&quot;https://maxcdn.bootstrapcdn.com/font-awesome/4.6.3/css/font-awesome.min.css&quot;/&gt;\n",
       "    &lt;link rel=&quot;stylesheet&quot; href=&quot;https://cdnjs.cloudflare.com/ajax/libs/Leaflet.awesome-markers/2.0.2/leaflet.awesome-markers.css&quot;/&gt;\n",
       "    &lt;link rel=&quot;stylesheet&quot; href=&quot;https://cdn.jsdelivr.net/gh/python-visualization/folium/folium/templates/leaflet.awesome.rotate.min.css&quot;/&gt;\n",
       "    \n",
       "            &lt;meta name=&quot;viewport&quot; content=&quot;width=device-width,\n",
       "                initial-scale=1.0, maximum-scale=1.0, user-scalable=no&quot; /&gt;\n",
       "            &lt;style&gt;\n",
       "                #map_b90404c2958f5aa81452eb4701265b11 {\n",
       "                    position: relative;\n",
       "                    width: 100.0%;\n",
       "                    height: 100.0%;\n",
       "                    left: 0.0%;\n",
       "                    top: 0.0%;\n",
       "                }\n",
       "            &lt;/style&gt;\n",
       "        \n",
       "    \n",
       "                    &lt;style&gt;\n",
       "                        .foliumtooltip {\n",
       "                            \n",
       "                        }\n",
       "                       .foliumtooltip table{\n",
       "                            margin: auto;\n",
       "                        }\n",
       "                        .foliumtooltip tr{\n",
       "                            text-align: left;\n",
       "                        }\n",
       "                        .foliumtooltip th{\n",
       "                            padding: 2px; padding-right: 8px;\n",
       "                        }\n",
       "                    &lt;/style&gt;\n",
       "            \n",
       "    \n",
       "                    &lt;style&gt;\n",
       "                        .foliumpopup {\n",
       "                            margin: auto;\n",
       "                        }\n",
       "                       .foliumpopup table{\n",
       "                            margin: auto;\n",
       "                        }\n",
       "                        .foliumpopup tr{\n",
       "                            text-align: left;\n",
       "                        }\n",
       "                        .foliumpopup th{\n",
       "                            padding: 2px; padding-right: 8px;\n",
       "                        }\n",
       "                    &lt;/style&gt;\n",
       "            \n",
       "&lt;/head&gt;\n",
       "&lt;body&gt;    \n",
       "    \n",
       "            &lt;div class=&quot;folium-map&quot; id=&quot;map_b90404c2958f5aa81452eb4701265b11&quot; &gt;&lt;/div&gt;\n",
       "        \n",
       "&lt;/body&gt;\n",
       "&lt;script&gt;    \n",
       "    \n",
       "            var map_b90404c2958f5aa81452eb4701265b11 = L.map(\n",
       "                &quot;map_b90404c2958f5aa81452eb4701265b11&quot;,\n",
       "                {\n",
       "                    center: [-13.401474751644608, 35.26329252639351],\n",
       "                    crs: L.CRS.EPSG3857,\n",
       "                    zoom: 10,\n",
       "                    zoomControl: true,\n",
       "                    preferCanvas: false,\n",
       "                }\n",
       "            );\n",
       "            L.control.scale().addTo(map_b90404c2958f5aa81452eb4701265b11);\n",
       "\n",
       "            \n",
       "\n",
       "        \n",
       "    \n",
       "            var tile_layer_bfb4b741e819be50800d5540e72f2f76 = L.tileLayer(\n",
       "                &quot;https://mt1.google.com/vt/lyrs=y\\u0026x={x}\\u0026y={y}\\u0026z={z}&quot;,\n",
       "                {&quot;attribution&quot;: &quot;Imagery @2022 Landsat/Copernicus, Map data @2022 Google&quot;, &quot;detectRetina&quot;: false, &quot;maxNativeZoom&quot;: 18, &quot;maxZoom&quot;: 18, &quot;minZoom&quot;: 0, &quot;noWrap&quot;: false, &quot;opacity&quot;: 1, &quot;subdomains&quot;: &quot;abc&quot;, &quot;tms&quot;: false}\n",
       "            ).addTo(map_b90404c2958f5aa81452eb4701265b11);\n",
       "        \n",
       "    \n",
       "            map_b90404c2958f5aa81452eb4701265b11.fitBounds(\n",
       "                [[-14.08306077848841, 34.33734385827784], [-12.719888724800807, 36.18924119450918]],\n",
       "                {}\n",
       "            );\n",
       "        \n",
       "    \n",
       "        function geo_json_676418ef788ac3487b4a6dcc480320d2_styler(feature) {\n",
       "            switch(feature.id) {\n",
       "                default:\n",
       "                    return {&quot;color&quot;: &quot;red&quot;, &quot;fillOpacity&quot;: 0, &quot;weight&quot;: 3};\n",
       "            }\n",
       "        }\n",
       "        function geo_json_676418ef788ac3487b4a6dcc480320d2_highlighter(feature) {\n",
       "            switch(feature.id) {\n",
       "                default:\n",
       "                    return {&quot;fillOpacity&quot;: 0.75};\n",
       "            }\n",
       "        }\n",
       "        function geo_json_676418ef788ac3487b4a6dcc480320d2_pointToLayer(feature, latlng) {\n",
       "            var opts = {&quot;bubblingMouseEvents&quot;: true, &quot;color&quot;: &quot;#3388ff&quot;, &quot;dashArray&quot;: null, &quot;dashOffset&quot;: null, &quot;fill&quot;: true, &quot;fillColor&quot;: &quot;#3388ff&quot;, &quot;fillOpacity&quot;: 0.2, &quot;fillRule&quot;: &quot;evenodd&quot;, &quot;lineCap&quot;: &quot;round&quot;, &quot;lineJoin&quot;: &quot;round&quot;, &quot;opacity&quot;: 1.0, &quot;radius&quot;: 2, &quot;stroke&quot;: true, &quot;weight&quot;: 3};\n",
       "            \n",
       "            let style = geo_json_676418ef788ac3487b4a6dcc480320d2_styler(feature)\n",
       "            Object.assign(opts, style)\n",
       "            \n",
       "            return new L.CircleMarker(latlng, opts)\n",
       "        }\n",
       "\n",
       "        function geo_json_676418ef788ac3487b4a6dcc480320d2_onEachFeature(feature, layer) {\n",
       "            layer.on({\n",
       "                mouseout: function(e) {\n",
       "                    if(typeof e.target.setStyle === &quot;function&quot;){\n",
       "                        geo_json_676418ef788ac3487b4a6dcc480320d2.resetStyle(e.target);\n",
       "                    }\n",
       "                },\n",
       "                mouseover: function(e) {\n",
       "                    if(typeof e.target.setStyle === &quot;function&quot;){\n",
       "                        const highlightStyle = geo_json_676418ef788ac3487b4a6dcc480320d2_highlighter(e.target.feature)\n",
       "                        e.target.setStyle(highlightStyle);\n",
       "                    }\n",
       "                },\n",
       "            });\n",
       "        };\n",
       "        var geo_json_676418ef788ac3487b4a6dcc480320d2 = L.geoJson(null, {\n",
       "                onEachFeature: geo_json_676418ef788ac3487b4a6dcc480320d2_onEachFeature,\n",
       "            \n",
       "                style: geo_json_676418ef788ac3487b4a6dcc480320d2_styler,\n",
       "                pointToLayer: geo_json_676418ef788ac3487b4a6dcc480320d2_pointToLayer\n",
       "        });\n",
       "\n",
       "        function geo_json_676418ef788ac3487b4a6dcc480320d2_add (data) {\n",
       "            geo_json_676418ef788ac3487b4a6dcc480320d2\n",
       "                .addData(data)\n",
       "                .addTo(map_b90404c2958f5aa81452eb4701265b11);\n",
       "        }\n",
       "            geo_json_676418ef788ac3487b4a6dcc480320d2_add({&quot;bbox&quot;: [34.33734385827784, -14.08306077848841, 36.18924119450918, -12.719888724800807], &quot;features&quot;: [{&quot;bbox&quot;: [34.33734385827784, -13.182470720262225, 34.80099836604126, -12.727732177004853], &quot;geometry&quot;: {&quot;coordinates&quot;: [[[34.33734385827784, -12.730457517968208], [34.79775354406502, -12.727732177004853], [34.80099836604126, -13.179645303317935], [34.339758382012874, -13.182470720262225], [34.33734385827784, -12.730457517968208]]], &quot;type&quot;: &quot;Polygon&quot;}, &quot;id&quot;: &quot;158&quot;, &quot;properties&quot;: {&quot;bottom&quot;: 8542298.211370945, &quot;id&quot;: 339.0, &quot;left&quot;: 645190.2846064952, &quot;right&quot;: 695190.2846064952, &quot;top&quot;: 8592298.211370945}, &quot;type&quot;: &quot;Feature&quot;}, {&quot;bbox&quot;: [34.33975739788355, -13.634286769454828, 34.8043653189668, -13.179464541372472], &quot;geometry&quot;: {&quot;coordinates&quot;: [[[34.33975739788355, -13.182289918216618], [34.80099704349396, -13.179464541372472], [34.8043653189668, -13.631360963167818], [34.34226378939293, -13.634286769454828], [34.33975739788355, -13.182289918216618]]], &quot;type&quot;: &quot;Polygon&quot;}, &quot;id&quot;: &quot;159&quot;, &quot;properties&quot;: {&quot;bottom&quot;: 8492318.211370945, &quot;id&quot;: 340.0, &quot;left&quot;: 645190.2846064952, &quot;right&quot;: 695190.2846064952, &quot;top&quot;: 8542318.211370945}, &quot;type&quot;: &quot;Feature&quot;}, {&quot;bbox&quot;: [34.797569402580834, -13.179646599200058, 35.26193043678255, -12.724209184609773], &quot;geometry&quot;: {&quot;coordinates&quot;: [[[34.797569402580834, -12.727733426987426], [35.25785670876934, -12.724209184609773], [35.26193043678255, -13.175992947998559], [34.80081389263181, -13.179646599200058], [34.797569402580834, -12.727733426987426]]], &quot;type&quot;: &quot;Polygon&quot;}, &quot;id&quot;: &quot;187&quot;, &quot;properties&quot;: {&quot;bottom&quot;: 8542298.211370945, &quot;id&quot;: 376.0, &quot;left&quot;: 695170.2846064952, &quot;right&quot;: 745170.2846064952, &quot;top&quot;: 8592298.211370945}, &quot;type&quot;: &quot;Feature&quot;}, {&quot;bbox&quot;: [34.80081257021979, -13.631362305093148, 35.26615748585671, -13.175812237888417], &quot;geometry&quot;: {&quot;coordinates&quot;: [[[34.80081257021979, -13.179465837236215], [35.26192877638562, -13.175812237888417], [35.26615748585671, -13.627578840211887], [34.804180501141346, -13.631362305093148], [34.80081257021979, -13.179465837236215]]], &quot;type&quot;: &quot;Polygon&quot;}, &quot;id&quot;: &quot;188&quot;, &quot;properties&quot;: {&quot;bottom&quot;: 8492318.211370945, &quot;id&quot;: 377.0, &quot;left&quot;: 695170.2846064952, &quot;right&quot;: 745170.2846064952, &quot;top&quot;: 8542318.211370945}, &quot;type&quot;: &quot;Feature&quot;}, {&quot;bbox&quot;: [34.804179129134994, -14.08306077848841, 35.2705408406097, -13.627398137077021], &quot;geometry&quot;: {&quot;coordinates&quot;: [[[34.804179129134994, -13.63118154991831], [35.26615576319368, -13.627398137077021], [35.2705408406097, -14.079147025302827], [34.80767160599447, -14.08306077848841], [34.804179129134994, -13.63118154991831]]], &quot;type&quot;: &quot;Polygon&quot;}, &quot;id&quot;: &quot;189&quot;, &quot;properties&quot;: {&quot;bottom&quot;: 8442338.211370945, &quot;id&quot;: 378.0, &quot;left&quot;: 695170.2846064952, &quot;right&quot;: 745170.2846064952, &quot;top&quot;: 8492338.211370945}, &quot;type&quot;: &quot;Feature&quot;}, {&quot;bbox&quot;: [35.257672622491555, -13.175994574960203, 35.72270759721745, -12.719888724800807], &quot;geometry&quot;: {&quot;coordinates&quot;: [[[35.257672622491555, -12.724210753946775], [35.717806292870115, -12.719888724800807], [35.72270759721745, -13.171513847562522], [35.26174601905767, -13.175994574960203], [35.257672622491555, -12.724210753946775]]], &quot;type&quot;: &quot;Polygon&quot;}, &quot;id&quot;: &quot;212&quot;, &quot;properties&quot;: {&quot;bottom&quot;: 8542298.211370945, &quot;id&quot;: 413.0, &quot;left&quot;: 745150.2846064952, &quot;right&quot;: 795150.2846064952, &quot;top&quot;: 8592298.211370945}, &quot;type&quot;: &quot;Feature&quot;}, {&quot;bbox&quot;: [35.261744358795816, -13.627580524978393, 35.7277933566866, -13.171333201019062], &quot;geometry&quot;: {&quot;coordinates&quot;: [[[35.261744358795816, -13.175813864827028], [35.72270559951399, -13.171333201019062], [35.7277933566866, -13.622940603385713], [35.26597272421411, -13.627580524978393], [35.261744358795816, -13.175813864827028]]], &quot;type&quot;: &quot;Polygon&quot;}, &quot;id&quot;: &quot;213&quot;, &quot;properties&quot;: {&quot;bottom&quot;: 8492318.211370945, &quot;id&quot;: 414.0, &quot;left&quot;: 745150.2846064952, &quot;right&quot;: 795150.2846064952, &quot;top&quot;: 8542318.211370945}, &quot;type&quot;: &quot;Feature&quot;}, {&quot;bbox&quot;: [35.265971001691256, -14.079148768085373, 35.73306716072292, -13.622759964045656], &quot;geometry&quot;: {&quot;coordinates&quot;: [[[35.265971001691256, -13.627399821820331], [35.72779128407326, -13.622759964045656], [35.73306716072292, -14.07434907082058], [35.27035572233646, -14.079148768085373], [35.265971001691256, -13.627399821820331]]], &quot;type&quot;: &quot;Polygon&quot;}, &quot;id&quot;: &quot;214&quot;, &quot;properties&quot;: {&quot;bottom&quot;: 8442338.211370945, &quot;id&quot;: 415.0, &quot;left&quot;: 745150.2846064952, &quot;right&quot;: 795150.2846064952, &quot;top&quot;: 8492338.211370945}, &quot;type&quot;: &quot;Feature&quot;}, {&quot;bbox&quot;: [35.72252125020841, -13.622942630458361, 36.18924119450918, -13.166028849346922], &quot;geometry&quot;: {&quot;coordinates&quot;: [[[35.72252125020841, -13.171335158516971], [36.183296056058246, -13.166028849346922], [36.18924119450918, -13.617447724967903], [35.72760866393909, -13.622942630458361], [35.72252125020841, -13.171335158516971]]], &quot;type&quot;: &quot;Polygon&quot;}, &quot;id&quot;: &quot;236&quot;, &quot;properties&quot;: {&quot;bottom&quot;: 8492318.211370945, &quot;id&quot;: 451.0, &quot;left&quot;: 795130.2846064952, &quot;right&quot;: 845130.2846064952, &quot;top&quot;: 8542318.211370945}, &quot;type&quot;: &quot;Feature&quot;}], &quot;type&quot;: &quot;FeatureCollection&quot;});\n",
       "\n",
       "        \n",
       "    \n",
       "    geo_json_676418ef788ac3487b4a6dcc480320d2.bindTooltip(\n",
       "    function(layer){\n",
       "    let div = L.DomUtil.create(&#x27;div&#x27;);\n",
       "    \n",
       "    let handleObject = feature=&gt;typeof(feature)==&#x27;object&#x27; ? JSON.stringify(feature) : feature;\n",
       "    let fields = [&quot;id&quot;, &quot;left&quot;, &quot;top&quot;, &quot;right&quot;, &quot;bottom&quot;];\n",
       "    let aliases = [&quot;id&quot;, &quot;left&quot;, &quot;top&quot;, &quot;right&quot;, &quot;bottom&quot;];\n",
       "    let table = &#x27;&lt;table&gt;&#x27; +\n",
       "        String(\n",
       "        fields.map(\n",
       "        (v,i)=&gt;\n",
       "        `&lt;tr&gt;\n",
       "            &lt;th&gt;${aliases[i]}&lt;/th&gt;\n",
       "            \n",
       "            &lt;td&gt;${handleObject(layer.feature.properties[v])}&lt;/td&gt;\n",
       "        &lt;/tr&gt;`).join(&#x27;&#x27;))\n",
       "    +&#x27;&lt;/table&gt;&#x27;;\n",
       "    div.innerHTML=table;\n",
       "    \n",
       "    return div\n",
       "    }\n",
       "    ,{&quot;className&quot;: &quot;foliumtooltip&quot;, &quot;sticky&quot;: true});\n",
       "                     \n",
       "    \n",
       "    geo_json_676418ef788ac3487b4a6dcc480320d2.bindPopup(\n",
       "    function(layer){\n",
       "    let div = L.DomUtil.create(&#x27;div&#x27;);\n",
       "    \n",
       "    let handleObject = feature=&gt;typeof(feature)==&#x27;object&#x27; ? JSON.stringify(feature) : feature;\n",
       "    let fields = [&quot;id&quot;, &quot;left&quot;, &quot;top&quot;, &quot;right&quot;, &quot;bottom&quot;];\n",
       "    let aliases = [&quot;id&quot;, &quot;left&quot;, &quot;top&quot;, &quot;right&quot;, &quot;bottom&quot;];\n",
       "    let table = &#x27;&lt;table&gt;&#x27; +\n",
       "        String(\n",
       "        fields.map(\n",
       "        (v,i)=&gt;\n",
       "        `&lt;tr&gt;\n",
       "            &lt;th&gt;${aliases[i].toLocaleString()}&lt;/th&gt;\n",
       "            \n",
       "            &lt;td&gt;${handleObject(layer.feature.properties[v]).toLocaleString()}&lt;/td&gt;\n",
       "        &lt;/tr&gt;`).join(&#x27;&#x27;))\n",
       "    +&#x27;&lt;/table&gt;&#x27;;\n",
       "    div.innerHTML=table;\n",
       "    \n",
       "    return div\n",
       "    }\n",
       "    ,{&quot;className&quot;: &quot;foliumpopup&quot;});\n",
       "                     \n",
       "&lt;/script&gt;\" style=\"position:absolute;width:100%;height:100%;left:0;top:0;border:none !important;\" allowfullscreen webkitallowfullscreen mozallowfullscreen></iframe></div></div>"
      ],
      "text/plain": [
       "<folium.folium.Map at 0x7efec7db45b0>"
      ]
     },
     "execution_count": 13,
     "metadata": {},
     "output_type": "execute_result"
    }
   ],
   "source": [
    "# visulize location of the tiles\n",
    "\n",
    "AOIs_gdf.explore(\n",
    "    tiles = \"https://mt1.google.com/vt/lyrs=y&x={x}&y={y}&z={z}\", \n",
    "    attr ='Imagery @2022 Landsat/Copernicus, Map data @2022 Google',\n",
    "    popup=True,\n",
    "    cmap='viridis',\n",
    "    style_kwds=dict(color= 'red', fillOpacity= 0, weight= 3),\n",
    "    )"
   ]
  },
  {
   "cell_type": "markdown",
   "id": "c087450e-ad5c-4017-81f6-f7e8985ddc51",
   "metadata": {
    "tags": []
   },
   "source": [
    "## Create the query for running the predictions\n",
    "\n",
    "We use the query saved from the training data collection notebook to ensure data from the same periods are retrieved. However, only selected features will be used. \n",
    "\n",
    "> We add `dask_chunks` to the query parameter so the data will be lazy-loaded and only the features used by the model will be calculated."
   ]
  },
  {
   "cell_type": "code",
   "execution_count": 14,
   "id": "4829adb4-d90a-4dbe-9119-0251cd79ece9",
   "metadata": {},
   "outputs": [
    {
     "data": {
      "text/plain": [
       "{'semiannual_geomad_times': {'semiannual_2021_07': '2021-07-01',\n",
       "  'semiannual_2022_01': '2022-01-01'},\n",
       " 'monthly_ndvi_time_range': ('2021-10', '2022-09'),\n",
       " 'ls_fc_cover_times': {'Q4_2021': slice('2021-10-01', '2021-12-31', None),\n",
       "  'Q1_2022': slice('2022-01-01', '2022-03-31', None),\n",
       "  'Q2_2022': slice('2022-04-01', '2022-06-30', None),\n",
       "  'Q3_2022': slice('2022-07-01', '2022-09-30', None)},\n",
       " 'resolution': (-10, 10),\n",
       " 'output_crs': 'EPSG:6933',\n",
       " 'dask_chunks': {'x': 4000, 'y': 4000}}"
      ]
     },
     "execution_count": 14,
     "metadata": {},
     "output_type": "execute_result"
    }
   ],
   "source": [
    "# Load the query used for fitting\n",
    "query_file = os.path.join(model_basepath, \"query.pickle\")\n",
    "\n",
    "with open(query_file, \"rb\") as f:\n",
    "    query = pickle.load(f)\n",
    "    \n",
    "# Specify any specific additions to the data query -- e.g. dask_chunks for enabling parallel computation\n",
    "if ncpus<=4:\n",
    "    dask_chunks = {\"x\": 1500, \"y\": 1500}\n",
    "else:\n",
    "    dask_chunks = {\"x\": 4000, \"y\": 4000}\n",
    "query.update({\"dask_chunks\": dask_chunks})\n",
    "\n",
    "query"
   ]
  },
  {
   "cell_type": "markdown",
   "id": "7ac9d60e-2c27-44f6-a5c6-b1903b8b5be8",
   "metadata": {},
   "source": [
    "## Apply classification model to the AOI\n",
    "\n",
    "The model will be applied over each tile, producing a prediction map and a probabilities map. The maps are saved as Cloud-Optimized Geotiffs (COGs).\n",
    "\n",
    "> Tiles are processed in sequence. For each tile, the processing needs to fit into the compute resources available in the sandbox. Make the tile size smaller if you run out of memory. For production of a map over a large region or country, consider applying for [a large sandbox (with more CPUs and momery)](\n",
    "https://helpdesk.digitalearthafrica.org/portal/en/community/topic/call-for-application-for-access-to-large-sandboxes-15-processing-cores-and-120-gb-of-memory)\n",
    "\n",
    "If output files for a tile already exist, processing for the tile can be skipped. This is useful if the process fails partway through, or if you are logged out of the sandbox before all tiles are completed."
   ]
  },
  {
   "cell_type": "code",
   "execution_count": 15,
   "id": "62ce62ea-db2d-4175-a9a8-287a1d9fa4d1",
   "metadata": {},
   "outputs": [],
   "source": [
    "skip_exisiting = False"
   ]
  },
  {
   "cell_type": "code",
   "execution_count": null,
   "id": "c17e1527-c548-44ef-991e-b8963a659933",
   "metadata": {},
   "outputs": [
    {
     "name": "stdout",
     "output_type": "stream",
     "text": [
      "Processing Polygon 0\n",
      "    Loading feature data\n",
      "predicting...\n",
      "   probabilities...\n",
      "    Loading crop_mask\n",
      "    Getting AOI mask\n",
      "    Preparing predictions\n",
      "    Writing predictions to Results/Map/Lichinga__tile000_croptype_prediction.tif\n",
      "    Writing probabilities to Results/Map/Lichinga__tile000_croptype_probabilities.tif\n",
      "Processing Polygon 1\n",
      "    Loading feature data\n",
      "predicting...\n",
      "   probabilities...\n",
      "    Loading crop_mask\n",
      "    Getting AOI mask\n",
      "    Preparing predictions\n",
      "    Writing predictions to Results/Map/Lichinga__tile001_croptype_prediction.tif\n",
      "    Writing probabilities to Results/Map/Lichinga__tile001_croptype_probabilities.tif\n",
      "Processing Polygon 2\n",
      "    Loading feature data\n",
      "predicting...\n",
      "   probabilities...\n",
      "    Loading crop_mask\n",
      "    Getting AOI mask\n",
      "    Preparing predictions\n",
      "    Writing predictions to Results/Map/Lichinga__tile002_croptype_prediction.tif\n",
      "    Writing probabilities to Results/Map/Lichinga__tile002_croptype_probabilities.tif\n",
      "Processing Polygon 3\n",
      "    Loading feature data\n",
      "predicting...\n",
      "   probabilities...\n",
      "    Loading crop_mask\n",
      "    Getting AOI mask\n",
      "    Preparing predictions\n",
      "    Writing predictions to Results/Map/Lichinga__tile003_croptype_prediction.tif\n",
      "    Writing probabilities to Results/Map/Lichinga__tile003_croptype_probabilities.tif\n",
      "Processing Polygon 4\n",
      "    Loading feature data\n",
      "predicting...\n",
      "   probabilities...\n",
      "    Loading crop_mask\n",
      "    Getting AOI mask\n",
      "    Preparing predictions\n",
      "    Writing predictions to Results/Map/Lichinga__tile004_croptype_prediction.tif\n",
      "    Writing probabilities to Results/Map/Lichinga__tile004_croptype_probabilities.tif\n",
      "Processing Polygon 5\n",
      "    Loading feature data\n",
      "predicting...\n",
      "   probabilities...\n",
      "    Loading crop_mask\n",
      "    Getting AOI mask\n",
      "    Preparing predictions\n",
      "    Writing predictions to Results/Map/Lichinga__tile005_croptype_prediction.tif\n",
      "    Writing probabilities to Results/Map/Lichinga__tile005_croptype_probabilities.tif\n",
      "Processing Polygon 6\n",
      "    Loading feature data\n",
      "predicting...\n",
      "   probabilities...\n",
      "    Loading crop_mask\n",
      "    Getting AOI mask\n",
      "    Preparing predictions\n",
      "    Writing predictions to Results/Map/Lichinga__tile006_croptype_prediction.tif\n",
      "    Writing probabilities to Results/Map/Lichinga__tile006_croptype_probabilities.tif\n",
      "Processing Polygon 7\n",
      "    Loading feature data\n",
      "predicting...\n",
      "   probabilities...\n",
      "    Loading crop_mask\n",
      "    Getting AOI mask\n",
      "    Preparing predictions\n",
      "    Writing predictions to Results/Map/Lichinga__tile007_croptype_prediction.tif\n",
      "    Writing probabilities to Results/Map/Lichinga__tile007_croptype_probabilities.tif\n",
      "Processing Polygon 8\n",
      "    Loading feature data\n",
      "predicting...\n",
      "   probabilities...\n"
     ]
    }
   ],
   "source": [
    "%%time\n",
    "\n",
    "dc = datacube.Datacube(app=\"crop_type_ml\")\n",
    "\n",
    "for index in range(0, len(AOIs_gdf)):\n",
    "    aoi = AOIs_gdf.iloc[index]\n",
    "    print(f\"Processing Polygon {index}\")\n",
    "\n",
    "    # Check if polygon has already been processed. If so, skip\n",
    "    output_filename = os.path.join(\n",
    "        output_folder, f\"{output_basename}_tile{index:03d}_croptype_prediction.tif\")\n",
    "    probabilities_filename = os.path.join(\n",
    "        output_folder, f\"{output_basename}_tile{index:03d}_croptype_probabilities.tif\")\n",
    "    if skip_exisiting and os.path.exists(output_filename) and os.path.exists(probabilities_filename):\n",
    "        print(\"Completed; Skipping\")\n",
    "        continue\n",
    "\n",
    "    # set up query based on aoi geometry\n",
    "    geom = geometry.Geometry(geom=aoi.geometry, crs=AOIs_gdf.crs)\n",
    "    query.update({\"geopolygon\": geom})\n",
    "\n",
    "    # Load the feature data\n",
    "    print(\"    Loading feature data\")\n",
    "    data = feature_layers(query)\n",
    "\n",
    "    # Only keep features that are used by the model\n",
    "    data = data[features]\n",
    "\n",
    "#     #predict using the imported model\n",
    "    predicted = predict_xr(model,\n",
    "                           data,\n",
    "                           proba=True,\n",
    "                           persist=False,\n",
    "                           clean=True,\n",
    "                           return_input=False\n",
    "                           ).compute().astype(np.uint8)\n",
    "\n",
    "    # Mask with crop extent\n",
    "    crop_mask_query = dict((k, query[k]) for k in (\n",
    "        'resolution', 'output_crs', 'geopolygon'))\n",
    "    crop_mask_query.update({\"time\": \"2019\"})\n",
    "\n",
    "    # Load the crop mask\n",
    "    print(\"    Loading crop_mask\")\n",
    "    # \"filtered\" crop mask is used by default, alternatively, unfiltered \"mask\" measurement can be used\n",
    "    crop_mask_measurement = 'filtered'\n",
    "    crop_mask = dc.load(product=\"crop_mask\", measurements=[crop_mask_measurement], **crop_mask_query)\n",
    "\n",
    "    # Create a mask for the aoi\n",
    "    print(\"    Getting AOI mask\")\n",
    "    aoi_mask = xr_rasterize(\n",
    "        gdf=gpd.GeoDataFrame({\"Polygon\": [index], \"geometry\": [\n",
    "                             aoi.geometry]}, crs=AOIs_gdf.crs),\n",
    "        da=predicted,\n",
    "        transform=predicted.geobox.transform,\n",
    "        crs=output_crs,\n",
    "    )\n",
    "\n",
    "    # set the no data value\n",
    "    NODATA = 255\n",
    "\n",
    "    # Mask the predictions to\n",
    "    print(\"    Preparing predictions\")\n",
    "    predicted_masked = (\n",
    "        predicted.Predictions.where(\n",
    "            (crop_mask[crop_mask_measurement] == 1) & (aoi_mask == 1), NODATA)\n",
    "    )\n",
    "\n",
    "    predicted_masked.attrs[\"nodata\"] = NODATA\n",
    "\n",
    "    # Write to cog\n",
    "    print(f\"    Writing predictions to {output_filename}\")\n",
    "    write_cog(\n",
    "        predicted_masked,\n",
    "        fname=output_filename,\n",
    "        overwrite=True,\n",
    "        nodata=255,\n",
    "    )\n",
    "\n",
    "    del predicted_masked\n",
    "\n",
    "    probability_masked = (\n",
    "        predicted.Predictions.where(\n",
    "            (crop_mask[crop_mask_measurement] == 1) & (aoi_mask == 1), NODATA)\n",
    "    )\n",
    "\n",
    "    probability_masked.attrs[\"nodata\"] = NODATA\n",
    "\n",
    "    print(f\"    Writing probabilities to {probabilities_filename}\")\n",
    "    write_cog(\n",
    "        probability_masked,\n",
    "        fname=probabilities_filename,\n",
    "        overwrite=True,\n",
    "        nodata=255,\n",
    "    )\n",
    "\n",
    "    del probability_masked\n",
    "\n",
    "    del crop_mask\n",
    "    del aoi_mask"
   ]
  },
  {
   "cell_type": "markdown",
   "id": "05ad2c2d",
   "metadata": {},
   "source": [
    "## Mosaic maps\n",
    "\n",
    "The tiled maps merged."
   ]
  },
  {
   "cell_type": "code",
   "execution_count": null,
   "id": "55a0b5ad-8ff2-44ea-88e4-a56b4fe077e7",
   "metadata": {},
   "outputs": [],
   "source": [
    "merge_cmd = f\"gdal_merge.py -o {output_folder}/{output_basename}_merged_croptype_prediction.tif -co COMPRESS=Deflate -ot Byte {output_folder}/{output_basename}_tile???_croptype_prediction.tif -init 255 -a_nodata 255\"\n",
    "os.system(merge_cmd)\n",
    "\n",
    "merge_cmd = f\"gdal_merge.py -o {output_folder}/{output_basename}_merged_croptype_probabilities.tif -co COMPRESS=Deflate -ot Byte {output_folder}/{output_basename}_tile???_croptype_probabilities.tif -init 255 -a_nodata 255\"\n",
    "os.system(merge_cmd)\n"
   ]
  }
 ],
 "metadata": {
  "kernelspec": {
   "display_name": "Python 3 (ipykernel)",
   "language": "python",
   "name": "python3"
  },
  "language_info": {
   "codemirror_mode": {
    "name": "ipython",
    "version": 3
   },
   "file_extension": ".py",
   "mimetype": "text/x-python",
   "name": "python",
   "nbconvert_exporter": "python",
   "pygments_lexer": "ipython3",
   "version": "3.8.10"
  },
  "widgets": {
   "application/vnd.jupyter.widget-state+json": {
    "state": {},
    "version_major": 2,
    "version_minor": 0
   }
  }
 },
 "nbformat": 4,
 "nbformat_minor": 5
}
