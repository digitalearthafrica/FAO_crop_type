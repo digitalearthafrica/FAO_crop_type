{
 "cells": [
  {
   "cell_type": "markdown",
   "metadata": {},
   "source": [
    "# Calculate crop statistics "
   ]
  },
  {
   "cell_type": "markdown",
   "metadata": {},
   "source": [
    "## Background\n",
    "\n",
    "Crop type maps provide information on the distribution of different crops and can be used to generate crop area statistics, contributing to the understanding of agricultural production."
   ]
  },
  {
   "cell_type": "markdown",
   "metadata": {},
   "source": [
    "## Description\n",
    "\n",
    "This notebook demonstrates how to calculate crop area statistics using the crop type maps and input administration boundaries vector file.\n",
    "Results are inspected and saved into tables.\n"
   ]
  },
  {
   "cell_type": "markdown",
   "metadata": {},
   "source": [
    "## Getting started\n",
    "To run this analysis, run all the cells in the notebook, starting with the \"Load packages\" cell."
   ]
  },
  {
   "cell_type": "markdown",
   "metadata": {},
   "source": [
    "### Load packages"
   ]
  },
  {
   "cell_type": "code",
   "execution_count": 2,
   "metadata": {},
   "outputs": [
    {
     "name": "stderr",
     "output_type": "stream",
     "text": [
      "/usr/local/lib/python3.8/dist-packages/geopandas/_compat.py:112: UserWarning: The Shapely GEOS version (3.8.0-CAPI-1.13.1 ) is incompatible with the GEOS version PyGEOS was compiled with (3.10.3-CAPI-1.16.1). Conversions between both will be slow.\n",
      "  warnings.warn(\n"
     ]
    }
   ],
   "source": [
    "import os\n",
    "import pickle\n",
    "import json\n",
    "\n",
    "import datacube\n",
    "import geopandas as gpd\n",
    "import matplotlib.pyplot as plt\n",
    "import numpy as np\n",
    "import pandas as pd\n",
    "import rioxarray\n",
    "import xarray as xr\n",
    "from deafrica_tools.spatial import xr_rasterize"
   ]
  },
  {
   "cell_type": "markdown",
   "metadata": {},
   "source": [
    "## Load admin boundaries and crop map\n",
    "\n",
    "We will load the data using coordinate reference system `EPSG:6933` for area calculation. The reference system uses units in meter."
   ]
  },
  {
   "cell_type": "code",
   "execution_count": 40,
   "metadata": {},
   "outputs": [],
   "source": [
    "output_crs = \"EPSG:6933\""
   ]
  },
  {
   "cell_type": "markdown",
   "metadata": {},
   "source": [
    "Geometries for regions where crop areas are to be calculated are loaded in a GeoPandas Dataframe. For calculating crop areas within the entire country, one geometry for the country should be provided. For calculating crop areas within provinces, a list of geometries for the provinces should be provided.\n",
    "\n",
    "> For testing, we caculate crop areas for level 3 admin regions within a district where a crop type map has been generated."
   ]
  },
  {
   "cell_type": "code",
   "execution_count": 75,
   "metadata": {},
   "outputs": [],
   "source": [
    "# select the district name for which a crop map is available\n",
    "district_name = \"Nhamatanda\" \n",
    "#district_name = \"Lichinga\"\n",
    "\n",
    "mozambique_admins = gpd.read_file(\"Data/Mozambique_admin_gadm_level3.geojson\")\n",
    "area_of_interest_gdf = mozambique_admins[mozambique_admins[\"NAME_2\"]==district_name]\n",
    "area_of_interest_gdf.reset_index(inplace=True)"
   ]
  },
  {
   "cell_type": "code",
   "execution_count": 76,
   "metadata": {},
   "outputs": [
    {
     "data": {
      "text/html": [
       "<div style=\"width:100%;\"><div style=\"position:relative;width:100%;height:0;padding-bottom:60%;\"><span style=\"color:#565656\">Make this Notebook Trusted to load map: File -> Trust Notebook</span><iframe srcdoc=\"&lt;!DOCTYPE html&gt;\n",
       "&lt;head&gt;    \n",
       "    &lt;meta http-equiv=&quot;content-type&quot; content=&quot;text/html; charset=UTF-8&quot; /&gt;\n",
       "    \n",
       "        &lt;script&gt;\n",
       "            L_NO_TOUCH = false;\n",
       "            L_DISABLE_3D = false;\n",
       "        &lt;/script&gt;\n",
       "    \n",
       "    &lt;style&gt;html, body {width: 100%;height: 100%;margin: 0;padding: 0;}&lt;/style&gt;\n",
       "    &lt;style&gt;#map {position:absolute;top:0;bottom:0;right:0;left:0;}&lt;/style&gt;\n",
       "    &lt;script src=&quot;https://cdn.jsdelivr.net/npm/leaflet@1.6.0/dist/leaflet.js&quot;&gt;&lt;/script&gt;\n",
       "    &lt;script src=&quot;https://code.jquery.com/jquery-1.12.4.min.js&quot;&gt;&lt;/script&gt;\n",
       "    &lt;script src=&quot;https://maxcdn.bootstrapcdn.com/bootstrap/3.2.0/js/bootstrap.min.js&quot;&gt;&lt;/script&gt;\n",
       "    &lt;script src=&quot;https://cdnjs.cloudflare.com/ajax/libs/Leaflet.awesome-markers/2.0.2/leaflet.awesome-markers.js&quot;&gt;&lt;/script&gt;\n",
       "    &lt;link rel=&quot;stylesheet&quot; href=&quot;https://cdn.jsdelivr.net/npm/leaflet@1.6.0/dist/leaflet.css&quot;/&gt;\n",
       "    &lt;link rel=&quot;stylesheet&quot; href=&quot;https://maxcdn.bootstrapcdn.com/bootstrap/3.2.0/css/bootstrap.min.css&quot;/&gt;\n",
       "    &lt;link rel=&quot;stylesheet&quot; href=&quot;https://maxcdn.bootstrapcdn.com/bootstrap/3.2.0/css/bootstrap-theme.min.css&quot;/&gt;\n",
       "    &lt;link rel=&quot;stylesheet&quot; href=&quot;https://maxcdn.bootstrapcdn.com/font-awesome/4.6.3/css/font-awesome.min.css&quot;/&gt;\n",
       "    &lt;link rel=&quot;stylesheet&quot; href=&quot;https://cdnjs.cloudflare.com/ajax/libs/Leaflet.awesome-markers/2.0.2/leaflet.awesome-markers.css&quot;/&gt;\n",
       "    &lt;link rel=&quot;stylesheet&quot; href=&quot;https://cdn.jsdelivr.net/gh/python-visualization/folium/folium/templates/leaflet.awesome.rotate.min.css&quot;/&gt;\n",
       "    \n",
       "            &lt;meta name=&quot;viewport&quot; content=&quot;width=device-width,\n",
       "                initial-scale=1.0, maximum-scale=1.0, user-scalable=no&quot; /&gt;\n",
       "            &lt;style&gt;\n",
       "                #map_6e9ca3344aff4fa784056a73f57e547d {\n",
       "                    position: relative;\n",
       "                    width: 100.0%;\n",
       "                    height: 100.0%;\n",
       "                    left: 0.0%;\n",
       "                    top: 0.0%;\n",
       "                }\n",
       "            &lt;/style&gt;\n",
       "        \n",
       "    \n",
       "                    &lt;style&gt;\n",
       "                        .foliumtooltip {\n",
       "                            \n",
       "                        }\n",
       "                       .foliumtooltip table{\n",
       "                            margin: auto;\n",
       "                        }\n",
       "                        .foliumtooltip tr{\n",
       "                            text-align: left;\n",
       "                        }\n",
       "                        .foliumtooltip th{\n",
       "                            padding: 2px; padding-right: 8px;\n",
       "                        }\n",
       "                    &lt;/style&gt;\n",
       "            \n",
       "    \n",
       "                    &lt;style&gt;\n",
       "                        .foliumpopup {\n",
       "                            margin: auto;\n",
       "                        }\n",
       "                       .foliumpopup table{\n",
       "                            margin: auto;\n",
       "                        }\n",
       "                        .foliumpopup tr{\n",
       "                            text-align: left;\n",
       "                        }\n",
       "                        .foliumpopup th{\n",
       "                            padding: 2px; padding-right: 8px;\n",
       "                        }\n",
       "                    &lt;/style&gt;\n",
       "            \n",
       "&lt;/head&gt;\n",
       "&lt;body&gt;    \n",
       "    \n",
       "            &lt;div class=&quot;folium-map&quot; id=&quot;map_6e9ca3344aff4fa784056a73f57e547d&quot; &gt;&lt;/div&gt;\n",
       "        \n",
       "&lt;/body&gt;\n",
       "&lt;script&gt;    \n",
       "    \n",
       "            var map_6e9ca3344aff4fa784056a73f57e547d = L.map(\n",
       "                &quot;map_6e9ca3344aff4fa784056a73f57e547d&quot;,\n",
       "                {\n",
       "                    center: [-19.304615020499966, 34.247829437500144],\n",
       "                    crs: L.CRS.EPSG3857,\n",
       "                    zoom: 10,\n",
       "                    zoomControl: true,\n",
       "                    preferCanvas: false,\n",
       "                }\n",
       "            );\n",
       "            L.control.scale().addTo(map_6e9ca3344aff4fa784056a73f57e547d);\n",
       "\n",
       "            \n",
       "\n",
       "        \n",
       "    \n",
       "            var tile_layer_6938f0dd3479afa573774f1d54177deb = L.tileLayer(\n",
       "                &quot;https://mt1.google.com/vt/lyrs=y\\u0026x={x}\\u0026y={y}\\u0026z={z}&quot;,\n",
       "                {&quot;attribution&quot;: &quot;Imagery @2022 Landsat/Copernicus, Map data @2022 Google&quot;, &quot;detectRetina&quot;: false, &quot;maxNativeZoom&quot;: 18, &quot;maxZoom&quot;: 18, &quot;minZoom&quot;: 0, &quot;noWrap&quot;: false, &quot;opacity&quot;: 1, &quot;subdomains&quot;: &quot;abc&quot;, &quot;tms&quot;: false}\n",
       "            ).addTo(map_6e9ca3344aff4fa784056a73f57e547d);\n",
       "        \n",
       "    \n",
       "            map_6e9ca3344aff4fa784056a73f57e547d.fitBounds(\n",
       "                [[-19.662500381999962, 33.93630981500013], [-18.94672965899997, 34.55934906000016]],\n",
       "                {}\n",
       "            );\n",
       "        \n",
       "    \n",
       "        function geo_json_770cbb3fbffd6e89c1a1832d6fe59e9f_styler(feature) {\n",
       "            switch(feature.id) {\n",
       "                default:\n",
       "                    return {&quot;color&quot;: &quot;red&quot;, &quot;fillOpacity&quot;: 0, &quot;weight&quot;: 3};\n",
       "            }\n",
       "        }\n",
       "        function geo_json_770cbb3fbffd6e89c1a1832d6fe59e9f_highlighter(feature) {\n",
       "            switch(feature.id) {\n",
       "                default:\n",
       "                    return {&quot;fillOpacity&quot;: 0.75};\n",
       "            }\n",
       "        }\n",
       "        function geo_json_770cbb3fbffd6e89c1a1832d6fe59e9f_pointToLayer(feature, latlng) {\n",
       "            var opts = {&quot;bubblingMouseEvents&quot;: true, &quot;color&quot;: &quot;#3388ff&quot;, &quot;dashArray&quot;: null, &quot;dashOffset&quot;: null, &quot;fill&quot;: true, &quot;fillColor&quot;: &quot;#3388ff&quot;, &quot;fillOpacity&quot;: 0.2, &quot;fillRule&quot;: &quot;evenodd&quot;, &quot;lineCap&quot;: &quot;round&quot;, &quot;lineJoin&quot;: &quot;round&quot;, &quot;opacity&quot;: 1.0, &quot;radius&quot;: 2, &quot;stroke&quot;: true, &quot;weight&quot;: 3};\n",
       "            \n",
       "            let style = geo_json_770cbb3fbffd6e89c1a1832d6fe59e9f_styler(feature)\n",
       "            Object.assign(opts, style)\n",
       "            \n",
       "            return new L.CircleMarker(latlng, opts)\n",
       "        }\n",
       "\n",
       "        function geo_json_770cbb3fbffd6e89c1a1832d6fe59e9f_onEachFeature(feature, layer) {\n",
       "            layer.on({\n",
       "                mouseout: function(e) {\n",
       "                    if(typeof e.target.setStyle === &quot;function&quot;){\n",
       "                        geo_json_770cbb3fbffd6e89c1a1832d6fe59e9f.resetStyle(e.target);\n",
       "                    }\n",
       "                },\n",
       "                mouseover: function(e) {\n",
       "                    if(typeof e.target.setStyle === &quot;function&quot;){\n",
       "                        const highlightStyle = geo_json_770cbb3fbffd6e89c1a1832d6fe59e9f_highlighter(e.target.feature)\n",
       "                        e.target.setStyle(highlightStyle);\n",
       "                    }\n",
       "                },\n",
       "            });\n",
       "        };\n",
       "        var geo_json_770cbb3fbffd6e89c1a1832d6fe59e9f = L.geoJson(null, {\n",
       "                onEachFeature: geo_json_770cbb3fbffd6e89c1a1832d6fe59e9f_onEachFeature,\n",
       "            \n",
       "                style: geo_json_770cbb3fbffd6e89c1a1832d6fe59e9f_styler,\n",
       "                pointToLayer: geo_json_770cbb3fbffd6e89c1a1832d6fe59e9f_pointToLayer\n",
       "        });\n",
       "\n",
       "        function geo_json_770cbb3fbffd6e89c1a1832d6fe59e9f_add (data) {\n",
       "            geo_json_770cbb3fbffd6e89c1a1832d6fe59e9f\n",
       "                .addData(data)\n",
       "                .addTo(map_6e9ca3344aff4fa784056a73f57e547d);\n",
       "        }\n",
       "            geo_json_770cbb3fbffd6e89c1a1832d6fe59e9f_add({&quot;bbox&quot;: [33.93630981500013, -19.662500381999962, 34.55934906000016, -18.94672965899997], &quot;features&quot;: [{&quot;bbox&quot;: [33.93630981500013, -19.662500381999962, 34.37181854300019, -18.94672965899997], &quot;geometry&quot;: {&quot;coordinates&quot;: [[[[33.988170623000144, -19.11355018599994], [34.00109100300017, -19.080110548999983], [34.031940459000054, -18.999450681999917], [34.0444297790001, -18.963201522999952], [34.054290771000126, -18.94672965899997], [34.064369201000034, -18.952640533999897], [34.073070526000095, -18.957429885999943], [34.07931137100019, -18.964939116999915], [34.08913040100009, -18.992090224999913], [34.096160888000156, -18.99856948799993], [34.152629852000075, -19.01379013099995], [34.16468048100012, -19.02175712499991], [34.208499908000135, -19.048240660999966], [34.25143051200007, -19.07216072199998], [34.264770507000094, -19.063400268999885], [34.27096939000006, -19.048080443999936], [34.276500702000135, -19.037822722999977], [34.28250122000014, -19.023239134999983], [34.29613113400006, -19.013450622999983], [34.30313110400016, -19.005540847999953], [34.31232071000005, -19.00337028599995], [34.32326889000012, -19.0028800959999], [34.331291199000134, -18.998540876999982], [34.33684921200006, -18.991119383999887], [34.34397125300018, -18.99222946099991], [34.35079193000013, -18.99333953799993], [34.33327865700011, -19.010669707999966], [34.335578918000124, -19.024850844999946], [34.329978942000025, -19.043481825999947], [34.313411713000164, -19.06530952399993], [34.32215118300013, -19.085699080999973], [34.333740234, -19.101091384999904], [34.338409425000066, -19.116109848999884], [34.29561996500013, -19.129257201999962], [34.288219453000124, -19.139049528999976], [34.27418899600019, -19.14827918899988], [34.26676940800019, -19.150539396999932], [34.247989655000026, -19.155450819999885], [34.25503158500004, -19.16654014699992], [34.262260437000066, -19.172830581999847], [34.28779983600015, -19.182849883999893], [34.30792999200003, -19.211208342999896], [34.31715011600011, -19.21974944999988], [34.32289886500013, -19.225088119999896], [34.33113098100006, -19.23833084099988], [34.328090669, -19.24848937999991], [34.33205032400019, -19.252710341999943], [34.335330963000104, -19.26011848399986], [34.34000015200019, -19.266050337999957], [34.352680206, -19.278810499999963], [34.34151840300012, -19.284559249999973], [34.33074188300003, -19.290029525999955], [34.30846023600003, -19.28462028499996], [34.280651093000074, -19.295280456999933], [34.27046966600011, -19.3013095849999], [34.25148010200007, -19.31599807799995], [34.250701905000085, -19.325397490999876], [34.21347045800019, -19.326009749999912], [34.20201110800008, -19.348960876999968], [34.20183181800019, -19.360708235999937], [34.20005035400004, -19.36587714999996], [34.23497009300013, -19.40926742599987], [34.25413131800008, -19.429639815999906], [34.266418456999986, -19.43724059899995], [34.30751037700003, -19.470830917999876], [34.31344986000005, -19.47090911899994], [34.322471618000066, -19.47052001899982], [34.334861756000066, -19.471910475999948], [34.37181854300019, -19.51357078599989], [34.36743927000015, -19.550138473999937], [34.364009857000156, -19.56763267399998], [34.324260712000125, -19.622877120999874], [34.310989380000024, -19.633342742999957], [34.30900192200005, -19.63795089699994], [34.31195068300008, -19.645460128999957], [34.1527786260001, -19.662500381999962], [34.14760971100009, -19.650377273999936], [34.12903976400008, -19.62162971499987], [34.12456130900017, -19.606689451999898], [34.115329742000085, -19.594099043999904], [34.09210968100007, -19.590911864999896], [34.08021163900008, -19.59297943199988], [34.07157897900004, -19.580110548999983], [34.05730056700014, -19.587259291999942], [34.04975891100014, -19.590179442999954], [34.04479980400009, -19.58650970399998], [34.036468506000176, -19.59083938699996], [34.02040100100004, -19.58745956299998], [34.014141083000084, -19.590650557999936], [34.00918960500002, -19.59535026599997], [34.001518249000185, -19.598260878999895], [33.993400573000145, -19.598949431999927], [33.981311799000025, -19.598417281999957], [33.9702110290001, -19.599660872999948], [33.96406936600005, -19.596858978999933], [33.95515060300011, -19.598861694999982], [33.94879913300019, -19.598310469999944], [33.94503021200018, -19.597009657999934], [33.93630981500013, -19.597030638999968], [33.938228607999974, -19.24284934999997], [33.988170623000144, -19.11355018599994]]]], &quot;type&quot;: &quot;MultiPolygon&quot;}, &quot;id&quot;: &quot;0&quot;, &quot;properties&quot;: {&quot;CC_1&quot;: &quot;&quot;, &quot;CC_2&quot;: &quot;&quot;, &quot;CC_3&quot;: &quot;&quot;, &quot;CC_4&quot;: &quot;&quot;, &quot;CC_5&quot;: &quot;&quot;, &quot;CONTINENT&quot;: &quot;Africa&quot;, &quot;COUNTRY&quot;: &quot;Mozambique&quot;, &quot;DISPUTEDBY&quot;: &quot;&quot;, &quot;ENGTYPE_1&quot;: &quot;Province&quot;, &quot;ENGTYPE_2&quot;: &quot;District&quot;, &quot;ENGTYPE_3&quot;: &quot;Locality&quot;, &quot;ENGTYPE_4&quot;: &quot;&quot;, &quot;ENGTYPE_5&quot;: &quot;&quot;, &quot;GID_0&quot;: &quot;MOZ&quot;, &quot;GID_1&quot;: &quot;MOZ.9_1&quot;, &quot;GID_2&quot;: &quot;MOZ.9.12_1&quot;, &quot;GID_3&quot;: &quot;MOZ.9.12.1_1&quot;, &quot;GID_4&quot;: &quot;&quot;, &quot;GID_5&quot;: &quot;&quot;, &quot;GOVERNEDBY&quot;: &quot;&quot;, &quot;HASC_1&quot;: &quot;MZ.SO&quot;, &quot;HASC_2&quot;: &quot;MZ.SO.NH&quot;, &quot;HASC_3&quot;: &quot;&quot;, &quot;ISO_1&quot;: &quot;MZ-S&quot;, &quot;NAME_0&quot;: &quot;Mozambique&quot;, &quot;NAME_1&quot;: &quot;Sofala&quot;, &quot;NAME_2&quot;: &quot;Nhamatanda&quot;, &quot;NAME_3&quot;: &quot;Nhamatanda&quot;, &quot;NAME_4&quot;: &quot;&quot;, &quot;NAME_5&quot;: &quot;&quot;, &quot;NL_NAME_1&quot;: &quot;&quot;, &quot;NL_NAME_2&quot;: &quot;&quot;, &quot;NL_NAME_3&quot;: &quot;&quot;, &quot;REGION&quot;: &quot;&quot;, &quot;SOVEREIGN&quot;: &quot;Mozambique&quot;, &quot;SUBCONT&quot;: &quot;&quot;, &quot;TYPE_1&quot;: &quot;Provincia&quot;, &quot;TYPE_2&quot;: &quot;Distrito&quot;, &quot;TYPE_3&quot;: &quot;Localidad&quot;, &quot;TYPE_4&quot;: &quot;&quot;, &quot;TYPE_5&quot;: &quot;&quot;, &quot;UID&quot;: 210968, &quot;VALIDFR_1&quot;: &quot;19541027&quot;, &quot;VALIDFR_2&quot;: &quot;Unknown&quot;, &quot;VALIDFR_3&quot;: &quot;Unknown&quot;, &quot;VALIDFR_4&quot;: &quot;&quot;, &quot;VARNAME_0&quot;: &quot;&quot;, &quot;VARNAME_1&quot;: &quot;&quot;, &quot;VARNAME_2&quot;: &quot;&quot;, &quot;VARNAME_3&quot;: &quot;&quot;, &quot;VARNAME_4&quot;: &quot;&quot;, &quot;VARREGION&quot;: &quot;&quot;, &quot;index&quot;: 330, &quot;layer&quot;: &quot;gadm_africa&quot;, &quot;path&quot;: &quot;C:\\\\Users\\\\Fang Yuan\\\\OneDrive - FrontierSI\\\\Documents\\\\DEAfrica\\\\gadm_africa.gpkg|layername=gadm_africa&quot;}, &quot;type&quot;: &quot;Feature&quot;}, {&quot;bbox&quot;: [34.20005035400004, -19.645460128999957, 34.55934906000016, -18.99333953799993], &quot;geometry&quot;: {&quot;coordinates&quot;: [[[[34.52595138600009, -19.601070403999927], [34.51811981100002, -19.604099272999974], [34.5012588510001, -19.601890563999916], [34.477561951000155, -19.60374069099987], [34.45793151800012, -19.606140135999908], [34.450729371000136, -19.62195014999992], [34.40999984700005, -19.63670921399995], [34.36199951300006, -19.640102384999864], [34.31195068300008, -19.645460128999957], [34.30900192200005, -19.63795089699994], [34.310989380000024, -19.633342742999957], [34.324260712000125, -19.622877120999874], [34.364009857000156, -19.56763267399998], [34.36743927000015, -19.550138473999937], [34.37181854300019, -19.51357078599989], [34.334861756000066, -19.471910475999948], [34.322471618000066, -19.47052001899982], [34.31344986000005, -19.47090911899994], [34.30751037700003, -19.470830917999876], [34.266418456999986, -19.43724059899995], [34.25413131800008, -19.429639815999906], [34.23497009300013, -19.40926742599987], [34.20005035400004, -19.36587714999996], [34.20183181800019, -19.360708235999937], [34.20201110800008, -19.348960876999968], [34.21347045800019, -19.326009749999912], [34.250701905000085, -19.325397490999876], [34.25148010200007, -19.31599807799995], [34.27046966600011, -19.3013095849999], [34.280651093000074, -19.295280456999933], [34.30846023600003, -19.28462028499996], [34.33074188300003, -19.290029525999955], [34.34151840300012, -19.284559249999973], [34.352680206, -19.278810499999963], [34.34000015200019, -19.266050337999957], [34.335330963000104, -19.26011848399986], [34.33205032400019, -19.252710341999943], [34.328090669, -19.24848937999991], [34.33113098100006, -19.23833084099988], [34.32289886500013, -19.225088119999896], [34.31715011600011, -19.21974944999988], [34.30792999200003, -19.211208342999896], [34.28779983600015, -19.182849883999893], [34.262260437000066, -19.172830581999847], [34.25503158500004, -19.16654014699992], [34.247989655000026, -19.155450819999885], [34.26676940800019, -19.150539396999932], [34.27418899600019, -19.14827918899988], [34.288219453000124, -19.139049528999976], [34.29561996500013, -19.129257201999962], [34.338409425000066, -19.116109848999884], [34.333740234, -19.101091384999904], [34.32215118300013, -19.085699080999973], [34.313411713000164, -19.06530952399993], [34.329978942000025, -19.043481825999947], [34.335578918000124, -19.024850844999946], [34.33327865700011, -19.010669707999966], [34.35079193000013, -18.99333953799993], [34.35681915300006, -18.994640348999894], [34.36098098800011, -18.99782943599996], [34.36671066300016, -18.99743079999996], [34.37105941700008, -18.995159148999846], [34.37451934700016, -18.997970579999958], [34.3798408510001, -19.014150618999906], [34.39352035500008, -19.037059783999894], [34.40779876700003, -19.056209563999914], [34.473800659000176, -19.082199096999943], [34.47710037200005, -19.094587324999907], [34.48450851400003, -19.09354019099993], [34.492938996000134, -19.101039884999977], [34.50017929000006, -19.113990783999952], [34.52151107800006, -19.13198280299997], [34.52764892500011, -19.13619041499993], [34.5308494570001, -19.14586067299996], [34.52928924500014, -19.15300941499993], [34.528221130000134, -19.159589765999954], [34.53001022300009, -19.16241073599997], [34.53404998800016, -19.163738250999927], [34.53417968800005, -19.169950483999912], [34.534301757000094, -19.17602729899994], [34.52325820900012, -19.187910080999927], [34.51626968400018, -19.200420378999922], [34.52204132000003, -19.206699370999956], [34.52621078500016, -19.21542930499993], [34.52761840900007, -19.22341918999996], [34.52864074700011, -19.23356056199998], [34.526580810000155, -19.239210128999957], [34.5277786260001, -19.2427806849999], [34.54233932600016, -19.24527931199998], [34.54996109000018, -19.24610137999997], [34.55294036800012, -19.25087928699986], [34.543178558000136, -19.262468336999973], [34.55768966800014, -19.278690336999944], [34.55015182500006, -19.275520323999956], [34.54917907700002, -19.281440733999943], [34.55934906000016, -19.302940367999838], [34.553619385000104, -19.308969497999954], [34.550289154000154, -19.316400526999928], [34.55001831100003, -19.325141905999942], [34.55815124500003, -19.325309753999875], [34.55469131500013, -19.330200195999964], [34.55744934100005, -19.358299254999906], [34.55464172300009, -19.376539229999878], [34.55440139800004, -19.39336967399987], [34.55424118100018, -19.403797149999946], [34.550468444000046, -19.402959822999946], [34.54592132600004, -19.399690626999927], [34.538990021000075, -19.404497146999972], [34.53395080500019, -19.40875053399992], [34.53049087600016, -19.413078306999978], [34.52785110499997, -19.421920775999922], [34.52964019800015, -19.424169538999934], [34.53588104300019, -19.423030852999943], [34.535610198000086, -19.43232917699993], [34.525508880000075, -19.433679579999932], [34.52275085500003, -19.438848494999945], [34.53049087600016, -19.44314956599993], [34.53940963800005, -19.443319320999933], [34.540019990000076, -19.447540281999977], [34.53258895900012, -19.44953727799998], [34.52249908400012, -19.453420639999877], [34.52598953200004, -19.46046066199989], [34.53134155300012, -19.460540770999955], [34.540039063000165, -19.454689026999915], [34.54468917900016, -19.452980041999922], [34.54243087800006, -19.45900726399998], [34.5322494510001, -19.466079710999963], [34.52790832500011, -19.471742630999813], [34.527240753000115, -19.479820251999968], [34.52339935300006, -19.485748289999947], [34.52946853600014, -19.494009016999883], [34.53612899800004, -19.49971961899996], [34.538829804000045, -19.50666999799995], [34.53646087600015, -19.51053047099998], [34.52425003100012, -19.5035114289999], [34.52336883500004, -19.506990432999885], [34.53699874800003, -19.524530409999954], [34.54658889800004, -19.514919280999834], [34.553230286000144, -19.516590117999954], [34.554660797999986, -19.528041838999968], [34.54507064900008, -19.535789489999956], [34.53884887700008, -19.544359205999967], [34.537490844000104, -19.553949355999976], [34.52698898400013, -19.55558013899997], [34.5215606700001, -19.56189155499993], [34.52462005600006, -19.588289259999954], [34.52444839499998, -19.598539351999932], [34.52595138600009, -19.601070403999927]]]], &quot;type&quot;: &quot;MultiPolygon&quot;}, &quot;id&quot;: &quot;1&quot;, &quot;properties&quot;: {&quot;CC_1&quot;: &quot;&quot;, &quot;CC_2&quot;: &quot;&quot;, &quot;CC_3&quot;: &quot;&quot;, &quot;CC_4&quot;: &quot;&quot;, &quot;CC_5&quot;: &quot;&quot;, &quot;CONTINENT&quot;: &quot;Africa&quot;, &quot;COUNTRY&quot;: &quot;Mozambique&quot;, &quot;DISPUTEDBY&quot;: &quot;&quot;, &quot;ENGTYPE_1&quot;: &quot;Province&quot;, &quot;ENGTYPE_2&quot;: &quot;District&quot;, &quot;ENGTYPE_3&quot;: &quot;Locality&quot;, &quot;ENGTYPE_4&quot;: &quot;&quot;, &quot;ENGTYPE_5&quot;: &quot;&quot;, &quot;GID_0&quot;: &quot;MOZ&quot;, &quot;GID_1&quot;: &quot;MOZ.9_1&quot;, &quot;GID_2&quot;: &quot;MOZ.9.12_1&quot;, &quot;GID_3&quot;: &quot;MOZ.9.12.2_1&quot;, &quot;GID_4&quot;: &quot;&quot;, &quot;GID_5&quot;: &quot;&quot;, &quot;GOVERNEDBY&quot;: &quot;&quot;, &quot;HASC_1&quot;: &quot;MZ.SO&quot;, &quot;HASC_2&quot;: &quot;MZ.SO.NH&quot;, &quot;HASC_3&quot;: &quot;&quot;, &quot;ISO_1&quot;: &quot;MZ-S&quot;, &quot;NAME_0&quot;: &quot;Mozambique&quot;, &quot;NAME_1&quot;: &quot;Sofala&quot;, &quot;NAME_2&quot;: &quot;Nhamatanda&quot;, &quot;NAME_3&quot;: &quot;Tica&quot;, &quot;NAME_4&quot;: &quot;&quot;, &quot;NAME_5&quot;: &quot;&quot;, &quot;NL_NAME_1&quot;: &quot;&quot;, &quot;NL_NAME_2&quot;: &quot;&quot;, &quot;NL_NAME_3&quot;: &quot;&quot;, &quot;REGION&quot;: &quot;&quot;, &quot;SOVEREIGN&quot;: &quot;Mozambique&quot;, &quot;SUBCONT&quot;: &quot;&quot;, &quot;TYPE_1&quot;: &quot;Provincia&quot;, &quot;TYPE_2&quot;: &quot;Distrito&quot;, &quot;TYPE_3&quot;: &quot;Localidad&quot;, &quot;TYPE_4&quot;: &quot;&quot;, &quot;TYPE_5&quot;: &quot;&quot;, &quot;UID&quot;: 210969, &quot;VALIDFR_1&quot;: &quot;19541027&quot;, &quot;VALIDFR_2&quot;: &quot;Unknown&quot;, &quot;VALIDFR_3&quot;: &quot;Unknown&quot;, &quot;VALIDFR_4&quot;: &quot;&quot;, &quot;VARNAME_0&quot;: &quot;&quot;, &quot;VARNAME_1&quot;: &quot;&quot;, &quot;VARNAME_2&quot;: &quot;&quot;, &quot;VARNAME_3&quot;: &quot;&quot;, &quot;VARNAME_4&quot;: &quot;&quot;, &quot;VARREGION&quot;: &quot;&quot;, &quot;index&quot;: 331, &quot;layer&quot;: &quot;gadm_africa&quot;, &quot;path&quot;: &quot;C:\\\\Users\\\\Fang Yuan\\\\OneDrive - FrontierSI\\\\Documents\\\\DEAfrica\\\\gadm_africa.gpkg|layername=gadm_africa&quot;}, &quot;type&quot;: &quot;Feature&quot;}], &quot;type&quot;: &quot;FeatureCollection&quot;});\n",
       "\n",
       "        \n",
       "    \n",
       "    geo_json_770cbb3fbffd6e89c1a1832d6fe59e9f.bindTooltip(\n",
       "    function(layer){\n",
       "    let div = L.DomUtil.create(&#x27;div&#x27;);\n",
       "    \n",
       "    let handleObject = feature=&gt;typeof(feature)==&#x27;object&#x27; ? JSON.stringify(feature) : feature;\n",
       "    let fields = [&quot;index&quot;, &quot;UID&quot;, &quot;GID_0&quot;, &quot;NAME_0&quot;, &quot;VARNAME_0&quot;, &quot;GID_1&quot;, &quot;NAME_1&quot;, &quot;VARNAME_1&quot;, &quot;NL_NAME_1&quot;, &quot;ISO_1&quot;, &quot;HASC_1&quot;, &quot;CC_1&quot;, &quot;TYPE_1&quot;, &quot;ENGTYPE_1&quot;, &quot;VALIDFR_1&quot;, &quot;GID_2&quot;, &quot;NAME_2&quot;, &quot;VARNAME_2&quot;, &quot;NL_NAME_2&quot;, &quot;HASC_2&quot;, &quot;CC_2&quot;, &quot;TYPE_2&quot;, &quot;ENGTYPE_2&quot;, &quot;VALIDFR_2&quot;, &quot;GID_3&quot;, &quot;NAME_3&quot;, &quot;VARNAME_3&quot;, &quot;NL_NAME_3&quot;, &quot;HASC_3&quot;, &quot;CC_3&quot;, &quot;TYPE_3&quot;, &quot;ENGTYPE_3&quot;, &quot;VALIDFR_3&quot;, &quot;GID_4&quot;, &quot;NAME_4&quot;, &quot;VARNAME_4&quot;, &quot;CC_4&quot;, &quot;TYPE_4&quot;, &quot;ENGTYPE_4&quot;, &quot;VALIDFR_4&quot;, &quot;GID_5&quot;, &quot;NAME_5&quot;, &quot;CC_5&quot;, &quot;TYPE_5&quot;, &quot;ENGTYPE_5&quot;, &quot;GOVERNEDBY&quot;, &quot;SOVEREIGN&quot;, &quot;DISPUTEDBY&quot;, &quot;REGION&quot;, &quot;VARREGION&quot;, &quot;COUNTRY&quot;, &quot;CONTINENT&quot;, &quot;SUBCONT&quot;, &quot;layer&quot;, &quot;path&quot;];\n",
       "    let aliases = [&quot;index&quot;, &quot;UID&quot;, &quot;GID_0&quot;, &quot;NAME_0&quot;, &quot;VARNAME_0&quot;, &quot;GID_1&quot;, &quot;NAME_1&quot;, &quot;VARNAME_1&quot;, &quot;NL_NAME_1&quot;, &quot;ISO_1&quot;, &quot;HASC_1&quot;, &quot;CC_1&quot;, &quot;TYPE_1&quot;, &quot;ENGTYPE_1&quot;, &quot;VALIDFR_1&quot;, &quot;GID_2&quot;, &quot;NAME_2&quot;, &quot;VARNAME_2&quot;, &quot;NL_NAME_2&quot;, &quot;HASC_2&quot;, &quot;CC_2&quot;, &quot;TYPE_2&quot;, &quot;ENGTYPE_2&quot;, &quot;VALIDFR_2&quot;, &quot;GID_3&quot;, &quot;NAME_3&quot;, &quot;VARNAME_3&quot;, &quot;NL_NAME_3&quot;, &quot;HASC_3&quot;, &quot;CC_3&quot;, &quot;TYPE_3&quot;, &quot;ENGTYPE_3&quot;, &quot;VALIDFR_3&quot;, &quot;GID_4&quot;, &quot;NAME_4&quot;, &quot;VARNAME_4&quot;, &quot;CC_4&quot;, &quot;TYPE_4&quot;, &quot;ENGTYPE_4&quot;, &quot;VALIDFR_4&quot;, &quot;GID_5&quot;, &quot;NAME_5&quot;, &quot;CC_5&quot;, &quot;TYPE_5&quot;, &quot;ENGTYPE_5&quot;, &quot;GOVERNEDBY&quot;, &quot;SOVEREIGN&quot;, &quot;DISPUTEDBY&quot;, &quot;REGION&quot;, &quot;VARREGION&quot;, &quot;COUNTRY&quot;, &quot;CONTINENT&quot;, &quot;SUBCONT&quot;, &quot;layer&quot;, &quot;path&quot;];\n",
       "    let table = &#x27;&lt;table&gt;&#x27; +\n",
       "        String(\n",
       "        fields.map(\n",
       "        (v,i)=&gt;\n",
       "        `&lt;tr&gt;\n",
       "            &lt;th&gt;${aliases[i]}&lt;/th&gt;\n",
       "            \n",
       "            &lt;td&gt;${handleObject(layer.feature.properties[v])}&lt;/td&gt;\n",
       "        &lt;/tr&gt;`).join(&#x27;&#x27;))\n",
       "    +&#x27;&lt;/table&gt;&#x27;;\n",
       "    div.innerHTML=table;\n",
       "    \n",
       "    return div\n",
       "    }\n",
       "    ,{&quot;className&quot;: &quot;foliumtooltip&quot;, &quot;sticky&quot;: true});\n",
       "                     \n",
       "    \n",
       "    geo_json_770cbb3fbffd6e89c1a1832d6fe59e9f.bindPopup(\n",
       "    function(layer){\n",
       "    let div = L.DomUtil.create(&#x27;div&#x27;);\n",
       "    \n",
       "    let handleObject = feature=&gt;typeof(feature)==&#x27;object&#x27; ? JSON.stringify(feature) : feature;\n",
       "    let fields = [&quot;index&quot;, &quot;UID&quot;, &quot;GID_0&quot;, &quot;NAME_0&quot;, &quot;VARNAME_0&quot;, &quot;GID_1&quot;, &quot;NAME_1&quot;, &quot;VARNAME_1&quot;, &quot;NL_NAME_1&quot;, &quot;ISO_1&quot;, &quot;HASC_1&quot;, &quot;CC_1&quot;, &quot;TYPE_1&quot;, &quot;ENGTYPE_1&quot;, &quot;VALIDFR_1&quot;, &quot;GID_2&quot;, &quot;NAME_2&quot;, &quot;VARNAME_2&quot;, &quot;NL_NAME_2&quot;, &quot;HASC_2&quot;, &quot;CC_2&quot;, &quot;TYPE_2&quot;, &quot;ENGTYPE_2&quot;, &quot;VALIDFR_2&quot;, &quot;GID_3&quot;, &quot;NAME_3&quot;, &quot;VARNAME_3&quot;, &quot;NL_NAME_3&quot;, &quot;HASC_3&quot;, &quot;CC_3&quot;, &quot;TYPE_3&quot;, &quot;ENGTYPE_3&quot;, &quot;VALIDFR_3&quot;, &quot;GID_4&quot;, &quot;NAME_4&quot;, &quot;VARNAME_4&quot;, &quot;CC_4&quot;, &quot;TYPE_4&quot;, &quot;ENGTYPE_4&quot;, &quot;VALIDFR_4&quot;, &quot;GID_5&quot;, &quot;NAME_5&quot;, &quot;CC_5&quot;, &quot;TYPE_5&quot;, &quot;ENGTYPE_5&quot;, &quot;GOVERNEDBY&quot;, &quot;SOVEREIGN&quot;, &quot;DISPUTEDBY&quot;, &quot;REGION&quot;, &quot;VARREGION&quot;, &quot;COUNTRY&quot;, &quot;CONTINENT&quot;, &quot;SUBCONT&quot;, &quot;layer&quot;, &quot;path&quot;];\n",
       "    let aliases = [&quot;index&quot;, &quot;UID&quot;, &quot;GID_0&quot;, &quot;NAME_0&quot;, &quot;VARNAME_0&quot;, &quot;GID_1&quot;, &quot;NAME_1&quot;, &quot;VARNAME_1&quot;, &quot;NL_NAME_1&quot;, &quot;ISO_1&quot;, &quot;HASC_1&quot;, &quot;CC_1&quot;, &quot;TYPE_1&quot;, &quot;ENGTYPE_1&quot;, &quot;VALIDFR_1&quot;, &quot;GID_2&quot;, &quot;NAME_2&quot;, &quot;VARNAME_2&quot;, &quot;NL_NAME_2&quot;, &quot;HASC_2&quot;, &quot;CC_2&quot;, &quot;TYPE_2&quot;, &quot;ENGTYPE_2&quot;, &quot;VALIDFR_2&quot;, &quot;GID_3&quot;, &quot;NAME_3&quot;, &quot;VARNAME_3&quot;, &quot;NL_NAME_3&quot;, &quot;HASC_3&quot;, &quot;CC_3&quot;, &quot;TYPE_3&quot;, &quot;ENGTYPE_3&quot;, &quot;VALIDFR_3&quot;, &quot;GID_4&quot;, &quot;NAME_4&quot;, &quot;VARNAME_4&quot;, &quot;CC_4&quot;, &quot;TYPE_4&quot;, &quot;ENGTYPE_4&quot;, &quot;VALIDFR_4&quot;, &quot;GID_5&quot;, &quot;NAME_5&quot;, &quot;CC_5&quot;, &quot;TYPE_5&quot;, &quot;ENGTYPE_5&quot;, &quot;GOVERNEDBY&quot;, &quot;SOVEREIGN&quot;, &quot;DISPUTEDBY&quot;, &quot;REGION&quot;, &quot;VARREGION&quot;, &quot;COUNTRY&quot;, &quot;CONTINENT&quot;, &quot;SUBCONT&quot;, &quot;layer&quot;, &quot;path&quot;];\n",
       "    let table = &#x27;&lt;table&gt;&#x27; +\n",
       "        String(\n",
       "        fields.map(\n",
       "        (v,i)=&gt;\n",
       "        `&lt;tr&gt;\n",
       "            &lt;th&gt;${aliases[i].toLocaleString()}&lt;/th&gt;\n",
       "            \n",
       "            &lt;td&gt;${handleObject(layer.feature.properties[v]).toLocaleString()}&lt;/td&gt;\n",
       "        &lt;/tr&gt;`).join(&#x27;&#x27;))\n",
       "    +&#x27;&lt;/table&gt;&#x27;;\n",
       "    div.innerHTML=table;\n",
       "    \n",
       "    return div\n",
       "    }\n",
       "    ,{&quot;className&quot;: &quot;foliumpopup&quot;});\n",
       "                     \n",
       "&lt;/script&gt;\" style=\"position:absolute;width:100%;height:100%;left:0;top:0;border:none !important;\" allowfullscreen webkitallowfullscreen mozallowfullscreen></iframe></div></div>"
      ],
      "text/plain": [
       "<folium.folium.Map at 0x7f2a5d4e4790>"
      ]
     },
     "execution_count": 76,
     "metadata": {},
     "output_type": "execute_result"
    }
   ],
   "source": [
    "area_of_interest_gdf.explore(\n",
    "    tiles = \"https://mt1.google.com/vt/lyrs=y&x={x}&y={y}&z={z}\", \n",
    "    attr ='Imagery @2022 Landsat/Copernicus, Map data @2022 Google',\n",
    "    popup=True,\n",
    "    cmap='viridis',\n",
    "    style_kwds=dict(color= 'red', fillOpacity= 0, weight= 3),\n",
    "    )"
   ]
  },
  {
   "cell_type": "markdown",
   "metadata": {
    "tags": []
   },
   "source": [
    "### Load the corresponding crop type map"
   ]
  },
  {
   "cell_type": "code",
   "execution_count": 77,
   "metadata": {},
   "outputs": [
    {
     "ename": "RasterioIOError",
     "evalue": "Results/Map/Nhamatanda_merged_croptype_prediction.tif: No such file or directory",
     "output_type": "error",
     "traceback": [
      "\u001b[0;31m---------------------------------------------------------------------------\u001b[0m",
      "\u001b[0;31mKeyError\u001b[0m                                  Traceback (most recent call last)",
      "\u001b[0;32m~/.local/lib/python3.8/site-packages/xarray/backends/file_manager.py\u001b[0m in \u001b[0;36m_acquire_with_cache_info\u001b[0;34m(self, needs_lock)\u001b[0m\n\u001b[1;32m    198\u001b[0m             \u001b[0;32mtry\u001b[0m\u001b[0;34m:\u001b[0m\u001b[0;34m\u001b[0m\u001b[0;34m\u001b[0m\u001b[0m\n\u001b[0;32m--> 199\u001b[0;31m                 \u001b[0mfile\u001b[0m \u001b[0;34m=\u001b[0m \u001b[0mself\u001b[0m\u001b[0;34m.\u001b[0m\u001b[0m_cache\u001b[0m\u001b[0;34m[\u001b[0m\u001b[0mself\u001b[0m\u001b[0;34m.\u001b[0m\u001b[0m_key\u001b[0m\u001b[0;34m]\u001b[0m\u001b[0;34m\u001b[0m\u001b[0;34m\u001b[0m\u001b[0m\n\u001b[0m\u001b[1;32m    200\u001b[0m             \u001b[0;32mexcept\u001b[0m \u001b[0mKeyError\u001b[0m\u001b[0;34m:\u001b[0m\u001b[0;34m\u001b[0m\u001b[0;34m\u001b[0m\u001b[0m\n",
      "\u001b[0;32m~/.local/lib/python3.8/site-packages/xarray/backends/lru_cache.py\u001b[0m in \u001b[0;36m__getitem__\u001b[0;34m(self, key)\u001b[0m\n\u001b[1;32m     52\u001b[0m         \u001b[0;32mwith\u001b[0m \u001b[0mself\u001b[0m\u001b[0;34m.\u001b[0m\u001b[0m_lock\u001b[0m\u001b[0;34m:\u001b[0m\u001b[0;34m\u001b[0m\u001b[0;34m\u001b[0m\u001b[0m\n\u001b[0;32m---> 53\u001b[0;31m             \u001b[0mvalue\u001b[0m \u001b[0;34m=\u001b[0m \u001b[0mself\u001b[0m\u001b[0;34m.\u001b[0m\u001b[0m_cache\u001b[0m\u001b[0;34m[\u001b[0m\u001b[0mkey\u001b[0m\u001b[0;34m]\u001b[0m\u001b[0;34m\u001b[0m\u001b[0;34m\u001b[0m\u001b[0m\n\u001b[0m\u001b[1;32m     54\u001b[0m             \u001b[0mself\u001b[0m\u001b[0;34m.\u001b[0m\u001b[0m_cache\u001b[0m\u001b[0;34m.\u001b[0m\u001b[0mmove_to_end\u001b[0m\u001b[0;34m(\u001b[0m\u001b[0mkey\u001b[0m\u001b[0;34m)\u001b[0m\u001b[0;34m\u001b[0m\u001b[0;34m\u001b[0m\u001b[0m\n",
      "\u001b[0;31mKeyError\u001b[0m: [<function open at 0x7f2a7319d9d0>, ('Results/Map/Nhamatanda_merged_croptype_prediction.tif',), 'r', (('sharing', False),)]",
      "\nDuring handling of the above exception, another exception occurred:\n",
      "\u001b[0;31mCPLE_OpenFailedError\u001b[0m                      Traceback (most recent call last)",
      "\u001b[0;32mrasterio/_base.pyx\u001b[0m in \u001b[0;36mrasterio._base.DatasetBase.__init__\u001b[0;34m()\u001b[0m\n",
      "\u001b[0;32mrasterio/_base.pyx\u001b[0m in \u001b[0;36mrasterio._base.open_dataset\u001b[0;34m()\u001b[0m\n",
      "\u001b[0;32mrasterio/_err.pyx\u001b[0m in \u001b[0;36mrasterio._err.exc_wrap_pointer\u001b[0;34m()\u001b[0m\n",
      "\u001b[0;31mCPLE_OpenFailedError\u001b[0m: Results/Map/Nhamatanda_merged_croptype_prediction.tif: No such file or directory",
      "\nDuring handling of the above exception, another exception occurred:\n",
      "\u001b[0;31mRasterioIOError\u001b[0m                           Traceback (most recent call last)",
      "\u001b[0;32m/tmp/ipykernel_1373/1175867680.py\u001b[0m in \u001b[0;36m<module>\u001b[0;34m\u001b[0m\n\u001b[1;32m      1\u001b[0m \u001b[0mcrop_type_path\u001b[0m\u001b[0;34m=\u001b[0m \u001b[0;34mf\"Results/Map/{district_name}_merged_croptype_prediction.tif\"\u001b[0m\u001b[0;34m\u001b[0m\u001b[0;34m\u001b[0m\u001b[0m\n\u001b[0;32m----> 2\u001b[0;31m \u001b[0mda_crop_type\u001b[0m\u001b[0;34m=\u001b[0m\u001b[0mrioxarray\u001b[0m\u001b[0;34m.\u001b[0m\u001b[0mopen_rasterio\u001b[0m\u001b[0;34m(\u001b[0m\u001b[0mcrop_type_path\u001b[0m\u001b[0;34m)\u001b[0m\u001b[0;34m.\u001b[0m\u001b[0msqueeze\u001b[0m\u001b[0;34m(\u001b[0m\u001b[0;34m)\u001b[0m\u001b[0;34m\u001b[0m\u001b[0;34m\u001b[0m\u001b[0m\n\u001b[0m",
      "\u001b[0;32m~/.local/lib/python3.8/site-packages/rioxarray/_io.py\u001b[0m in \u001b[0;36mopen_rasterio\u001b[0;34m(filename, parse_coordinates, chunks, cache, lock, masked, mask_and_scale, variable, group, default_name, decode_times, decode_timedelta, band_as_variable, **open_kwargs)\u001b[0m\n\u001b[1;32m   1085\u001b[0m         \u001b[0;32melse\u001b[0m\u001b[0;34m:\u001b[0m\u001b[0;34m\u001b[0m\u001b[0;34m\u001b[0m\u001b[0m\n\u001b[1;32m   1086\u001b[0m             \u001b[0mmanager\u001b[0m \u001b[0;34m=\u001b[0m \u001b[0mURIManager\u001b[0m\u001b[0;34m(\u001b[0m\u001b[0mfile_opener\u001b[0m\u001b[0;34m,\u001b[0m \u001b[0mfilename\u001b[0m\u001b[0;34m,\u001b[0m \u001b[0mmode\u001b[0m\u001b[0;34m=\u001b[0m\u001b[0;34m\"r\"\u001b[0m\u001b[0;34m,\u001b[0m \u001b[0mkwargs\u001b[0m\u001b[0;34m=\u001b[0m\u001b[0mopen_kwargs\u001b[0m\u001b[0;34m)\u001b[0m\u001b[0;34m\u001b[0m\u001b[0;34m\u001b[0m\u001b[0m\n\u001b[0;32m-> 1087\u001b[0;31m         \u001b[0mriods\u001b[0m \u001b[0;34m=\u001b[0m \u001b[0mmanager\u001b[0m\u001b[0;34m.\u001b[0m\u001b[0macquire\u001b[0m\u001b[0;34m(\u001b[0m\u001b[0;34m)\u001b[0m\u001b[0;34m\u001b[0m\u001b[0;34m\u001b[0m\u001b[0m\n\u001b[0m\u001b[1;32m   1088\u001b[0m         \u001b[0mcaptured_warnings\u001b[0m \u001b[0;34m=\u001b[0m \u001b[0mrio_warnings\u001b[0m\u001b[0;34m.\u001b[0m\u001b[0mcopy\u001b[0m\u001b[0;34m(\u001b[0m\u001b[0;34m)\u001b[0m\u001b[0;34m\u001b[0m\u001b[0;34m\u001b[0m\u001b[0m\n\u001b[1;32m   1089\u001b[0m \u001b[0;34m\u001b[0m\u001b[0m\n",
      "\u001b[0;32m~/.local/lib/python3.8/site-packages/xarray/backends/file_manager.py\u001b[0m in \u001b[0;36macquire\u001b[0;34m(self, needs_lock)\u001b[0m\n\u001b[1;32m    179\u001b[0m             \u001b[0mAn\u001b[0m \u001b[0mopen\u001b[0m \u001b[0mfile\u001b[0m \u001b[0mobject\u001b[0m\u001b[0;34m,\u001b[0m \u001b[0;32mas\u001b[0m \u001b[0mreturned\u001b[0m \u001b[0mby\u001b[0m\u001b[0;31m \u001b[0m\u001b[0;31m`\u001b[0m\u001b[0;31m`\u001b[0m\u001b[0mopener\u001b[0m\u001b[0;34m(\u001b[0m\u001b[0;34m*\u001b[0m\u001b[0margs\u001b[0m\u001b[0;34m,\u001b[0m \u001b[0;34m**\u001b[0m\u001b[0mkwargs\u001b[0m\u001b[0;34m)\u001b[0m\u001b[0;31m`\u001b[0m\u001b[0;31m`\u001b[0m\u001b[0;34m.\u001b[0m\u001b[0;34m\u001b[0m\u001b[0;34m\u001b[0m\u001b[0m\n\u001b[1;32m    180\u001b[0m         \"\"\"\n\u001b[0;32m--> 181\u001b[0;31m         \u001b[0mfile\u001b[0m\u001b[0;34m,\u001b[0m \u001b[0m_\u001b[0m \u001b[0;34m=\u001b[0m \u001b[0mself\u001b[0m\u001b[0;34m.\u001b[0m\u001b[0m_acquire_with_cache_info\u001b[0m\u001b[0;34m(\u001b[0m\u001b[0mneeds_lock\u001b[0m\u001b[0;34m)\u001b[0m\u001b[0;34m\u001b[0m\u001b[0;34m\u001b[0m\u001b[0m\n\u001b[0m\u001b[1;32m    182\u001b[0m         \u001b[0;32mreturn\u001b[0m \u001b[0mfile\u001b[0m\u001b[0;34m\u001b[0m\u001b[0;34m\u001b[0m\u001b[0m\n\u001b[1;32m    183\u001b[0m \u001b[0;34m\u001b[0m\u001b[0m\n",
      "\u001b[0;32m~/.local/lib/python3.8/site-packages/xarray/backends/file_manager.py\u001b[0m in \u001b[0;36m_acquire_with_cache_info\u001b[0;34m(self, needs_lock)\u001b[0m\n\u001b[1;32m    203\u001b[0m                     \u001b[0mkwargs\u001b[0m \u001b[0;34m=\u001b[0m \u001b[0mkwargs\u001b[0m\u001b[0;34m.\u001b[0m\u001b[0mcopy\u001b[0m\u001b[0;34m(\u001b[0m\u001b[0;34m)\u001b[0m\u001b[0;34m\u001b[0m\u001b[0;34m\u001b[0m\u001b[0m\n\u001b[1;32m    204\u001b[0m                     \u001b[0mkwargs\u001b[0m\u001b[0;34m[\u001b[0m\u001b[0;34m\"mode\"\u001b[0m\u001b[0;34m]\u001b[0m \u001b[0;34m=\u001b[0m \u001b[0mself\u001b[0m\u001b[0;34m.\u001b[0m\u001b[0m_mode\u001b[0m\u001b[0;34m\u001b[0m\u001b[0;34m\u001b[0m\u001b[0m\n\u001b[0;32m--> 205\u001b[0;31m                 \u001b[0mfile\u001b[0m \u001b[0;34m=\u001b[0m \u001b[0mself\u001b[0m\u001b[0;34m.\u001b[0m\u001b[0m_opener\u001b[0m\u001b[0;34m(\u001b[0m\u001b[0;34m*\u001b[0m\u001b[0mself\u001b[0m\u001b[0;34m.\u001b[0m\u001b[0m_args\u001b[0m\u001b[0;34m,\u001b[0m \u001b[0;34m**\u001b[0m\u001b[0mkwargs\u001b[0m\u001b[0;34m)\u001b[0m\u001b[0;34m\u001b[0m\u001b[0;34m\u001b[0m\u001b[0m\n\u001b[0m\u001b[1;32m    206\u001b[0m                 \u001b[0;32mif\u001b[0m \u001b[0mself\u001b[0m\u001b[0;34m.\u001b[0m\u001b[0m_mode\u001b[0m \u001b[0;34m==\u001b[0m \u001b[0;34m\"w\"\u001b[0m\u001b[0;34m:\u001b[0m\u001b[0;34m\u001b[0m\u001b[0;34m\u001b[0m\u001b[0m\n\u001b[1;32m    207\u001b[0m                     \u001b[0;31m# ensure file doesn't get overridden when opened again\u001b[0m\u001b[0;34m\u001b[0m\u001b[0;34m\u001b[0m\u001b[0;34m\u001b[0m\u001b[0m\n",
      "\u001b[0;32m/usr/local/lib/python3.8/dist-packages/rasterio/env.py\u001b[0m in \u001b[0;36mwrapper\u001b[0;34m(*args, **kwds)\u001b[0m\n\u001b[1;32m    440\u001b[0m \u001b[0;34m\u001b[0m\u001b[0m\n\u001b[1;32m    441\u001b[0m         \u001b[0;32mwith\u001b[0m \u001b[0menv_ctor\u001b[0m\u001b[0;34m(\u001b[0m\u001b[0msession\u001b[0m\u001b[0;34m=\u001b[0m\u001b[0msession\u001b[0m\u001b[0;34m)\u001b[0m\u001b[0;34m:\u001b[0m\u001b[0;34m\u001b[0m\u001b[0;34m\u001b[0m\u001b[0m\n\u001b[0;32m--> 442\u001b[0;31m             \u001b[0;32mreturn\u001b[0m \u001b[0mf\u001b[0m\u001b[0;34m(\u001b[0m\u001b[0;34m*\u001b[0m\u001b[0margs\u001b[0m\u001b[0;34m,\u001b[0m \u001b[0;34m**\u001b[0m\u001b[0mkwds\u001b[0m\u001b[0;34m)\u001b[0m\u001b[0;34m\u001b[0m\u001b[0;34m\u001b[0m\u001b[0m\n\u001b[0m\u001b[1;32m    443\u001b[0m \u001b[0;34m\u001b[0m\u001b[0m\n\u001b[1;32m    444\u001b[0m     \u001b[0;32mreturn\u001b[0m \u001b[0mwrapper\u001b[0m\u001b[0;34m\u001b[0m\u001b[0;34m\u001b[0m\u001b[0m\n",
      "\u001b[0;32m/usr/local/lib/python3.8/dist-packages/rasterio/__init__.py\u001b[0m in \u001b[0;36mopen\u001b[0;34m(fp, mode, driver, width, height, count, crs, transform, dtype, nodata, sharing, **kwargs)\u001b[0m\n\u001b[1;32m    275\u001b[0m \u001b[0;34m\u001b[0m\u001b[0m\n\u001b[1;32m    276\u001b[0m         \u001b[0;32mif\u001b[0m \u001b[0mmode\u001b[0m \u001b[0;34m==\u001b[0m \u001b[0;34m\"r\"\u001b[0m\u001b[0;34m:\u001b[0m\u001b[0;34m\u001b[0m\u001b[0;34m\u001b[0m\u001b[0m\n\u001b[0;32m--> 277\u001b[0;31m             \u001b[0mdataset\u001b[0m \u001b[0;34m=\u001b[0m \u001b[0mDatasetReader\u001b[0m\u001b[0;34m(\u001b[0m\u001b[0mpath\u001b[0m\u001b[0;34m,\u001b[0m \u001b[0mdriver\u001b[0m\u001b[0;34m=\u001b[0m\u001b[0mdriver\u001b[0m\u001b[0;34m,\u001b[0m \u001b[0msharing\u001b[0m\u001b[0;34m=\u001b[0m\u001b[0msharing\u001b[0m\u001b[0;34m,\u001b[0m \u001b[0;34m**\u001b[0m\u001b[0mkwargs\u001b[0m\u001b[0;34m)\u001b[0m\u001b[0;34m\u001b[0m\u001b[0;34m\u001b[0m\u001b[0m\n\u001b[0m\u001b[1;32m    278\u001b[0m         \u001b[0;32melif\u001b[0m \u001b[0mmode\u001b[0m \u001b[0;34m==\u001b[0m \u001b[0;34m\"r+\"\u001b[0m\u001b[0;34m:\u001b[0m\u001b[0;34m\u001b[0m\u001b[0;34m\u001b[0m\u001b[0m\n\u001b[1;32m    279\u001b[0m             dataset = get_writer_for_path(path, driver=driver)(\n",
      "\u001b[0;32mrasterio/_base.pyx\u001b[0m in \u001b[0;36mrasterio._base.DatasetBase.__init__\u001b[0;34m()\u001b[0m\n",
      "\u001b[0;31mRasterioIOError\u001b[0m: Results/Map/Nhamatanda_merged_croptype_prediction.tif: No such file or directory"
     ]
    }
   ],
   "source": [
    "crop_type_path= f\"Results/Map/{district_name}_merged_croptype_prediction.tif\"\n",
    "da_crop_type=rioxarray.open_rasterio(crop_type_path).squeeze()"
   ]
  },
  {
   "cell_type": "markdown",
   "metadata": {},
   "source": [
    "### Load the crop class labels dictionary"
   ]
  },
  {
   "cell_type": "code",
   "execution_count": 78,
   "metadata": {},
   "outputs": [],
   "source": [
    "# Dictionary with class labels from previous step\n",
    "labels_path = \"Results/Model/class_labels.json\"\n",
    "\n",
    "# Read the class label dictionary\n",
    "with open(labels_path, \"r\") as json_file:\n",
    "    labels_dict = json.load(json_file)"
   ]
  },
  {
   "cell_type": "markdown",
   "metadata": {},
   "source": [
    "## Calculate areas per polygon"
   ]
  },
  {
   "cell_type": "code",
   "execution_count": 79,
   "metadata": {},
   "outputs": [
    {
     "name": "stdout",
     "output_type": "stream",
     "text": [
      "Processing polygon 0\n"
     ]
    },
    {
     "name": "stderr",
     "output_type": "stream",
     "text": [
      "/usr/local/lib/python3.8/dist-packages/geopandas/geodataframe.py:1472: SettingWithCopyWarning: \n",
      "A value is trying to be set on a copy of a slice from a DataFrame.\n",
      "Try using .loc[row_indexer,col_indexer] = value instead\n",
      "\n",
      "See the caveats in the documentation: https://pandas.pydata.org/pandas-docs/stable/user_guide/indexing.html#returning-a-view-versus-a-copy\n",
      "  super().__setitem__(key, value)\n"
     ]
    },
    {
     "ename": "NameError",
     "evalue": "name 'da_crop_type' is not defined",
     "output_type": "error",
     "traceback": [
      "\u001b[0;31m---------------------------------------------------------------------------\u001b[0m",
      "\u001b[0;31mNameError\u001b[0m                                 Traceback (most recent call last)",
      "\u001b[0;32m/tmp/ipykernel_1373/2827285820.py\u001b[0m in \u001b[0;36m<module>\u001b[0;34m\u001b[0m\n\u001b[1;32m      7\u001b[0m     district_mask = xr_rasterize(\n\u001b[1;32m      8\u001b[0m         \u001b[0mgdf\u001b[0m\u001b[0;34m=\u001b[0m\u001b[0marea_of_interest_gdf\u001b[0m\u001b[0;34m.\u001b[0m\u001b[0miloc\u001b[0m\u001b[0;34m[\u001b[0m\u001b[0;34m[\u001b[0m\u001b[0mindex\u001b[0m\u001b[0;34m]\u001b[0m\u001b[0;34m]\u001b[0m\u001b[0;34m,\u001b[0m\u001b[0;34m\u001b[0m\u001b[0;34m\u001b[0m\u001b[0m\n\u001b[0;32m----> 9\u001b[0;31m         \u001b[0mda\u001b[0m\u001b[0;34m=\u001b[0m\u001b[0mda_crop_type\u001b[0m\u001b[0;34m,\u001b[0m\u001b[0;34m\u001b[0m\u001b[0;34m\u001b[0m\u001b[0m\n\u001b[0m\u001b[1;32m     10\u001b[0m         \u001b[0mtransform\u001b[0m\u001b[0;34m=\u001b[0m\u001b[0mda_crop_type\u001b[0m\u001b[0;34m.\u001b[0m\u001b[0mgeobox\u001b[0m\u001b[0;34m.\u001b[0m\u001b[0mtransform\u001b[0m\u001b[0;34m,\u001b[0m\u001b[0;34m\u001b[0m\u001b[0;34m\u001b[0m\u001b[0m\n\u001b[1;32m     11\u001b[0m         \u001b[0mcrs\u001b[0m\u001b[0;34m=\u001b[0m\u001b[0moutput_crs\u001b[0m\u001b[0;34m,\u001b[0m\u001b[0;34m\u001b[0m\u001b[0;34m\u001b[0m\u001b[0m\n",
      "\u001b[0;31mNameError\u001b[0m: name 'da_crop_type' is not defined"
     ]
    }
   ],
   "source": [
    "gdf_new=area_of_interest_gdf.copy()\n",
    "for index, district in area_of_interest_gdf.iterrows():\n",
    "\n",
    "    print(f\"Processing polygon {index}\")\n",
    "    area_of_interest_gdf.loc[index,'ID']=index\n",
    "    # Rasterize polygon\n",
    "    district_mask = xr_rasterize(\n",
    "        gdf=area_of_interest_gdf.iloc[[index]],\n",
    "        da=da_crop_type,\n",
    "        transform=da_crop_type.geobox.transform,\n",
    "        crs=output_crs,\n",
    "    )\n",
    "    for class_name, class_value in labels_dict.items():\n",
    "        # convert sq m to hectare\n",
    "        crop_type_area=np.sum(district_mask==class_value)/10000.0\n",
    "        attr_name=class_name+\"_area_hectare\"\n",
    "        gdf_new.loc[index, attr_name] = crop_type_area\n",
    "        print('area in hectare for {}: {}'.format(class_name,crop_type_area))"
   ]
  },
  {
   "cell_type": "markdown",
   "metadata": {},
   "source": [
    "## Plot areas histogram"
   ]
  },
  {
   "cell_type": "code",
   "execution_count": null,
   "metadata": {},
   "outputs": [],
   "source": [
    "gdf_new.plot(x='ID',y=[labels_dict.values()])"
   ]
  },
  {
   "cell_type": "markdown",
   "metadata": {},
   "source": [
    "## Export to files"
   ]
  },
  {
   "cell_type": "code",
   "execution_count": 58,
   "metadata": {},
   "outputs": [],
   "source": [
    "# Set results path\n",
    "output_folder = \"Results/Crop_stats\"\n",
    "if not os.path.exists(output_folder):\n",
    "    os.makedirs(output_folder)"
   ]
  },
  {
   "cell_type": "code",
   "execution_count": 59,
   "metadata": {},
   "outputs": [],
   "source": [
    "gdf_new.to_file(os.path.join(output_folder, f\"{district_name}_crop_areas.geojson\"))"
   ]
  },
  {
   "cell_type": "code",
   "execution_count": 60,
   "metadata": {},
   "outputs": [],
   "source": [
    "# convert to CSV by dropping geometry\n",
    "df = pd.DataFrame(gdf_new.drop(columns='geometry'))\n",
    "\n",
    "df.to_csv(os.path.join(output_folder, f\"{district_name}_crop_areas.csv\"))"
   ]
  }
 ],
 "metadata": {
  "kernelspec": {
   "display_name": "Python 3 (ipykernel)",
   "language": "python",
   "name": "python3"
  },
  "language_info": {
   "codemirror_mode": {
    "name": "ipython",
    "version": 3
   },
   "file_extension": ".py",
   "mimetype": "text/x-python",
   "name": "python",
   "nbconvert_exporter": "python",
   "pygments_lexer": "ipython3",
   "version": "3.8.10"
  }
 },
 "nbformat": 4,
 "nbformat_minor": 4
}
