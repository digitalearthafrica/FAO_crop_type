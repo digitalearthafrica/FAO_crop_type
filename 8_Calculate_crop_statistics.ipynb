{
 "cells": [
  {
   "cell_type": "markdown",
   "metadata": {},
   "source": [
    "# Calculate crop statistics "
   ]
  },
  {
   "cell_type": "markdown",
   "metadata": {},
   "source": [
    "## Background\n"
   ]
  },
  {
   "cell_type": "markdown",
   "metadata": {},
   "source": [
    "## Description\n",
    "\n",
    "This notebook demonstrates how to calculate crop area statistics using the crop type maps and input administration boundary shapefile. Results will be inspected and saved into tables."
   ]
  },
  {
   "cell_type": "markdown",
   "metadata": {},
   "source": [
    "## Getting started\n",
    "To run this analysis, run all the cells in the notebook, starting with the \"Load packages\" cell."
   ]
  },
  {
   "cell_type": "markdown",
   "metadata": {},
   "source": [
    "### Load packages"
   ]
  },
  {
   "cell_type": "code",
   "execution_count": 1,
   "metadata": {},
   "outputs": [
    {
     "name": "stderr",
     "output_type": "stream",
     "text": [
      "/usr/local/lib/python3.8/dist-packages/geopandas/_compat.py:112: UserWarning: The Shapely GEOS version (3.8.0-CAPI-1.13.1 ) is incompatible with the GEOS version PyGEOS was compiled with (3.10.3-CAPI-1.16.1). Conversions between both will be slow.\n",
      "  warnings.warn(\n"
     ]
    }
   ],
   "source": [
    "import os\n",
    "import pickle\n",
    "import json\n",
    "\n",
    "import datacube\n",
    "import geopandas as gpd\n",
    "import matplotlib.pyplot as plt\n",
    "import numpy as np\n",
    "import pandas as pd\n",
    "import rioxarray\n",
    "import xarray as xr\n",
    "from datacube.utils import geometry\n",
    "from deafrica_tools.spatial import xr_rasterize"
   ]
  },
  {
   "cell_type": "markdown",
   "metadata": {},
   "source": [
    "## Load admin boundaries and crop map\n",
    "\n",
    "We will load the data using coordinate reference system `EPSG:6933` for area calculation."
   ]
  },
  {
   "cell_type": "code",
   "execution_count": null,
   "metadata": {},
   "outputs": [],
   "source": [
    "output_crs = \"EPSG:6933\""
   ]
  },
  {
   "cell_type": "code",
   "execution_count": null,
   "metadata": {},
   "outputs": [],
   "source": [
    "admin_boundaries_file = (\n",
    "    \"Data/Mozambique_boundary.shp\"\n",
    ")\n",
    "area_of_interest_gdf = gpd.read_file(admin_boundaries_file).to_crs(output_crs)"
   ]
  },
  {
   "cell_type": "code",
   "execution_count": null,
   "metadata": {},
   "outputs": [],
   "source": [
    "crop_type_path='Results/Test_areas_mosaic_croptype_merged_prediction.tif'\n",
    "da_crop_type=rioxarray.open_rasterio(crop_type_path).squeeze()"
   ]
  },
  {
   "cell_type": "code",
   "execution_count": null,
   "metadata": {},
   "outputs": [],
   "source": [
    "# Dictionary with class labels from previous step\n",
    "labels_path = \"Results/class_labels.json\"\n",
    "\n",
    "# Read the class label dictionary\n",
    "with open(labels_path, \"r\") as json_file:\n",
    "    labels_dict = json.load(json_file)"
   ]
  },
  {
   "cell_type": "code",
   "execution_count": null,
   "metadata": {},
   "outputs": [],
   "source": [
    "area_of_interest_gdf.plot()"
   ]
  },
  {
   "cell_type": "markdown",
   "metadata": {},
   "source": [
    "## Calculate areas per polygon"
   ]
  },
  {
   "cell_type": "code",
   "execution_count": null,
   "metadata": {},
   "outputs": [],
   "source": [
    "gdf_new=area_of_interest_gdf.copy()\n",
    "for index, district in area_of_interest_gdf.iterrows():\n",
    "\n",
    "    print(f\"Processing polygon {index}\")\n",
    "    area_of_interest_gdf.loc[index,'ID']=index\n",
    "    # Rasterize polygon\n",
    "    district_mask = xr_rasterize(\n",
    "        gdf=area_of_interest_gdf.iloc[[index]],\n",
    "        da=da_crop_type,\n",
    "        transform=da_crop_type.geobox.transform,\n",
    "        crs=output_crs,\n",
    "    )\n",
    "    for class_name, class_value in labels_dict.items():\n",
    "        crop_type_area=np.sum(district_mask==class_value)/10000.0\n",
    "        attr_name=class_name+\"_area_km2\"\n",
    "        gdf_new.loc[index, attr_name] = crop_type_area\n",
    "        print('area in km2 for {}: {}'.format(class_name,crop_type_area))"
   ]
  },
  {
   "cell_type": "markdown",
   "metadata": {},
   "source": [
    "## Plot areas histogram"
   ]
  },
  {
   "cell_type": "code",
   "execution_count": null,
   "metadata": {},
   "outputs": [],
   "source": [
    "gdf_new.plot(x='ID',y=[labels_dict.values()])"
   ]
  },
  {
   "cell_type": "markdown",
   "metadata": {},
   "source": [
    "## Export to files"
   ]
  },
  {
   "cell_type": "code",
   "execution_count": null,
   "metadata": {},
   "outputs": [],
   "source": [
    "gdf_new.to_file(\"Results/crop_areas.geojson\")"
   ]
  },
  {
   "cell_type": "code",
   "execution_count": null,
   "metadata": {},
   "outputs": [],
   "source": [
    "# convert to CSV by dropping geometry\n",
    "df = pd.DataFrame(gdf_new.drop(columns='geometry'))\n",
    "\n",
    "df.to_csv(\"Results/crop_areas.csv\")"
   ]
  }
 ],
 "metadata": {
  "kernelspec": {
   "display_name": "Python 3 (ipykernel)",
   "language": "python",
   "name": "python3"
  },
  "language_info": {
   "codemirror_mode": {
    "name": "ipython",
    "version": 3
   },
   "file_extension": ".py",
   "mimetype": "text/x-python",
   "name": "python",
   "nbconvert_exporter": "python",
   "pygments_lexer": "ipython3",
   "version": "3.8.10"
  }
 },
 "nbformat": 4,
 "nbformat_minor": 4
}
