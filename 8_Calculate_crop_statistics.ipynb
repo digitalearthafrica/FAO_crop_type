{
 "cells": [
  {
   "cell_type": "markdown",
   "metadata": {},
   "source": [
    "# Calculate crop statistics "
   ]
  },
  {
   "cell_type": "markdown",
   "metadata": {},
   "source": [
    "## Background\n",
    "\n",
    "Crop type maps provide information on the distribution of different crops and can be used to generate crop area statistics, contributing to the understanding of agricultural production."
   ]
  },
  {
   "cell_type": "markdown",
   "metadata": {},
   "source": [
    "## Description\n",
    "\n",
    "This notebook demonstrates how to calculate crop area statistics using the crop type maps and input administration boundaries vector file.\n",
    "Results are inspected and saved into tables.\n"
   ]
  },
  {
   "cell_type": "markdown",
   "metadata": {},
   "source": [
    "## Getting started\n",
    "To run this analysis, run all the cells in the notebook, starting with the \"Load packages\" cell."
   ]
  },
  {
   "cell_type": "markdown",
   "metadata": {},
   "source": [
    "### Load packages"
   ]
  },
  {
   "cell_type": "code",
   "execution_count": 1,
   "metadata": {},
   "outputs": [
    {
     "name": "stderr",
     "output_type": "stream",
     "text": [
      "/usr/local/lib/python3.8/dist-packages/geopandas/_compat.py:112: UserWarning: The Shapely GEOS version (3.8.0-CAPI-1.13.1 ) is incompatible with the GEOS version PyGEOS was compiled with (3.10.3-CAPI-1.16.1). Conversions between both will be slow.\n",
      "  warnings.warn(\n"
     ]
    }
   ],
   "source": [
    "import os\n",
    "import pickle\n",
    "import json\n",
    "\n",
    "import datacube\n",
    "import geopandas as gpd\n",
    "import matplotlib.pyplot as plt\n",
    "import numpy as np\n",
    "import pandas as pd\n",
    "import rioxarray\n",
    "import xarray as xr\n",
    "from deafrica_tools.spatial import xr_rasterize"
   ]
  },
  {
   "cell_type": "markdown",
   "metadata": {},
   "source": [
    "## Load admin boundaries and crop map\n",
    "\n",
    "We will load the data using coordinate reference system `EPSG:6933` for area calculation. The reference system uses units in meter."
   ]
  },
  {
   "cell_type": "code",
   "execution_count": 2,
   "metadata": {},
   "outputs": [],
   "source": [
    "output_crs = \"EPSG:6933\""
   ]
  },
  {
   "cell_type": "markdown",
   "metadata": {},
   "source": [
    "Geometries for regions where crop areas are to be calculated are loaded in a GeoPandas Dataframe. For calculating crop areas within the entire country, one geometry for the country should be provided. For calculating crop areas within provinces, a list of geometries for the provinces should be provided.\n",
    "\n",
    "> For testing, we caculate crop areas for level 3 admin regions within a district where a crop type map has been generated.\n",
    "\n",
    "If no district name is provided, area statistics are calculated for level 1 provinces. However, this would only work if the national crop type map has been produced."
   ]
  },
  {
   "cell_type": "code",
   "execution_count": 3,
   "metadata": {},
   "outputs": [
    {
     "data": {
      "text/html": [
       "<div>\n",
       "<style scoped>\n",
       "    .dataframe tbody tr th:only-of-type {\n",
       "        vertical-align: middle;\n",
       "    }\n",
       "\n",
       "    .dataframe tbody tr th {\n",
       "        vertical-align: top;\n",
       "    }\n",
       "\n",
       "    .dataframe thead th {\n",
       "        text-align: right;\n",
       "    }\n",
       "</style>\n",
       "<table border=\"1\" class=\"dataframe\">\n",
       "  <thead>\n",
       "    <tr style=\"text-align: right;\">\n",
       "      <th></th>\n",
       "      <th>index</th>\n",
       "      <th>UID</th>\n",
       "      <th>GID_0</th>\n",
       "      <th>NAME_0</th>\n",
       "      <th>VARNAME_0</th>\n",
       "      <th>GID_1</th>\n",
       "      <th>NAME_1</th>\n",
       "      <th>VARNAME_1</th>\n",
       "      <th>NL_NAME_1</th>\n",
       "      <th>ISO_1</th>\n",
       "      <th>...</th>\n",
       "      <th>GOVERNEDBY</th>\n",
       "      <th>SOVEREIGN</th>\n",
       "      <th>DISPUTEDBY</th>\n",
       "      <th>REGION</th>\n",
       "      <th>VARREGION</th>\n",
       "      <th>COUNTRY</th>\n",
       "      <th>CONTINENT</th>\n",
       "      <th>SUBCONT</th>\n",
       "      <th>layer</th>\n",
       "      <th>geometry</th>\n",
       "    </tr>\n",
       "  </thead>\n",
       "  <tbody>\n",
       "    <tr>\n",
       "      <th>0</th>\n",
       "      <td>135</td>\n",
       "      <td>210773</td>\n",
       "      <td>MOZ</td>\n",
       "      <td>Mozambique</td>\n",
       "      <td></td>\n",
       "      <td>MOZ.4_1</td>\n",
       "      <td>Manica</td>\n",
       "      <td></td>\n",
       "      <td></td>\n",
       "      <td>MZ-B</td>\n",
       "      <td>...</td>\n",
       "      <td></td>\n",
       "      <td>Mozambique</td>\n",
       "      <td></td>\n",
       "      <td></td>\n",
       "      <td></td>\n",
       "      <td>Mozambique</td>\n",
       "      <td>Africa</td>\n",
       "      <td></td>\n",
       "      <td>gadm_africa</td>\n",
       "      <td>MULTIPOLYGON (((33.49312 -19.20316, 33.47890 -...</td>\n",
       "    </tr>\n",
       "  </tbody>\n",
       "</table>\n",
       "<p>1 rows × 55 columns</p>\n",
       "</div>"
      ],
      "text/plain": [
       "   index     UID GID_0      NAME_0 VARNAME_0    GID_1  NAME_1 VARNAME_1  \\\n",
       "0    135  210773   MOZ  Mozambique            MOZ.4_1  Manica             \n",
       "\n",
       "  NL_NAME_1 ISO_1  ... GOVERNEDBY   SOVEREIGN DISPUTEDBY REGION VARREGION  \\\n",
       "0            MZ-B  ...             Mozambique                               \n",
       "\n",
       "      COUNTRY CONTINENT SUBCONT        layer  \\\n",
       "0  Mozambique    Africa          gadm_africa   \n",
       "\n",
       "                                            geometry  \n",
       "0  MULTIPOLYGON (((33.49312 -19.20316, 33.47890 -...  \n",
       "\n",
       "[1 rows x 55 columns]"
      ]
     },
     "execution_count": 3,
     "metadata": {},
     "output_type": "execute_result"
    }
   ],
   "source": [
    "# select the district name for which a crop map is available\n",
    "district_name = \"Matsinho 2\" \n",
    "crop_map_path = \"Results/Map\"\n",
    "\n",
    "mozambique_admins = gpd.read_file(\"Data/Mozambique_admin_gadm_level3.gpkg\")\n",
    "if district_name is None:\n",
    "    area_of_interest_gdf = mozambique_admins.dissolve(by=\"GID_0\")\n",
    "    # Define the column name that is used to identify each area.\n",
    "    name_col = \"NAME_0\"\n",
    "    # Area name used to find the crop map \n",
    "    area_name = \"Mozambique\"\n",
    "else:\n",
    "    area_of_interest_gdf = mozambique_admins[mozambique_admins[\"NAME_3\"]==district_name]\n",
    "    # Define the column name that is used to identify each area.\n",
    "    name_col = \"NAME_3\"\n",
    "    # Area name used to find the crop map\n",
    "    area_name = district_name.replace(' ','_')\n",
    "\n",
    "area_of_interest_gdf.reset_index(inplace=True)\n",
    "area_of_interest_gdf.head()"
   ]
  },
  {
   "cell_type": "code",
   "execution_count": 4,
   "metadata": {},
   "outputs": [
    {
     "data": {
      "text/html": [
       "<div style=\"width:100%;\"><div style=\"position:relative;width:100%;height:0;padding-bottom:60%;\"><span style=\"color:#565656\">Make this Notebook Trusted to load map: File -> Trust Notebook</span><iframe srcdoc=\"&lt;!DOCTYPE html&gt;\n",
       "&lt;head&gt;    \n",
       "    &lt;meta http-equiv=&quot;content-type&quot; content=&quot;text/html; charset=UTF-8&quot; /&gt;\n",
       "    \n",
       "        &lt;script&gt;\n",
       "            L_NO_TOUCH = false;\n",
       "            L_DISABLE_3D = false;\n",
       "        &lt;/script&gt;\n",
       "    \n",
       "    &lt;style&gt;html, body {width: 100%;height: 100%;margin: 0;padding: 0;}&lt;/style&gt;\n",
       "    &lt;style&gt;#map {position:absolute;top:0;bottom:0;right:0;left:0;}&lt;/style&gt;\n",
       "    &lt;script src=&quot;https://cdn.jsdelivr.net/npm/leaflet@1.6.0/dist/leaflet.js&quot;&gt;&lt;/script&gt;\n",
       "    &lt;script src=&quot;https://code.jquery.com/jquery-1.12.4.min.js&quot;&gt;&lt;/script&gt;\n",
       "    &lt;script src=&quot;https://maxcdn.bootstrapcdn.com/bootstrap/3.2.0/js/bootstrap.min.js&quot;&gt;&lt;/script&gt;\n",
       "    &lt;script src=&quot;https://cdnjs.cloudflare.com/ajax/libs/Leaflet.awesome-markers/2.0.2/leaflet.awesome-markers.js&quot;&gt;&lt;/script&gt;\n",
       "    &lt;link rel=&quot;stylesheet&quot; href=&quot;https://cdn.jsdelivr.net/npm/leaflet@1.6.0/dist/leaflet.css&quot;/&gt;\n",
       "    &lt;link rel=&quot;stylesheet&quot; href=&quot;https://maxcdn.bootstrapcdn.com/bootstrap/3.2.0/css/bootstrap.min.css&quot;/&gt;\n",
       "    &lt;link rel=&quot;stylesheet&quot; href=&quot;https://maxcdn.bootstrapcdn.com/bootstrap/3.2.0/css/bootstrap-theme.min.css&quot;/&gt;\n",
       "    &lt;link rel=&quot;stylesheet&quot; href=&quot;https://maxcdn.bootstrapcdn.com/font-awesome/4.6.3/css/font-awesome.min.css&quot;/&gt;\n",
       "    &lt;link rel=&quot;stylesheet&quot; href=&quot;https://cdnjs.cloudflare.com/ajax/libs/Leaflet.awesome-markers/2.0.2/leaflet.awesome-markers.css&quot;/&gt;\n",
       "    &lt;link rel=&quot;stylesheet&quot; href=&quot;https://cdn.jsdelivr.net/gh/python-visualization/folium/folium/templates/leaflet.awesome.rotate.min.css&quot;/&gt;\n",
       "    \n",
       "            &lt;meta name=&quot;viewport&quot; content=&quot;width=device-width,\n",
       "                initial-scale=1.0, maximum-scale=1.0, user-scalable=no&quot; /&gt;\n",
       "            &lt;style&gt;\n",
       "                #map_4fe0bfdc6de6c6a4fe745550be5f32d4 {\n",
       "                    position: relative;\n",
       "                    width: 100.0%;\n",
       "                    height: 100.0%;\n",
       "                    left: 0.0%;\n",
       "                    top: 0.0%;\n",
       "                }\n",
       "            &lt;/style&gt;\n",
       "        \n",
       "    \n",
       "                    &lt;style&gt;\n",
       "                        .foliumtooltip {\n",
       "                            \n",
       "                        }\n",
       "                       .foliumtooltip table{\n",
       "                            margin: auto;\n",
       "                        }\n",
       "                        .foliumtooltip tr{\n",
       "                            text-align: left;\n",
       "                        }\n",
       "                        .foliumtooltip th{\n",
       "                            padding: 2px; padding-right: 8px;\n",
       "                        }\n",
       "                    &lt;/style&gt;\n",
       "            \n",
       "    \n",
       "                    &lt;style&gt;\n",
       "                        .foliumpopup {\n",
       "                            margin: auto;\n",
       "                        }\n",
       "                       .foliumpopup table{\n",
       "                            margin: auto;\n",
       "                        }\n",
       "                        .foliumpopup tr{\n",
       "                            text-align: left;\n",
       "                        }\n",
       "                        .foliumpopup th{\n",
       "                            padding: 2px; padding-right: 8px;\n",
       "                        }\n",
       "                    &lt;/style&gt;\n",
       "            \n",
       "&lt;/head&gt;\n",
       "&lt;body&gt;    \n",
       "    \n",
       "            &lt;div class=&quot;folium-map&quot; id=&quot;map_4fe0bfdc6de6c6a4fe745550be5f32d4&quot; &gt;&lt;/div&gt;\n",
       "        \n",
       "&lt;/body&gt;\n",
       "&lt;script&gt;    \n",
       "    \n",
       "            var map_4fe0bfdc6de6c6a4fe745550be5f32d4 = L.map(\n",
       "                &quot;map_4fe0bfdc6de6c6a4fe745550be5f32d4&quot;,\n",
       "                {\n",
       "                    center: [-19.232199668999897, 33.38021469050011],\n",
       "                    crs: L.CRS.EPSG3857,\n",
       "                    zoom: 10,\n",
       "                    zoomControl: true,\n",
       "                    preferCanvas: false,\n",
       "                }\n",
       "            );\n",
       "            L.control.scale().addTo(map_4fe0bfdc6de6c6a4fe745550be5f32d4);\n",
       "\n",
       "            \n",
       "\n",
       "        \n",
       "    \n",
       "            var tile_layer_5e377d20d761453e1d7499c7439bdf67 = L.tileLayer(\n",
       "                &quot;https://mt1.google.com/vt/lyrs=y\\u0026x={x}\\u0026y={y}\\u0026z={z}&quot;,\n",
       "                {&quot;attribution&quot;: &quot;Imagery @2022 Landsat/Copernicus, Map data @2022 Google&quot;, &quot;detectRetina&quot;: false, &quot;maxNativeZoom&quot;: 18, &quot;maxZoom&quot;: 18, &quot;minZoom&quot;: 0, &quot;noWrap&quot;: false, &quot;opacity&quot;: 1, &quot;subdomains&quot;: &quot;abc&quot;, &quot;tms&quot;: false}\n",
       "            ).addTo(map_4fe0bfdc6de6c6a4fe745550be5f32d4);\n",
       "        \n",
       "    \n",
       "            map_4fe0bfdc6de6c6a4fe745550be5f32d4.fitBounds(\n",
       "                [[-19.374769209999897, 33.26731109600007], [-19.089630127999897, 33.49311828500015]],\n",
       "                {}\n",
       "            );\n",
       "        \n",
       "    \n",
       "        function geo_json_de7f815643285fb82584c451eec336ca_styler(feature) {\n",
       "            switch(feature.id) {\n",
       "                default:\n",
       "                    return {&quot;color&quot;: &quot;red&quot;, &quot;fillOpacity&quot;: 0, &quot;weight&quot;: 3};\n",
       "            }\n",
       "        }\n",
       "        function geo_json_de7f815643285fb82584c451eec336ca_highlighter(feature) {\n",
       "            switch(feature.id) {\n",
       "                default:\n",
       "                    return {&quot;fillOpacity&quot;: 0.75};\n",
       "            }\n",
       "        }\n",
       "        function geo_json_de7f815643285fb82584c451eec336ca_pointToLayer(feature, latlng) {\n",
       "            var opts = {&quot;bubblingMouseEvents&quot;: true, &quot;color&quot;: &quot;#3388ff&quot;, &quot;dashArray&quot;: null, &quot;dashOffset&quot;: null, &quot;fill&quot;: true, &quot;fillColor&quot;: &quot;#3388ff&quot;, &quot;fillOpacity&quot;: 0.2, &quot;fillRule&quot;: &quot;evenodd&quot;, &quot;lineCap&quot;: &quot;round&quot;, &quot;lineJoin&quot;: &quot;round&quot;, &quot;opacity&quot;: 1.0, &quot;radius&quot;: 2, &quot;stroke&quot;: true, &quot;weight&quot;: 3};\n",
       "            \n",
       "            let style = geo_json_de7f815643285fb82584c451eec336ca_styler(feature)\n",
       "            Object.assign(opts, style)\n",
       "            \n",
       "            return new L.CircleMarker(latlng, opts)\n",
       "        }\n",
       "\n",
       "        function geo_json_de7f815643285fb82584c451eec336ca_onEachFeature(feature, layer) {\n",
       "            layer.on({\n",
       "                mouseout: function(e) {\n",
       "                    if(typeof e.target.setStyle === &quot;function&quot;){\n",
       "                        geo_json_de7f815643285fb82584c451eec336ca.resetStyle(e.target);\n",
       "                    }\n",
       "                },\n",
       "                mouseover: function(e) {\n",
       "                    if(typeof e.target.setStyle === &quot;function&quot;){\n",
       "                        const highlightStyle = geo_json_de7f815643285fb82584c451eec336ca_highlighter(e.target.feature)\n",
       "                        e.target.setStyle(highlightStyle);\n",
       "                    }\n",
       "                },\n",
       "            });\n",
       "        };\n",
       "        var geo_json_de7f815643285fb82584c451eec336ca = L.geoJson(null, {\n",
       "                onEachFeature: geo_json_de7f815643285fb82584c451eec336ca_onEachFeature,\n",
       "            \n",
       "                style: geo_json_de7f815643285fb82584c451eec336ca_styler,\n",
       "                pointToLayer: geo_json_de7f815643285fb82584c451eec336ca_pointToLayer\n",
       "        });\n",
       "\n",
       "        function geo_json_de7f815643285fb82584c451eec336ca_add (data) {\n",
       "            geo_json_de7f815643285fb82584c451eec336ca\n",
       "                .addData(data)\n",
       "                .addTo(map_4fe0bfdc6de6c6a4fe745550be5f32d4);\n",
       "        }\n",
       "            geo_json_de7f815643285fb82584c451eec336ca_add({&quot;bbox&quot;: [33.26731109600007, -19.374769209999897, 33.49311828500015, -19.089630127999897], &quot;features&quot;: [{&quot;bbox&quot;: [33.26731109600007, -19.374769209999897, 33.49311828500015, -19.089630127999897], &quot;geometry&quot;: {&quot;coordinates&quot;: [[[[33.49311828500015, -19.203159332999974], [33.47890090900012, -19.21480941799996], [33.46918869100017, -19.221189497999944], [33.45248031600016, -19.23265075699993], [33.4442710890001, -19.23800086999995], [33.43635177500016, -19.24691963099997], [33.42517089900019, -19.25875091499995], [33.41437912000015, -19.267299650999917], [33.405578613000046, -19.27376937899993], [33.40497970500019, -19.281469344999948], [33.39725875800008, -19.28701019199991], [33.384891509000056, -19.29499053899991], [33.376380920000145, -19.297138213999915], [33.36727905300012, -19.30304908599993], [33.36420059200003, -19.310747146999972], [33.36201095600006, -19.322599409999896], [33.363689423000096, -19.333019255999886], [33.35913085900006, -19.341749191999952], [33.34941101099997, -19.36560058499998], [33.34294891299999, -19.374769209999897], [33.336540223000156, -19.366529464999928], [33.329029084000126, -19.359481810999966], [33.29994964600019, -19.345359800999972], [33.30025863599997, -19.33410072399994], [33.29159927400008, -19.30072975199988], [33.279140473000155, -19.290760039999952], [33.28747177100007, -19.27790069499997], [33.27954864499998, -19.273939131999953], [33.28224182100007, -19.26915931799988], [33.29291915900012, -19.269260404999955], [33.28889083800016, -19.251222609999843], [33.289989472000116, -19.244087217999834], [33.286441803000116, -19.23356056199998], [33.28921890300006, -19.22915077099998], [33.29090118400006, -19.22220039299998], [33.28794097800011, -19.215999601999954], [33.27796936100009, -19.21129035899986], [33.27323150600017, -19.20611953699995], [33.26731109600007, -19.193798063999907], [33.27079010000017, -19.178220748999877], [33.27238845900018, -19.16506957999985], [33.27587890600006, -19.145160674999886], [33.28578186000016, -19.133520126999883], [33.29093933100012, -19.11952972399996], [33.29914855900006, -19.109577177999938], [33.31269836400003, -19.100961683999913], [33.32416915900012, -19.096471785999938], [33.33145904500003, -19.089630127999897], [33.385959626000044, -19.10714721599993], [33.385318756000174, -19.112009048999937], [33.386100768000176, -19.120929716999967], [33.389160156, -19.129110335999883], [33.38372039900014, -19.13586997999988], [33.37442016600005, -19.14271926799995], [33.37501907400008, -19.147600173999933], [33.40100097600009, -19.156919478999896], [33.40840911800018, -19.169229507999944], [33.42787933300008, -19.18774032499988], [33.43875121999997, -19.185861586999977], [33.449909210000044, -19.175069808999922], [33.460208893000015, -19.176479339999958], [33.471771240000066, -19.18794250499991], [33.48225021300016, -19.19442939599992], [33.48738861200013, -19.202129363999916], [33.49311828500015, -19.203159332999974]]]], &quot;type&quot;: &quot;MultiPolygon&quot;}, &quot;id&quot;: &quot;0&quot;, &quot;properties&quot;: {&quot;CC_1&quot;: &quot;&quot;, &quot;CC_2&quot;: &quot;&quot;, &quot;CC_3&quot;: &quot;&quot;, &quot;CC_4&quot;: &quot;&quot;, &quot;CC_5&quot;: &quot;&quot;, &quot;CONTINENT&quot;: &quot;Africa&quot;, &quot;COUNTRY&quot;: &quot;Mozambique&quot;, &quot;DISPUTEDBY&quot;: &quot;&quot;, &quot;ENGTYPE_1&quot;: &quot;Province&quot;, &quot;ENGTYPE_2&quot;: &quot;District&quot;, &quot;ENGTYPE_3&quot;: &quot;Locality&quot;, &quot;ENGTYPE_4&quot;: &quot;&quot;, &quot;ENGTYPE_5&quot;: &quot;&quot;, &quot;GID_0&quot;: &quot;MOZ&quot;, &quot;GID_1&quot;: &quot;MOZ.4_1&quot;, &quot;GID_2&quot;: &quot;MOZ.4.2_1&quot;, &quot;GID_3&quot;: &quot;MOZ.4.2.7_1&quot;, &quot;GID_4&quot;: &quot;&quot;, &quot;GID_5&quot;: &quot;&quot;, &quot;GOVERNEDBY&quot;: &quot;&quot;, &quot;HASC_1&quot;: &quot;MZ.MN&quot;, &quot;HASC_2&quot;: &quot;MZ.MN.GO&quot;, &quot;HASC_3&quot;: &quot;&quot;, &quot;ISO_1&quot;: &quot;MZ-B&quot;, &quot;NAME_0&quot;: &quot;Mozambique&quot;, &quot;NAME_1&quot;: &quot;Manica&quot;, &quot;NAME_2&quot;: &quot;Gondola&quot;, &quot;NAME_3&quot;: &quot;Matsinho 2&quot;, &quot;NAME_4&quot;: &quot;&quot;, &quot;NAME_5&quot;: &quot;&quot;, &quot;NL_NAME_1&quot;: &quot;&quot;, &quot;NL_NAME_2&quot;: &quot;&quot;, &quot;NL_NAME_3&quot;: &quot;&quot;, &quot;REGION&quot;: &quot;&quot;, &quot;SOVEREIGN&quot;: &quot;Mozambique&quot;, &quot;SUBCONT&quot;: &quot;&quot;, &quot;TYPE_1&quot;: &quot;Provincia&quot;, &quot;TYPE_2&quot;: &quot;Distrito&quot;, &quot;TYPE_3&quot;: &quot;Localidad&quot;, &quot;TYPE_4&quot;: &quot;&quot;, &quot;TYPE_5&quot;: &quot;&quot;, &quot;UID&quot;: 210773, &quot;VALIDFR_1&quot;: &quot;19541023&quot;, &quot;VALIDFR_2&quot;: &quot;Unknown&quot;, &quot;VALIDFR_3&quot;: &quot;Unknown&quot;, &quot;VALIDFR_4&quot;: &quot;&quot;, &quot;VARNAME_0&quot;: &quot;&quot;, &quot;VARNAME_1&quot;: &quot;&quot;, &quot;VARNAME_2&quot;: &quot;&quot;, &quot;VARNAME_3&quot;: &quot;&quot;, &quot;VARNAME_4&quot;: &quot;&quot;, &quot;VARREGION&quot;: &quot;&quot;, &quot;index&quot;: 135, &quot;layer&quot;: &quot;gadm_africa&quot;}, &quot;type&quot;: &quot;Feature&quot;}], &quot;type&quot;: &quot;FeatureCollection&quot;});\n",
       "\n",
       "        \n",
       "    \n",
       "    geo_json_de7f815643285fb82584c451eec336ca.bindTooltip(\n",
       "    function(layer){\n",
       "    let div = L.DomUtil.create(&#x27;div&#x27;);\n",
       "    \n",
       "    let handleObject = feature=&gt;typeof(feature)==&#x27;object&#x27; ? JSON.stringify(feature) : feature;\n",
       "    let fields = [&quot;index&quot;, &quot;UID&quot;, &quot;GID_0&quot;, &quot;NAME_0&quot;, &quot;VARNAME_0&quot;, &quot;GID_1&quot;, &quot;NAME_1&quot;, &quot;VARNAME_1&quot;, &quot;NL_NAME_1&quot;, &quot;ISO_1&quot;, &quot;HASC_1&quot;, &quot;CC_1&quot;, &quot;TYPE_1&quot;, &quot;ENGTYPE_1&quot;, &quot;VALIDFR_1&quot;, &quot;GID_2&quot;, &quot;NAME_2&quot;, &quot;VARNAME_2&quot;, &quot;NL_NAME_2&quot;, &quot;HASC_2&quot;, &quot;CC_2&quot;, &quot;TYPE_2&quot;, &quot;ENGTYPE_2&quot;, &quot;VALIDFR_2&quot;, &quot;GID_3&quot;, &quot;NAME_3&quot;, &quot;VARNAME_3&quot;, &quot;NL_NAME_3&quot;, &quot;HASC_3&quot;, &quot;CC_3&quot;, &quot;TYPE_3&quot;, &quot;ENGTYPE_3&quot;, &quot;VALIDFR_3&quot;, &quot;GID_4&quot;, &quot;NAME_4&quot;, &quot;VARNAME_4&quot;, &quot;CC_4&quot;, &quot;TYPE_4&quot;, &quot;ENGTYPE_4&quot;, &quot;VALIDFR_4&quot;, &quot;GID_5&quot;, &quot;NAME_5&quot;, &quot;CC_5&quot;, &quot;TYPE_5&quot;, &quot;ENGTYPE_5&quot;, &quot;GOVERNEDBY&quot;, &quot;SOVEREIGN&quot;, &quot;DISPUTEDBY&quot;, &quot;REGION&quot;, &quot;VARREGION&quot;, &quot;COUNTRY&quot;, &quot;CONTINENT&quot;, &quot;SUBCONT&quot;, &quot;layer&quot;];\n",
       "    let aliases = [&quot;index&quot;, &quot;UID&quot;, &quot;GID_0&quot;, &quot;NAME_0&quot;, &quot;VARNAME_0&quot;, &quot;GID_1&quot;, &quot;NAME_1&quot;, &quot;VARNAME_1&quot;, &quot;NL_NAME_1&quot;, &quot;ISO_1&quot;, &quot;HASC_1&quot;, &quot;CC_1&quot;, &quot;TYPE_1&quot;, &quot;ENGTYPE_1&quot;, &quot;VALIDFR_1&quot;, &quot;GID_2&quot;, &quot;NAME_2&quot;, &quot;VARNAME_2&quot;, &quot;NL_NAME_2&quot;, &quot;HASC_2&quot;, &quot;CC_2&quot;, &quot;TYPE_2&quot;, &quot;ENGTYPE_2&quot;, &quot;VALIDFR_2&quot;, &quot;GID_3&quot;, &quot;NAME_3&quot;, &quot;VARNAME_3&quot;, &quot;NL_NAME_3&quot;, &quot;HASC_3&quot;, &quot;CC_3&quot;, &quot;TYPE_3&quot;, &quot;ENGTYPE_3&quot;, &quot;VALIDFR_3&quot;, &quot;GID_4&quot;, &quot;NAME_4&quot;, &quot;VARNAME_4&quot;, &quot;CC_4&quot;, &quot;TYPE_4&quot;, &quot;ENGTYPE_4&quot;, &quot;VALIDFR_4&quot;, &quot;GID_5&quot;, &quot;NAME_5&quot;, &quot;CC_5&quot;, &quot;TYPE_5&quot;, &quot;ENGTYPE_5&quot;, &quot;GOVERNEDBY&quot;, &quot;SOVEREIGN&quot;, &quot;DISPUTEDBY&quot;, &quot;REGION&quot;, &quot;VARREGION&quot;, &quot;COUNTRY&quot;, &quot;CONTINENT&quot;, &quot;SUBCONT&quot;, &quot;layer&quot;];\n",
       "    let table = &#x27;&lt;table&gt;&#x27; +\n",
       "        String(\n",
       "        fields.map(\n",
       "        (v,i)=&gt;\n",
       "        `&lt;tr&gt;\n",
       "            &lt;th&gt;${aliases[i]}&lt;/th&gt;\n",
       "            \n",
       "            &lt;td&gt;${handleObject(layer.feature.properties[v])}&lt;/td&gt;\n",
       "        &lt;/tr&gt;`).join(&#x27;&#x27;))\n",
       "    +&#x27;&lt;/table&gt;&#x27;;\n",
       "    div.innerHTML=table;\n",
       "    \n",
       "    return div\n",
       "    }\n",
       "    ,{&quot;className&quot;: &quot;foliumtooltip&quot;, &quot;sticky&quot;: true});\n",
       "                     \n",
       "    \n",
       "    geo_json_de7f815643285fb82584c451eec336ca.bindPopup(\n",
       "    function(layer){\n",
       "    let div = L.DomUtil.create(&#x27;div&#x27;);\n",
       "    \n",
       "    let handleObject = feature=&gt;typeof(feature)==&#x27;object&#x27; ? JSON.stringify(feature) : feature;\n",
       "    let fields = [&quot;index&quot;, &quot;UID&quot;, &quot;GID_0&quot;, &quot;NAME_0&quot;, &quot;VARNAME_0&quot;, &quot;GID_1&quot;, &quot;NAME_1&quot;, &quot;VARNAME_1&quot;, &quot;NL_NAME_1&quot;, &quot;ISO_1&quot;, &quot;HASC_1&quot;, &quot;CC_1&quot;, &quot;TYPE_1&quot;, &quot;ENGTYPE_1&quot;, &quot;VALIDFR_1&quot;, &quot;GID_2&quot;, &quot;NAME_2&quot;, &quot;VARNAME_2&quot;, &quot;NL_NAME_2&quot;, &quot;HASC_2&quot;, &quot;CC_2&quot;, &quot;TYPE_2&quot;, &quot;ENGTYPE_2&quot;, &quot;VALIDFR_2&quot;, &quot;GID_3&quot;, &quot;NAME_3&quot;, &quot;VARNAME_3&quot;, &quot;NL_NAME_3&quot;, &quot;HASC_3&quot;, &quot;CC_3&quot;, &quot;TYPE_3&quot;, &quot;ENGTYPE_3&quot;, &quot;VALIDFR_3&quot;, &quot;GID_4&quot;, &quot;NAME_4&quot;, &quot;VARNAME_4&quot;, &quot;CC_4&quot;, &quot;TYPE_4&quot;, &quot;ENGTYPE_4&quot;, &quot;VALIDFR_4&quot;, &quot;GID_5&quot;, &quot;NAME_5&quot;, &quot;CC_5&quot;, &quot;TYPE_5&quot;, &quot;ENGTYPE_5&quot;, &quot;GOVERNEDBY&quot;, &quot;SOVEREIGN&quot;, &quot;DISPUTEDBY&quot;, &quot;REGION&quot;, &quot;VARREGION&quot;, &quot;COUNTRY&quot;, &quot;CONTINENT&quot;, &quot;SUBCONT&quot;, &quot;layer&quot;];\n",
       "    let aliases = [&quot;index&quot;, &quot;UID&quot;, &quot;GID_0&quot;, &quot;NAME_0&quot;, &quot;VARNAME_0&quot;, &quot;GID_1&quot;, &quot;NAME_1&quot;, &quot;VARNAME_1&quot;, &quot;NL_NAME_1&quot;, &quot;ISO_1&quot;, &quot;HASC_1&quot;, &quot;CC_1&quot;, &quot;TYPE_1&quot;, &quot;ENGTYPE_1&quot;, &quot;VALIDFR_1&quot;, &quot;GID_2&quot;, &quot;NAME_2&quot;, &quot;VARNAME_2&quot;, &quot;NL_NAME_2&quot;, &quot;HASC_2&quot;, &quot;CC_2&quot;, &quot;TYPE_2&quot;, &quot;ENGTYPE_2&quot;, &quot;VALIDFR_2&quot;, &quot;GID_3&quot;, &quot;NAME_3&quot;, &quot;VARNAME_3&quot;, &quot;NL_NAME_3&quot;, &quot;HASC_3&quot;, &quot;CC_3&quot;, &quot;TYPE_3&quot;, &quot;ENGTYPE_3&quot;, &quot;VALIDFR_3&quot;, &quot;GID_4&quot;, &quot;NAME_4&quot;, &quot;VARNAME_4&quot;, &quot;CC_4&quot;, &quot;TYPE_4&quot;, &quot;ENGTYPE_4&quot;, &quot;VALIDFR_4&quot;, &quot;GID_5&quot;, &quot;NAME_5&quot;, &quot;CC_5&quot;, &quot;TYPE_5&quot;, &quot;ENGTYPE_5&quot;, &quot;GOVERNEDBY&quot;, &quot;SOVEREIGN&quot;, &quot;DISPUTEDBY&quot;, &quot;REGION&quot;, &quot;VARREGION&quot;, &quot;COUNTRY&quot;, &quot;CONTINENT&quot;, &quot;SUBCONT&quot;, &quot;layer&quot;];\n",
       "    let table = &#x27;&lt;table&gt;&#x27; +\n",
       "        String(\n",
       "        fields.map(\n",
       "        (v,i)=&gt;\n",
       "        `&lt;tr&gt;\n",
       "            &lt;th&gt;${aliases[i].toLocaleString()}&lt;/th&gt;\n",
       "            \n",
       "            &lt;td&gt;${handleObject(layer.feature.properties[v]).toLocaleString()}&lt;/td&gt;\n",
       "        &lt;/tr&gt;`).join(&#x27;&#x27;))\n",
       "    +&#x27;&lt;/table&gt;&#x27;;\n",
       "    div.innerHTML=table;\n",
       "    \n",
       "    return div\n",
       "    }\n",
       "    ,{&quot;className&quot;: &quot;foliumpopup&quot;});\n",
       "                     \n",
       "&lt;/script&gt;\" style=\"position:absolute;width:100%;height:100%;left:0;top:0;border:none !important;\" allowfullscreen webkitallowfullscreen mozallowfullscreen></iframe></div></div>"
      ],
      "text/plain": [
       "<folium.folium.Map at 0x7f1c711b5fa0>"
      ]
     },
     "execution_count": 4,
     "metadata": {},
     "output_type": "execute_result"
    }
   ],
   "source": [
    "area_of_interest_gdf.explore(\n",
    "    tiles = \"https://mt1.google.com/vt/lyrs=y&x={x}&y={y}&z={z}\", \n",
    "    attr ='Imagery @2022 Landsat/Copernicus, Map data @2022 Google',\n",
    "    popup=True,\n",
    "    cmap='viridis',\n",
    "    style_kwds=dict(color= 'red', fillOpacity= 0, weight= 3),\n",
    "    )"
   ]
  },
  {
   "cell_type": "markdown",
   "metadata": {
    "tags": []
   },
   "source": [
    "### Load the corresponding crop type map"
   ]
  },
  {
   "cell_type": "code",
   "execution_count": 5,
   "metadata": {},
   "outputs": [],
   "source": [
    "crop_type_path= f\"{crop_map_path}/{area_name}_croptype_prediction.tif\"\n",
    "da_crop_type=rioxarray.open_rasterio(crop_type_path, chunks={'x':2000, 'y':2000}).squeeze()"
   ]
  },
  {
   "cell_type": "markdown",
   "metadata": {},
   "source": [
    "### Load the crop class labels dictionary"
   ]
  },
  {
   "cell_type": "code",
   "execution_count": 6,
   "metadata": {},
   "outputs": [],
   "source": [
    "# Dictionary with class labels from previous step\n",
    "labels_path = \"Results/Model/class_labels.json\"\n",
    "\n",
    "# Read the class label dictionary\n",
    "with open(labels_path, \"r\") as json_file:\n",
    "    labels_dict = json.load(json_file)"
   ]
  },
  {
   "cell_type": "markdown",
   "metadata": {},
   "source": [
    "## Calculate crop areas\n",
    "\n",
    "Crop areas are calculated by counting the number of pixels classified as each crop type."
   ]
  },
  {
   "cell_type": "markdown",
   "metadata": {},
   "source": [
    "For each area, we make a mask using its geometry and count the pixels labeled as each crop type in the area mask.\n",
    "\n",
    "> Each Sentinel-2 pixel cover 10 by 10 meters on the ground."
   ]
  },
  {
   "cell_type": "code",
   "execution_count": 7,
   "metadata": {},
   "outputs": [
    {
     "name": "stdout",
     "output_type": "stream",
     "text": [
      "Processing polygon 0\n",
      "Matsinho 2\n",
      "Area (hectare) for Maize (0): 7397.05\n",
      "Area (hectare) for Others (1): 3162.14\n",
      "Area (hectare) for Sesame (2): 2164.71\n",
      "Area (hectare) for Soy (3): 0.09\n"
     ]
    }
   ],
   "source": [
    "gdf_new=area_of_interest_gdf[[name_col, \"geometry\"]].copy()\n",
    "for index, district in area_of_interest_gdf.iterrows():\n",
    "\n",
    "    print(f\"Processing polygon {index}\")\n",
    "    #area_of_interest_gdf.loc[index,'ID']=index\n",
    "    print(area_of_interest_gdf.loc[index][name_col])\n",
    "    \n",
    "    # Rasterize polygon\n",
    "    district_mask = xr_rasterize(\n",
    "        gdf=area_of_interest_gdf.loc[[index]],\n",
    "        da=da_crop_type,\n",
    "        transform=da_crop_type.geobox.transform,\n",
    "        crs=output_crs,\n",
    "    )\n",
    "    area_cols = []\n",
    "    for class_name, class_value in labels_dict.items():\n",
    "        # convert pixel count to hectare; each pixel is 10 m by 10 m\n",
    "        crop_type_mask = da_crop_type.where(district_mask, da_crop_type.attrs['_FillValue'])==class_value\n",
    "        crop_type_area=np.sum(crop_type_mask).compute()/100.0\n",
    "        attr_name=class_name+\"_area_hectare\"\n",
    "        area_cols.append(attr_name)\n",
    "        gdf_new.loc[index, attr_name] = crop_type_area.data\n",
    "        print('Area (hectare) for {} ({}): {}'.format(class_name, class_value, crop_type_area.data))"
   ]
  },
  {
   "cell_type": "markdown",
   "metadata": {},
   "source": [
    "We then calculate the total cropped area and the porportion of each crop type."
   ]
  },
  {
   "cell_type": "code",
   "execution_count": 8,
   "metadata": {},
   "outputs": [],
   "source": [
    "# calculate total crop area\n",
    "total_area_attr = \"Crop_area_hectare\"\n",
    "total_area = gdf_new[area_cols].sum(axis=1)\n",
    "gdf_new[total_area_attr] = total_area\n",
    "\n",
    "# calculate percentage of different crop types\n",
    "for class_name, class_value in labels_dict.items():\n",
    "    gdf_new[class_name+\"_area_precent\"] = gdf_new[class_name+\"_area_hectare\"]*100/gdf_new[total_area_attr]"
   ]
  },
  {
   "cell_type": "code",
   "execution_count": 9,
   "metadata": {},
   "outputs": [
    {
     "data": {
      "text/html": [
       "<div>\n",
       "<style scoped>\n",
       "    .dataframe tbody tr th:only-of-type {\n",
       "        vertical-align: middle;\n",
       "    }\n",
       "\n",
       "    .dataframe tbody tr th {\n",
       "        vertical-align: top;\n",
       "    }\n",
       "\n",
       "    .dataframe thead th {\n",
       "        text-align: right;\n",
       "    }\n",
       "</style>\n",
       "<table border=\"1\" class=\"dataframe\">\n",
       "  <thead>\n",
       "    <tr style=\"text-align: right;\">\n",
       "      <th></th>\n",
       "      <th>NAME_3</th>\n",
       "      <th>geometry</th>\n",
       "      <th>Maize_area_hectare</th>\n",
       "      <th>Others_area_hectare</th>\n",
       "      <th>Sesame_area_hectare</th>\n",
       "      <th>Soy_area_hectare</th>\n",
       "      <th>Crop_area_hectare</th>\n",
       "      <th>Maize_area_precent</th>\n",
       "      <th>Others_area_precent</th>\n",
       "      <th>Sesame_area_precent</th>\n",
       "      <th>Soy_area_precent</th>\n",
       "    </tr>\n",
       "  </thead>\n",
       "  <tbody>\n",
       "    <tr>\n",
       "      <th>0</th>\n",
       "      <td>Matsinho 2</td>\n",
       "      <td>MULTIPOLYGON (((33.49312 -19.20316, 33.47890 -...</td>\n",
       "      <td>7397.05</td>\n",
       "      <td>3162.14</td>\n",
       "      <td>2164.71</td>\n",
       "      <td>0.09</td>\n",
       "      <td>12723.99</td>\n",
       "      <td>58.134673</td>\n",
       "      <td>24.851796</td>\n",
       "      <td>17.012824</td>\n",
       "      <td>0.000707</td>\n",
       "    </tr>\n",
       "  </tbody>\n",
       "</table>\n",
       "</div>"
      ],
      "text/plain": [
       "       NAME_3                                           geometry  \\\n",
       "0  Matsinho 2  MULTIPOLYGON (((33.49312 -19.20316, 33.47890 -...   \n",
       "\n",
       "   Maize_area_hectare  Others_area_hectare  Sesame_area_hectare  \\\n",
       "0             7397.05              3162.14              2164.71   \n",
       "\n",
       "   Soy_area_hectare  Crop_area_hectare  Maize_area_precent  \\\n",
       "0              0.09           12723.99           58.134673   \n",
       "\n",
       "   Others_area_precent  Sesame_area_precent  Soy_area_precent  \n",
       "0            24.851796            17.012824          0.000707  "
      ]
     },
     "execution_count": 9,
     "metadata": {},
     "output_type": "execute_result"
    }
   ],
   "source": [
    "gdf_new"
   ]
  },
  {
   "cell_type": "markdown",
   "metadata": {},
   "source": [
    "## Plot crop areas\n",
    "\n",
    "We can inspect the crop type areas calculated as a table or plot the areas as a bar chart."
   ]
  },
  {
   "cell_type": "code",
   "execution_count": 10,
   "metadata": {},
   "outputs": [
    {
     "data": {
      "text/html": [
       "<div>\n",
       "<style scoped>\n",
       "    .dataframe tbody tr th:only-of-type {\n",
       "        vertical-align: middle;\n",
       "    }\n",
       "\n",
       "    .dataframe tbody tr th {\n",
       "        vertical-align: top;\n",
       "    }\n",
       "\n",
       "    .dataframe thead th {\n",
       "        text-align: right;\n",
       "    }\n",
       "</style>\n",
       "<table border=\"1\" class=\"dataframe\">\n",
       "  <thead>\n",
       "    <tr style=\"text-align: right;\">\n",
       "      <th></th>\n",
       "      <th>Maize_area_hectare</th>\n",
       "      <th>Others_area_hectare</th>\n",
       "      <th>Sesame_area_hectare</th>\n",
       "      <th>Soy_area_hectare</th>\n",
       "    </tr>\n",
       "    <tr>\n",
       "      <th>NAME_3</th>\n",
       "      <th></th>\n",
       "      <th></th>\n",
       "      <th></th>\n",
       "      <th></th>\n",
       "    </tr>\n",
       "  </thead>\n",
       "  <tbody>\n",
       "    <tr>\n",
       "      <th>Matsinho 2</th>\n",
       "      <td>7397.0</td>\n",
       "      <td>3162.0</td>\n",
       "      <td>2165.0</td>\n",
       "      <td>0.0</td>\n",
       "    </tr>\n",
       "  </tbody>\n",
       "</table>\n",
       "</div>"
      ],
      "text/plain": [
       "            Maize_area_hectare  Others_area_hectare  Sesame_area_hectare  \\\n",
       "NAME_3                                                                     \n",
       "Matsinho 2              7397.0               3162.0               2165.0   \n",
       "\n",
       "            Soy_area_hectare  \n",
       "NAME_3                        \n",
       "Matsinho 2               0.0  "
      ]
     },
     "execution_count": 10,
     "metadata": {},
     "output_type": "execute_result"
    }
   ],
   "source": [
    "gdf_new[area_cols].set_index(gdf_new[name_col]).round()"
   ]
  },
  {
   "cell_type": "code",
   "execution_count": 11,
   "metadata": {},
   "outputs": [
    {
     "data": {
      "image/png": "[encoded data removed]",
      "text/plain": [
       "<Figure size 640x480 with 1 Axes>"
      ]
     },
     "metadata": {},
     "output_type": "display_data"
    }
   ],
   "source": [
    "gdf_new[area_cols].set_index(gdf_new[name_col]).plot.bar(stacked=True);"
   ]
  },
  {
   "cell_type": "markdown",
   "metadata": {},
   "source": [
    "And we can sum the areas for each crop type."
   ]
  },
  {
   "cell_type": "code",
   "execution_count": 12,
   "metadata": {},
   "outputs": [
    {
     "data": {
      "text/plain": [
       "Maize_area_hectare     7397.0\n",
       "Others_area_hectare    3162.0\n",
       "Sesame_area_hectare    2165.0\n",
       "Soy_area_hectare          0.0\n",
       "dtype: float64"
      ]
     },
     "execution_count": 12,
     "metadata": {},
     "output_type": "execute_result"
    }
   ],
   "source": [
    "gdf_new[area_cols].sum().round()"
   ]
  },
  {
   "cell_type": "markdown",
   "metadata": {},
   "source": [
    "## Save the results to tables"
   ]
  },
  {
   "cell_type": "code",
   "execution_count": 13,
   "metadata": {},
   "outputs": [],
   "source": [
    "# Set results path\n",
    "output_folder = \"Results/Crop_stats\"\n",
    "if not os.path.exists(output_folder):\n",
    "    os.makedirs(output_folder)"
   ]
  },
  {
   "cell_type": "code",
   "execution_count": 14,
   "metadata": {},
   "outputs": [],
   "source": [
    "# with geometries\n",
    "gdf_new.round(2).to_file(os.path.join(output_folder, f\"{area_name}_crop_areas.geojson\"))"
   ]
  },
  {
   "cell_type": "code",
   "execution_count": 15,
   "metadata": {},
   "outputs": [],
   "source": [
    "# convert to CSV by dropping geometry\n",
    "df = pd.DataFrame(gdf_new.round(2).drop(columns='geometry'))\n",
    "\n",
    "df.to_csv(os.path.join(output_folder, f\"{area_name}_crop_areas.csv\"))"
   ]
  }
 ],
 "metadata": {
  "kernelspec": {
   "display_name": "Python 3 (ipykernel)",
   "language": "python",
   "name": "python3"
  },
  "language_info": {
   "codemirror_mode": {
    "name": "ipython",
    "version": 3
   },
   "file_extension": ".py",
   "mimetype": "text/x-python",
   "name": "python",
   "nbconvert_exporter": "python",
   "pygments_lexer": "ipython3",
   "version": "3.8.10"
  }
 },
 "nbformat": 4,
 "nbformat_minor": 4
}
