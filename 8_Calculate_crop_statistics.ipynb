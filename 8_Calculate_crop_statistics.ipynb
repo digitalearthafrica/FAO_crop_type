{
 "cells": [
  {
   "cell_type": "markdown",
   "metadata": {},
   "source": [
    "# Calculate crop statistics "
   ]
  },
  {
   "cell_type": "markdown",
   "metadata": {},
   "source": [
    "## Background\n",
    "\n",
    "Crop type maps provide information on the distribution of different crops and can be used to generate crop area statistics, contributing to the understanding of agricultural production."
   ]
  },
  {
   "cell_type": "markdown",
   "metadata": {},
   "source": [
    "## Description\n",
    "\n",
    "This notebook demonstrates how to calculate crop area statistics using the crop type maps and input administration boundaries vector file.\n",
    "Results are inspected and saved into tables.\n"
   ]
  },
  {
   "cell_type": "markdown",
   "metadata": {},
   "source": [
    "## Getting started\n",
    "To run this analysis, run all the cells in the notebook, starting with the \"Load packages\" cell."
   ]
  },
  {
   "cell_type": "markdown",
   "metadata": {},
   "source": [
    "### Load packages"
   ]
  },
  {
   "cell_type": "code",
   "execution_count": 1,
   "metadata": {},
   "outputs": [
    {
     "name": "stderr",
     "output_type": "stream",
     "text": [
      "/usr/local/lib/python3.8/dist-packages/geopandas/_compat.py:112: UserWarning: The Shapely GEOS version (3.8.0-CAPI-1.13.1 ) is incompatible with the GEOS version PyGEOS was compiled with (3.10.3-CAPI-1.16.1). Conversions between both will be slow.\n",
      "  warnings.warn(\n"
     ]
    }
   ],
   "source": [
    "import os\n",
    "import pickle\n",
    "import json\n",
    "\n",
    "import datacube\n",
    "import geopandas as gpd\n",
    "import matplotlib.pyplot as plt\n",
    "import numpy as np\n",
    "import pandas as pd\n",
    "import rioxarray\n",
    "import xarray as xr\n",
    "from deafrica_tools.spatial import xr_rasterize"
   ]
  },
  {
   "cell_type": "markdown",
   "metadata": {},
   "source": [
    "## Load admin boundaries and crop map\n",
    "\n",
    "We will load the data using coordinate reference system `EPSG:6933` for area calculation. The reference system uses units in meter."
   ]
  },
  {
   "cell_type": "code",
   "execution_count": 2,
   "metadata": {},
   "outputs": [],
   "source": [
    "output_crs = \"EPSG:6933\""
   ]
  },
  {
   "cell_type": "markdown",
   "metadata": {},
   "source": [
    "Geometries for regions where crop areas are to be calculated are loaded in a GeoPandas Dataframe. For calculating crop areas within the entire country, one geometry for the country should be provided. For calculating crop areas within provinces, a list of geometries for the provinces should be provided.\n",
    "\n",
    "> For testing, we caculate crop areas for level 3 admin regions within a district where a crop type map has been generated.\n",
    "\n",
    "If no district name is provided, area statistics are calculated for level 1 provinces. However, this would only work if the national crop type map has been produced."
   ]
  },
  {
   "cell_type": "code",
   "execution_count": 3,
   "metadata": {},
   "outputs": [
    {
     "data": {
      "text/html": [
       "<div>\n",
       "<style scoped>\n",
       "    .dataframe tbody tr th:only-of-type {\n",
       "        vertical-align: middle;\n",
       "    }\n",
       "\n",
       "    .dataframe tbody tr th {\n",
       "        vertical-align: top;\n",
       "    }\n",
       "\n",
       "    .dataframe thead th {\n",
       "        text-align: right;\n",
       "    }\n",
       "</style>\n",
       "<table border=\"1\" class=\"dataframe\">\n",
       "  <thead>\n",
       "    <tr style=\"text-align: right;\">\n",
       "      <th></th>\n",
       "      <th>index</th>\n",
       "      <th>UID</th>\n",
       "      <th>GID_0</th>\n",
       "      <th>NAME_0</th>\n",
       "      <th>VARNAME_0</th>\n",
       "      <th>GID_1</th>\n",
       "      <th>NAME_1</th>\n",
       "      <th>VARNAME_1</th>\n",
       "      <th>NL_NAME_1</th>\n",
       "      <th>ISO_1</th>\n",
       "      <th>...</th>\n",
       "      <th>GOVERNEDBY</th>\n",
       "      <th>SOVEREIGN</th>\n",
       "      <th>DISPUTEDBY</th>\n",
       "      <th>REGION</th>\n",
       "      <th>VARREGION</th>\n",
       "      <th>COUNTRY</th>\n",
       "      <th>CONTINENT</th>\n",
       "      <th>SUBCONT</th>\n",
       "      <th>layer</th>\n",
       "      <th>geometry</th>\n",
       "    </tr>\n",
       "  </thead>\n",
       "  <tbody>\n",
       "    <tr>\n",
       "      <th>0</th>\n",
       "      <td>330</td>\n",
       "      <td>210968</td>\n",
       "      <td>MOZ</td>\n",
       "      <td>Mozambique</td>\n",
       "      <td></td>\n",
       "      <td>MOZ.9_1</td>\n",
       "      <td>Sofala</td>\n",
       "      <td></td>\n",
       "      <td></td>\n",
       "      <td>MZ-S</td>\n",
       "      <td>...</td>\n",
       "      <td></td>\n",
       "      <td>Mozambique</td>\n",
       "      <td></td>\n",
       "      <td></td>\n",
       "      <td></td>\n",
       "      <td>Mozambique</td>\n",
       "      <td>Africa</td>\n",
       "      <td></td>\n",
       "      <td>gadm_africa</td>\n",
       "      <td>MULTIPOLYGON (((33.98817 -19.11355, 34.00109 -...</td>\n",
       "    </tr>\n",
       "    <tr>\n",
       "      <th>1</th>\n",
       "      <td>331</td>\n",
       "      <td>210969</td>\n",
       "      <td>MOZ</td>\n",
       "      <td>Mozambique</td>\n",
       "      <td></td>\n",
       "      <td>MOZ.9_1</td>\n",
       "      <td>Sofala</td>\n",
       "      <td></td>\n",
       "      <td></td>\n",
       "      <td>MZ-S</td>\n",
       "      <td>...</td>\n",
       "      <td></td>\n",
       "      <td>Mozambique</td>\n",
       "      <td></td>\n",
       "      <td></td>\n",
       "      <td></td>\n",
       "      <td>Mozambique</td>\n",
       "      <td>Africa</td>\n",
       "      <td></td>\n",
       "      <td>gadm_africa</td>\n",
       "      <td>MULTIPOLYGON (((34.52595 -19.60107, 34.51812 -...</td>\n",
       "    </tr>\n",
       "  </tbody>\n",
       "</table>\n",
       "<p>2 rows × 55 columns</p>\n",
       "</div>"
      ],
      "text/plain": [
       "   index     UID GID_0      NAME_0 VARNAME_0    GID_1  NAME_1 VARNAME_1  \\\n",
       "0    330  210968   MOZ  Mozambique            MOZ.9_1  Sofala             \n",
       "1    331  210969   MOZ  Mozambique            MOZ.9_1  Sofala             \n",
       "\n",
       "  NL_NAME_1 ISO_1  ... GOVERNEDBY   SOVEREIGN DISPUTEDBY REGION VARREGION  \\\n",
       "0            MZ-S  ...             Mozambique                               \n",
       "1            MZ-S  ...             Mozambique                               \n",
       "\n",
       "      COUNTRY CONTINENT SUBCONT        layer  \\\n",
       "0  Mozambique    Africa          gadm_africa   \n",
       "1  Mozambique    Africa          gadm_africa   \n",
       "\n",
       "                                            geometry  \n",
       "0  MULTIPOLYGON (((33.98817 -19.11355, 34.00109 -...  \n",
       "1  MULTIPOLYGON (((34.52595 -19.60107, 34.51812 -...  \n",
       "\n",
       "[2 rows x 55 columns]"
      ]
     },
     "execution_count": 3,
     "metadata": {},
     "output_type": "execute_result"
    }
   ],
   "source": [
    "# select the district name for which a crop map is available\n",
    "district_name = \"Nhamatanda\" \n",
    "crop_map_path = \"Results/Map\"\n",
    "\n",
    "mozambique_admins = gpd.read_file(\"Data/Mozambique_admin_gadm_level3.gpkg\")\n",
    "if district_name is None:\n",
    "    area_of_interest_gdf = mozambique_admins.dissolve(by=\"GID_0\")\n",
    "    # Define the column name that is used to identify each area.\n",
    "    name_col = \"NAME_0\"\n",
    "    # Area name used to find the crop map \n",
    "    area_name = \"Mozambique\"\n",
    "else:\n",
    "    area_of_interest_gdf = mozambique_admins[mozambique_admins[\"NAME_2\"]==district_name]\n",
    "    # Define the column name that is used to identify each area.\n",
    "    name_col = \"NAME_3\"\n",
    "    # Area name used to find the crop map\n",
    "    area_name = district_name\n",
    "\n",
    "area_of_interest_gdf.reset_index(inplace=True)\n",
    "area_of_interest_gdf.head()"
   ]
  },
  {
   "cell_type": "code",
   "execution_count": 4,
   "metadata": {},
   "outputs": [
    {
     "data": {
      "text/html": [
       "<div style=\"width:100%;\"><div style=\"position:relative;width:100%;height:0;padding-bottom:60%;\"><span style=\"color:#565656\">Make this Notebook Trusted to load map: File -> Trust Notebook</span><iframe srcdoc=\"&lt;!DOCTYPE html&gt;\n",
       "&lt;head&gt;    \n",
       "    &lt;meta http-equiv=&quot;content-type&quot; content=&quot;text/html; charset=UTF-8&quot; /&gt;\n",
       "    \n",
       "        &lt;script&gt;\n",
       "            L_NO_TOUCH = false;\n",
       "            L_DISABLE_3D = false;\n",
       "        &lt;/script&gt;\n",
       "    \n",
       "    &lt;style&gt;html, body {width: 100%;height: 100%;margin: 0;padding: 0;}&lt;/style&gt;\n",
       "    &lt;style&gt;#map {position:absolute;top:0;bottom:0;right:0;left:0;}&lt;/style&gt;\n",
       "    &lt;script src=&quot;https://cdn.jsdelivr.net/npm/leaflet@1.6.0/dist/leaflet.js&quot;&gt;&lt;/script&gt;\n",
       "    &lt;script src=&quot;https://code.jquery.com/jquery-1.12.4.min.js&quot;&gt;&lt;/script&gt;\n",
       "    &lt;script src=&quot;https://maxcdn.bootstrapcdn.com/bootstrap/3.2.0/js/bootstrap.min.js&quot;&gt;&lt;/script&gt;\n",
       "    &lt;script src=&quot;https://cdnjs.cloudflare.com/ajax/libs/Leaflet.awesome-markers/2.0.2/leaflet.awesome-markers.js&quot;&gt;&lt;/script&gt;\n",
       "    &lt;link rel=&quot;stylesheet&quot; href=&quot;https://cdn.jsdelivr.net/npm/leaflet@1.6.0/dist/leaflet.css&quot;/&gt;\n",
       "    &lt;link rel=&quot;stylesheet&quot; href=&quot;https://maxcdn.bootstrapcdn.com/bootstrap/3.2.0/css/bootstrap.min.css&quot;/&gt;\n",
       "    &lt;link rel=&quot;stylesheet&quot; href=&quot;https://maxcdn.bootstrapcdn.com/bootstrap/3.2.0/css/bootstrap-theme.min.css&quot;/&gt;\n",
       "    &lt;link rel=&quot;stylesheet&quot; href=&quot;https://maxcdn.bootstrapcdn.com/font-awesome/4.6.3/css/font-awesome.min.css&quot;/&gt;\n",
       "    &lt;link rel=&quot;stylesheet&quot; href=&quot;https://cdnjs.cloudflare.com/ajax/libs/Leaflet.awesome-markers/2.0.2/leaflet.awesome-markers.css&quot;/&gt;\n",
       "    &lt;link rel=&quot;stylesheet&quot; href=&quot;https://cdn.jsdelivr.net/gh/python-visualization/folium/folium/templates/leaflet.awesome.rotate.min.css&quot;/&gt;\n",
       "    \n",
       "            &lt;meta name=&quot;viewport&quot; content=&quot;width=device-width,\n",
       "                initial-scale=1.0, maximum-scale=1.0, user-scalable=no&quot; /&gt;\n",
       "            &lt;style&gt;\n",
       "                #map_e5cd9a69da7ff091f68f28d69b9e6434 {\n",
       "                    position: relative;\n",
       "                    width: 100.0%;\n",
       "                    height: 100.0%;\n",
       "                    left: 0.0%;\n",
       "                    top: 0.0%;\n",
       "                }\n",
       "            &lt;/style&gt;\n",
       "        \n",
       "    \n",
       "                    &lt;style&gt;\n",
       "                        .foliumtooltip {\n",
       "                            \n",
       "                        }\n",
       "                       .foliumtooltip table{\n",
       "                            margin: auto;\n",
       "                        }\n",
       "                        .foliumtooltip tr{\n",
       "                            text-align: left;\n",
       "                        }\n",
       "                        .foliumtooltip th{\n",
       "                            padding: 2px; padding-right: 8px;\n",
       "                        }\n",
       "                    &lt;/style&gt;\n",
       "            \n",
       "    \n",
       "                    &lt;style&gt;\n",
       "                        .foliumpopup {\n",
       "                            margin: auto;\n",
       "                        }\n",
       "                       .foliumpopup table{\n",
       "                            margin: auto;\n",
       "                        }\n",
       "                        .foliumpopup tr{\n",
       "                            text-align: left;\n",
       "                        }\n",
       "                        .foliumpopup th{\n",
       "                            padding: 2px; padding-right: 8px;\n",
       "                        }\n",
       "                    &lt;/style&gt;\n",
       "            \n",
       "&lt;/head&gt;\n",
       "&lt;body&gt;    \n",
       "    \n",
       "            &lt;div class=&quot;folium-map&quot; id=&quot;map_e5cd9a69da7ff091f68f28d69b9e6434&quot; &gt;&lt;/div&gt;\n",
       "        \n",
       "&lt;/body&gt;\n",
       "&lt;script&gt;    \n",
       "    \n",
       "            var map_e5cd9a69da7ff091f68f28d69b9e6434 = L.map(\n",
       "                &quot;map_e5cd9a69da7ff091f68f28d69b9e6434&quot;,\n",
       "                {\n",
       "                    center: [-19.304615020499966, 34.247829437500144],\n",
       "                    crs: L.CRS.EPSG3857,\n",
       "                    zoom: 10,\n",
       "                    zoomControl: true,\n",
       "                    preferCanvas: false,\n",
       "                }\n",
       "            );\n",
       "            L.control.scale().addTo(map_e5cd9a69da7ff091f68f28d69b9e6434);\n",
       "\n",
       "            \n",
       "\n",
       "        \n",
       "    \n",
       "            var tile_layer_70b314c28a14849cf46623c7fea250aa = L.tileLayer(\n",
       "                &quot;https://mt1.google.com/vt/lyrs=y\\u0026x={x}\\u0026y={y}\\u0026z={z}&quot;,\n",
       "                {&quot;attribution&quot;: &quot;Imagery @2022 Landsat/Copernicus, Map data @2022 Google&quot;, &quot;detectRetina&quot;: false, &quot;maxNativeZoom&quot;: 18, &quot;maxZoom&quot;: 18, &quot;minZoom&quot;: 0, &quot;noWrap&quot;: false, &quot;opacity&quot;: 1, &quot;subdomains&quot;: &quot;abc&quot;, &quot;tms&quot;: false}\n",
       "            ).addTo(map_e5cd9a69da7ff091f68f28d69b9e6434);\n",
       "        \n",
       "    \n",
       "            map_e5cd9a69da7ff091f68f28d69b9e6434.fitBounds(\n",
       "                [[-19.662500381999962, 33.93630981500013], [-18.94672965899997, 34.55934906000016]],\n",
       "                {}\n",
       "            );\n",
       "        \n",
       "    \n",
       "        function geo_json_b2722046fb243a05cbeab1636095d853_styler(feature) {\n",
       "            switch(feature.id) {\n",
       "                default:\n",
       "                    return {&quot;color&quot;: &quot;red&quot;, &quot;fillOpacity&quot;: 0, &quot;weight&quot;: 3};\n",
       "            }\n",
       "        }\n",
       "        function geo_json_b2722046fb243a05cbeab1636095d853_highlighter(feature) {\n",
       "            switch(feature.id) {\n",
       "                default:\n",
       "                    return {&quot;fillOpacity&quot;: 0.75};\n",
       "            }\n",
       "        }\n",
       "        function geo_json_b2722046fb243a05cbeab1636095d853_pointToLayer(feature, latlng) {\n",
       "            var opts = {&quot;bubblingMouseEvents&quot;: true, &quot;color&quot;: &quot;#3388ff&quot;, &quot;dashArray&quot;: null, &quot;dashOffset&quot;: null, &quot;fill&quot;: true, &quot;fillColor&quot;: &quot;#3388ff&quot;, &quot;fillOpacity&quot;: 0.2, &quot;fillRule&quot;: &quot;evenodd&quot;, &quot;lineCap&quot;: &quot;round&quot;, &quot;lineJoin&quot;: &quot;round&quot;, &quot;opacity&quot;: 1.0, &quot;radius&quot;: 2, &quot;stroke&quot;: true, &quot;weight&quot;: 3};\n",
       "            \n",
       "            let style = geo_json_b2722046fb243a05cbeab1636095d853_styler(feature)\n",
       "            Object.assign(opts, style)\n",
       "            \n",
       "            return new L.CircleMarker(latlng, opts)\n",
       "        }\n",
       "\n",
       "        function geo_json_b2722046fb243a05cbeab1636095d853_onEachFeature(feature, layer) {\n",
       "            layer.on({\n",
       "                mouseout: function(e) {\n",
       "                    if(typeof e.target.setStyle === &quot;function&quot;){\n",
       "                        geo_json_b2722046fb243a05cbeab1636095d853.resetStyle(e.target);\n",
       "                    }\n",
       "                },\n",
       "                mouseover: function(e) {\n",
       "                    if(typeof e.target.setStyle === &quot;function&quot;){\n",
       "                        const highlightStyle = geo_json_b2722046fb243a05cbeab1636095d853_highlighter(e.target.feature)\n",
       "                        e.target.setStyle(highlightStyle);\n",
       "                    }\n",
       "                },\n",
       "            });\n",
       "        };\n",
       "        var geo_json_b2722046fb243a05cbeab1636095d853 = L.geoJson(null, {\n",
       "                onEachFeature: geo_json_b2722046fb243a05cbeab1636095d853_onEachFeature,\n",
       "            \n",
       "                style: geo_json_b2722046fb243a05cbeab1636095d853_styler,\n",
       "                pointToLayer: geo_json_b2722046fb243a05cbeab1636095d853_pointToLayer\n",
       "        });\n",
       "\n",
       "        function geo_json_b2722046fb243a05cbeab1636095d853_add (data) {\n",
       "            geo_json_b2722046fb243a05cbeab1636095d853\n",
       "                .addData(data)\n",
       "                .addTo(map_e5cd9a69da7ff091f68f28d69b9e6434);\n",
       "        }\n",
       "            geo_json_b2722046fb243a05cbeab1636095d853_add({&quot;bbox&quot;: [33.93630981500013, -19.662500381999962, 34.55934906000016, -18.94672965899997], &quot;features&quot;: [{&quot;bbox&quot;: [33.93630981500013, -19.662500381999962, 34.37181854300019, -18.94672965899997], &quot;geometry&quot;: {&quot;coordinates&quot;: [[[[33.988170623000144, -19.11355018599994], [34.00109100300017, -19.080110548999983], [34.031940459000054, -18.999450681999917], [34.0444297790001, -18.963201522999952], [34.054290771000126, -18.94672965899997], [34.064369201000034, -18.952640533999897], [34.073070526000095, -18.957429885999943], [34.07931137100019, -18.964939116999915], [34.08913040100009, -18.992090224999913], [34.096160888000156, -18.99856948799993], [34.152629852000075, -19.01379013099995], [34.16468048100012, -19.02175712499991], [34.208499908000135, -19.048240660999966], [34.25143051200007, -19.07216072199998], [34.264770507000094, -19.063400268999885], [34.27096939000006, -19.048080443999936], [34.276500702000135, -19.037822722999977], [34.28250122000014, -19.023239134999983], [34.29613113400006, -19.013450622999983], [34.30313110400016, -19.005540847999953], [34.31232071000005, -19.00337028599995], [34.32326889000012, -19.0028800959999], [34.331291199000134, -18.998540876999982], [34.33684921200006, -18.991119383999887], [34.34397125300018, -18.99222946099991], [34.35079193000013, -18.99333953799993], [34.33327865700011, -19.010669707999966], [34.335578918000124, -19.024850844999946], [34.329978942000025, -19.043481825999947], [34.313411713000164, -19.06530952399993], [34.32215118300013, -19.085699080999973], [34.333740234000004, -19.101091384999904], [34.338409425000066, -19.116109848999884], [34.29561996500013, -19.129257201999962], [34.288219453000124, -19.139049528999976], [34.27418899600019, -19.14827918899988], [34.26676940800019, -19.150539396999932], [34.247989655000026, -19.155450819999885], [34.25503158500004, -19.16654014699992], [34.262260437000066, -19.172830581999847], [34.28779983600015, -19.182849883999893], [34.30792999200003, -19.211208342999896], [34.31715011600011, -19.21974944999988], [34.32289886500013, -19.225088119999896], [34.33113098100006, -19.23833084099988], [34.328090669000005, -19.24848937999991], [34.33205032400019, -19.252710341999943], [34.335330963000104, -19.26011848399986], [34.34000015200019, -19.266050337999957], [34.352680206, -19.278810499999963], [34.34151840300012, -19.284559249999973], [34.33074188300003, -19.290029525999955], [34.30846023600003, -19.28462028499996], [34.280651093000074, -19.295280456999933], [34.27046966600011, -19.3013095849999], [34.25148010200007, -19.31599807799995], [34.250701905000085, -19.325397490999876], [34.21347045800019, -19.326009749999912], [34.20201110800008, -19.348960876999968], [34.20183181800019, -19.360708235999937], [34.20005035400004, -19.36587714999996], [34.23497009300013, -19.40926742599987], [34.25413131800008, -19.429639815999906], [34.266418456999986, -19.43724059899995], [34.30751037700003, -19.470830917999876], [34.31344986000005, -19.47090911899994], [34.322471618000066, -19.47052001899982], [34.334861756000066, -19.471910475999948], [34.37181854300019, -19.51357078599989], [34.36743927000015, -19.550138473999937], [34.364009857000156, -19.56763267399998], [34.324260712000125, -19.622877120999874], [34.310989380000024, -19.633342742999957], [34.30900192200005, -19.63795089699994], [34.31195068300008, -19.645460128999957], [34.1527786260001, -19.662500381999962], [34.14760971100009, -19.650377273999936], [34.12903976400008, -19.62162971499987], [34.12456130900017, -19.606689451999898], [34.115329742000085, -19.594099043999904], [34.09210968100007, -19.590911864999896], [34.08021163900008, -19.59297943199988], [34.07157897900004, -19.580110548999983], [34.05730056700014, -19.587259291999942], [34.04975891100014, -19.590179442999954], [34.04479980400009, -19.58650970399998], [34.036468506000176, -19.59083938699996], [34.02040100100004, -19.58745956299998], [34.014141083000084, -19.590650557999936], [34.00918960500002, -19.59535026599997], [34.001518249000185, -19.598260878999895], [33.993400573000145, -19.598949431999927], [33.981311799000025, -19.598417281999957], [33.9702110290001, -19.599660872999948], [33.96406936600005, -19.596858978999933], [33.95515060300011, -19.598861694999982], [33.94879913300019, -19.598310469999944], [33.94503021200018, -19.597009657999934], [33.93630981500013, -19.597030638999968], [33.938228607999974, -19.24284934999997], [33.988170623000144, -19.11355018599994]]]], &quot;type&quot;: &quot;MultiPolygon&quot;}, &quot;id&quot;: &quot;0&quot;, &quot;properties&quot;: {&quot;CC_1&quot;: &quot;&quot;, &quot;CC_2&quot;: &quot;&quot;, &quot;CC_3&quot;: &quot;&quot;, &quot;CC_4&quot;: &quot;&quot;, &quot;CC_5&quot;: &quot;&quot;, &quot;CONTINENT&quot;: &quot;Africa&quot;, &quot;COUNTRY&quot;: &quot;Mozambique&quot;, &quot;DISPUTEDBY&quot;: &quot;&quot;, &quot;ENGTYPE_1&quot;: &quot;Province&quot;, &quot;ENGTYPE_2&quot;: &quot;District&quot;, &quot;ENGTYPE_3&quot;: &quot;Locality&quot;, &quot;ENGTYPE_4&quot;: &quot;&quot;, &quot;ENGTYPE_5&quot;: &quot;&quot;, &quot;GID_0&quot;: &quot;MOZ&quot;, &quot;GID_1&quot;: &quot;MOZ.9_1&quot;, &quot;GID_2&quot;: &quot;MOZ.9.12_1&quot;, &quot;GID_3&quot;: &quot;MOZ.9.12.1_1&quot;, &quot;GID_4&quot;: &quot;&quot;, &quot;GID_5&quot;: &quot;&quot;, &quot;GOVERNEDBY&quot;: &quot;&quot;, &quot;HASC_1&quot;: &quot;MZ.SO&quot;, &quot;HASC_2&quot;: &quot;MZ.SO.NH&quot;, &quot;HASC_3&quot;: &quot;&quot;, &quot;ISO_1&quot;: &quot;MZ-S&quot;, &quot;NAME_0&quot;: &quot;Mozambique&quot;, &quot;NAME_1&quot;: &quot;Sofala&quot;, &quot;NAME_2&quot;: &quot;Nhamatanda&quot;, &quot;NAME_3&quot;: &quot;Nhamatanda&quot;, &quot;NAME_4&quot;: &quot;&quot;, &quot;NAME_5&quot;: &quot;&quot;, &quot;NL_NAME_1&quot;: &quot;&quot;, &quot;NL_NAME_2&quot;: &quot;&quot;, &quot;NL_NAME_3&quot;: &quot;&quot;, &quot;REGION&quot;: &quot;&quot;, &quot;SOVEREIGN&quot;: &quot;Mozambique&quot;, &quot;SUBCONT&quot;: &quot;&quot;, &quot;TYPE_1&quot;: &quot;Provincia&quot;, &quot;TYPE_2&quot;: &quot;Distrito&quot;, &quot;TYPE_3&quot;: &quot;Localidad&quot;, &quot;TYPE_4&quot;: &quot;&quot;, &quot;TYPE_5&quot;: &quot;&quot;, &quot;UID&quot;: 210968, &quot;VALIDFR_1&quot;: &quot;19541027&quot;, &quot;VALIDFR_2&quot;: &quot;Unknown&quot;, &quot;VALIDFR_3&quot;: &quot;Unknown&quot;, &quot;VALIDFR_4&quot;: &quot;&quot;, &quot;VARNAME_0&quot;: &quot;&quot;, &quot;VARNAME_1&quot;: &quot;&quot;, &quot;VARNAME_2&quot;: &quot;&quot;, &quot;VARNAME_3&quot;: &quot;&quot;, &quot;VARNAME_4&quot;: &quot;&quot;, &quot;VARREGION&quot;: &quot;&quot;, &quot;index&quot;: 330, &quot;layer&quot;: &quot;gadm_africa&quot;}, &quot;type&quot;: &quot;Feature&quot;}, {&quot;bbox&quot;: [34.20005035400004, -19.645460128999957, 34.55934906000016, -18.99333953799993], &quot;geometry&quot;: {&quot;coordinates&quot;: [[[[34.52595138600009, -19.601070403999927], [34.51811981100002, -19.604099272999974], [34.5012588510001, -19.601890563999916], [34.477561951000155, -19.60374069099987], [34.45793151800012, -19.606140135999908], [34.450729371000136, -19.62195014999992], [34.40999984700005, -19.63670921399995], [34.36199951300006, -19.640102384999864], [34.31195068300008, -19.645460128999957], [34.30900192200005, -19.63795089699994], [34.310989380000024, -19.633342742999957], [34.324260712000125, -19.622877120999874], [34.364009857000156, -19.56763267399998], [34.36743927000015, -19.550138473999937], [34.37181854300019, -19.51357078599989], [34.334861756000066, -19.471910475999948], [34.322471618000066, -19.47052001899982], [34.31344986000005, -19.47090911899994], [34.30751037700003, -19.470830917999876], [34.266418456999986, -19.43724059899995], [34.25413131800008, -19.429639815999906], [34.23497009300013, -19.40926742599987], [34.20005035400004, -19.36587714999996], [34.20183181800019, -19.360708235999937], [34.20201110800008, -19.348960876999968], [34.21347045800019, -19.326009749999912], [34.250701905000085, -19.325397490999876], [34.25148010200007, -19.31599807799995], [34.27046966600011, -19.3013095849999], [34.280651093000074, -19.295280456999933], [34.30846023600003, -19.28462028499996], [34.33074188300003, -19.290029525999955], [34.34151840300012, -19.284559249999973], [34.352680206, -19.278810499999963], [34.34000015200019, -19.266050337999957], [34.335330963000104, -19.26011848399986], [34.33205032400019, -19.252710341999943], [34.328090669000005, -19.24848937999991], [34.33113098100006, -19.23833084099988], [34.32289886500013, -19.225088119999896], [34.31715011600011, -19.21974944999988], [34.30792999200003, -19.211208342999896], [34.28779983600015, -19.182849883999893], [34.262260437000066, -19.172830581999847], [34.25503158500004, -19.16654014699992], [34.247989655000026, -19.155450819999885], [34.26676940800019, -19.150539396999932], [34.27418899600019, -19.14827918899988], [34.288219453000124, -19.139049528999976], [34.29561996500013, -19.129257201999962], [34.338409425000066, -19.116109848999884], [34.333740234000004, -19.101091384999904], [34.32215118300013, -19.085699080999973], [34.313411713000164, -19.06530952399993], [34.329978942000025, -19.043481825999947], [34.335578918000124, -19.024850844999946], [34.33327865700011, -19.010669707999966], [34.35079193000013, -18.99333953799993], [34.35681915300006, -18.994640348999894], [34.36098098800011, -18.99782943599996], [34.36671066300016, -18.99743079999996], [34.37105941700008, -18.995159148999846], [34.37451934700016, -18.997970579999958], [34.3798408510001, -19.014150618999906], [34.39352035500008, -19.037059783999894], [34.40779876700003, -19.056209563999914], [34.473800659000176, -19.082199096999943], [34.47710037200005, -19.094587324999907], [34.48450851400003, -19.09354019099993], [34.492938996000134, -19.101039884999977], [34.50017929000006, -19.113990783999952], [34.52151107800006, -19.13198280299997], [34.52764892500011, -19.13619041499993], [34.5308494570001, -19.14586067299996], [34.52928924500014, -19.15300941499993], [34.528221130000134, -19.159589765999954], [34.53001022300009, -19.16241073599997], [34.53404998800016, -19.163738250999927], [34.53417968800005, -19.169950483999912], [34.534301757000094, -19.17602729899994], [34.52325820900012, -19.187910080999927], [34.51626968400018, -19.200420378999922], [34.52204132000003, -19.206699370999956], [34.52621078500016, -19.21542930499993], [34.52761840900007, -19.22341918999996], [34.52864074700011, -19.23356056199998], [34.526580810000155, -19.239210128999957], [34.5277786260001, -19.2427806849999], [34.54233932600016, -19.24527931199998], [34.54996109000018, -19.24610137999997], [34.55294036800012, -19.25087928699986], [34.543178558000136, -19.262468336999973], [34.55768966800014, -19.278690336999944], [34.55015182500006, -19.275520323999956], [34.54917907700002, -19.281440733999943], [34.55934906000016, -19.302940367999838], [34.553619385000104, -19.308969497999954], [34.550289154000154, -19.316400526999928], [34.55001831100003, -19.325141905999942], [34.55815124500003, -19.325309753999875], [34.55469131500013, -19.330200195999964], [34.55744934100005, -19.358299254999906], [34.55464172300009, -19.376539229999878], [34.55440139800004, -19.39336967399987], [34.55424118100018, -19.403797149999946], [34.550468444000046, -19.402959822999946], [34.54592132600004, -19.399690626999927], [34.538990021000075, -19.404497146999972], [34.53395080500019, -19.40875053399992], [34.53049087600016, -19.413078306999978], [34.52785110499997, -19.421920775999922], [34.52964019800015, -19.424169538999934], [34.53588104300019, -19.423030852999943], [34.535610198000086, -19.43232917699993], [34.525508880000075, -19.433679579999932], [34.52275085500003, -19.438848494999945], [34.53049087600016, -19.44314956599993], [34.53940963800005, -19.443319320999933], [34.540019990000076, -19.447540281999977], [34.53258895900012, -19.44953727799998], [34.52249908400012, -19.453420639999877], [34.52598953200004, -19.46046066199989], [34.53134155300012, -19.460540770999955], [34.540039063000165, -19.454689026999915], [34.54468917900016, -19.452980041999922], [34.54243087800006, -19.45900726399998], [34.5322494510001, -19.466079710999963], [34.52790832500011, -19.471742630999813], [34.527240753000115, -19.479820251999968], [34.52339935300006, -19.485748289999947], [34.52946853600014, -19.494009016999883], [34.53612899800004, -19.49971961899996], [34.538829804000045, -19.50666999799995], [34.53646087600015, -19.51053047099998], [34.52425003100012, -19.5035114289999], [34.52336883500004, -19.506990432999885], [34.53699874800003, -19.524530409999954], [34.54658889800004, -19.514919280999834], [34.553230286000144, -19.516590117999954], [34.554660797999986, -19.528041838999968], [34.54507064900008, -19.535789489999956], [34.53884887700008, -19.544359205999967], [34.537490844000104, -19.553949355999976], [34.52698898400013, -19.55558013899997], [34.5215606700001, -19.56189155499993], [34.52462005600006, -19.588289259999954], [34.52444839499998, -19.598539351999932], [34.52595138600009, -19.601070403999927]]]], &quot;type&quot;: &quot;MultiPolygon&quot;}, &quot;id&quot;: &quot;1&quot;, &quot;properties&quot;: {&quot;CC_1&quot;: &quot;&quot;, &quot;CC_2&quot;: &quot;&quot;, &quot;CC_3&quot;: &quot;&quot;, &quot;CC_4&quot;: &quot;&quot;, &quot;CC_5&quot;: &quot;&quot;, &quot;CONTINENT&quot;: &quot;Africa&quot;, &quot;COUNTRY&quot;: &quot;Mozambique&quot;, &quot;DISPUTEDBY&quot;: &quot;&quot;, &quot;ENGTYPE_1&quot;: &quot;Province&quot;, &quot;ENGTYPE_2&quot;: &quot;District&quot;, &quot;ENGTYPE_3&quot;: &quot;Locality&quot;, &quot;ENGTYPE_4&quot;: &quot;&quot;, &quot;ENGTYPE_5&quot;: &quot;&quot;, &quot;GID_0&quot;: &quot;MOZ&quot;, &quot;GID_1&quot;: &quot;MOZ.9_1&quot;, &quot;GID_2&quot;: &quot;MOZ.9.12_1&quot;, &quot;GID_3&quot;: &quot;MOZ.9.12.2_1&quot;, &quot;GID_4&quot;: &quot;&quot;, &quot;GID_5&quot;: &quot;&quot;, &quot;GOVERNEDBY&quot;: &quot;&quot;, &quot;HASC_1&quot;: &quot;MZ.SO&quot;, &quot;HASC_2&quot;: &quot;MZ.SO.NH&quot;, &quot;HASC_3&quot;: &quot;&quot;, &quot;ISO_1&quot;: &quot;MZ-S&quot;, &quot;NAME_0&quot;: &quot;Mozambique&quot;, &quot;NAME_1&quot;: &quot;Sofala&quot;, &quot;NAME_2&quot;: &quot;Nhamatanda&quot;, &quot;NAME_3&quot;: &quot;Tica&quot;, &quot;NAME_4&quot;: &quot;&quot;, &quot;NAME_5&quot;: &quot;&quot;, &quot;NL_NAME_1&quot;: &quot;&quot;, &quot;NL_NAME_2&quot;: &quot;&quot;, &quot;NL_NAME_3&quot;: &quot;&quot;, &quot;REGION&quot;: &quot;&quot;, &quot;SOVEREIGN&quot;: &quot;Mozambique&quot;, &quot;SUBCONT&quot;: &quot;&quot;, &quot;TYPE_1&quot;: &quot;Provincia&quot;, &quot;TYPE_2&quot;: &quot;Distrito&quot;, &quot;TYPE_3&quot;: &quot;Localidad&quot;, &quot;TYPE_4&quot;: &quot;&quot;, &quot;TYPE_5&quot;: &quot;&quot;, &quot;UID&quot;: 210969, &quot;VALIDFR_1&quot;: &quot;19541027&quot;, &quot;VALIDFR_2&quot;: &quot;Unknown&quot;, &quot;VALIDFR_3&quot;: &quot;Unknown&quot;, &quot;VALIDFR_4&quot;: &quot;&quot;, &quot;VARNAME_0&quot;: &quot;&quot;, &quot;VARNAME_1&quot;: &quot;&quot;, &quot;VARNAME_2&quot;: &quot;&quot;, &quot;VARNAME_3&quot;: &quot;&quot;, &quot;VARNAME_4&quot;: &quot;&quot;, &quot;VARREGION&quot;: &quot;&quot;, &quot;index&quot;: 331, &quot;layer&quot;: &quot;gadm_africa&quot;}, &quot;type&quot;: &quot;Feature&quot;}], &quot;type&quot;: &quot;FeatureCollection&quot;});\n",
       "\n",
       "        \n",
       "    \n",
       "    geo_json_b2722046fb243a05cbeab1636095d853.bindTooltip(\n",
       "    function(layer){\n",
       "    let div = L.DomUtil.create(&#x27;div&#x27;);\n",
       "    \n",
       "    let handleObject = feature=&gt;typeof(feature)==&#x27;object&#x27; ? JSON.stringify(feature) : feature;\n",
       "    let fields = [&quot;index&quot;, &quot;UID&quot;, &quot;GID_0&quot;, &quot;NAME_0&quot;, &quot;VARNAME_0&quot;, &quot;GID_1&quot;, &quot;NAME_1&quot;, &quot;VARNAME_1&quot;, &quot;NL_NAME_1&quot;, &quot;ISO_1&quot;, &quot;HASC_1&quot;, &quot;CC_1&quot;, &quot;TYPE_1&quot;, &quot;ENGTYPE_1&quot;, &quot;VALIDFR_1&quot;, &quot;GID_2&quot;, &quot;NAME_2&quot;, &quot;VARNAME_2&quot;, &quot;NL_NAME_2&quot;, &quot;HASC_2&quot;, &quot;CC_2&quot;, &quot;TYPE_2&quot;, &quot;ENGTYPE_2&quot;, &quot;VALIDFR_2&quot;, &quot;GID_3&quot;, &quot;NAME_3&quot;, &quot;VARNAME_3&quot;, &quot;NL_NAME_3&quot;, &quot;HASC_3&quot;, &quot;CC_3&quot;, &quot;TYPE_3&quot;, &quot;ENGTYPE_3&quot;, &quot;VALIDFR_3&quot;, &quot;GID_4&quot;, &quot;NAME_4&quot;, &quot;VARNAME_4&quot;, &quot;CC_4&quot;, &quot;TYPE_4&quot;, &quot;ENGTYPE_4&quot;, &quot;VALIDFR_4&quot;, &quot;GID_5&quot;, &quot;NAME_5&quot;, &quot;CC_5&quot;, &quot;TYPE_5&quot;, &quot;ENGTYPE_5&quot;, &quot;GOVERNEDBY&quot;, &quot;SOVEREIGN&quot;, &quot;DISPUTEDBY&quot;, &quot;REGION&quot;, &quot;VARREGION&quot;, &quot;COUNTRY&quot;, &quot;CONTINENT&quot;, &quot;SUBCONT&quot;, &quot;layer&quot;];\n",
       "    let aliases = [&quot;index&quot;, &quot;UID&quot;, &quot;GID_0&quot;, &quot;NAME_0&quot;, &quot;VARNAME_0&quot;, &quot;GID_1&quot;, &quot;NAME_1&quot;, &quot;VARNAME_1&quot;, &quot;NL_NAME_1&quot;, &quot;ISO_1&quot;, &quot;HASC_1&quot;, &quot;CC_1&quot;, &quot;TYPE_1&quot;, &quot;ENGTYPE_1&quot;, &quot;VALIDFR_1&quot;, &quot;GID_2&quot;, &quot;NAME_2&quot;, &quot;VARNAME_2&quot;, &quot;NL_NAME_2&quot;, &quot;HASC_2&quot;, &quot;CC_2&quot;, &quot;TYPE_2&quot;, &quot;ENGTYPE_2&quot;, &quot;VALIDFR_2&quot;, &quot;GID_3&quot;, &quot;NAME_3&quot;, &quot;VARNAME_3&quot;, &quot;NL_NAME_3&quot;, &quot;HASC_3&quot;, &quot;CC_3&quot;, &quot;TYPE_3&quot;, &quot;ENGTYPE_3&quot;, &quot;VALIDFR_3&quot;, &quot;GID_4&quot;, &quot;NAME_4&quot;, &quot;VARNAME_4&quot;, &quot;CC_4&quot;, &quot;TYPE_4&quot;, &quot;ENGTYPE_4&quot;, &quot;VALIDFR_4&quot;, &quot;GID_5&quot;, &quot;NAME_5&quot;, &quot;CC_5&quot;, &quot;TYPE_5&quot;, &quot;ENGTYPE_5&quot;, &quot;GOVERNEDBY&quot;, &quot;SOVEREIGN&quot;, &quot;DISPUTEDBY&quot;, &quot;REGION&quot;, &quot;VARREGION&quot;, &quot;COUNTRY&quot;, &quot;CONTINENT&quot;, &quot;SUBCONT&quot;, &quot;layer&quot;];\n",
       "    let table = &#x27;&lt;table&gt;&#x27; +\n",
       "        String(\n",
       "        fields.map(\n",
       "        (v,i)=&gt;\n",
       "        `&lt;tr&gt;\n",
       "            &lt;th&gt;${aliases[i]}&lt;/th&gt;\n",
       "            \n",
       "            &lt;td&gt;${handleObject(layer.feature.properties[v])}&lt;/td&gt;\n",
       "        &lt;/tr&gt;`).join(&#x27;&#x27;))\n",
       "    +&#x27;&lt;/table&gt;&#x27;;\n",
       "    div.innerHTML=table;\n",
       "    \n",
       "    return div\n",
       "    }\n",
       "    ,{&quot;className&quot;: &quot;foliumtooltip&quot;, &quot;sticky&quot;: true});\n",
       "                     \n",
       "    \n",
       "    geo_json_b2722046fb243a05cbeab1636095d853.bindPopup(\n",
       "    function(layer){\n",
       "    let div = L.DomUtil.create(&#x27;div&#x27;);\n",
       "    \n",
       "    let handleObject = feature=&gt;typeof(feature)==&#x27;object&#x27; ? JSON.stringify(feature) : feature;\n",
       "    let fields = [&quot;index&quot;, &quot;UID&quot;, &quot;GID_0&quot;, &quot;NAME_0&quot;, &quot;VARNAME_0&quot;, &quot;GID_1&quot;, &quot;NAME_1&quot;, &quot;VARNAME_1&quot;, &quot;NL_NAME_1&quot;, &quot;ISO_1&quot;, &quot;HASC_1&quot;, &quot;CC_1&quot;, &quot;TYPE_1&quot;, &quot;ENGTYPE_1&quot;, &quot;VALIDFR_1&quot;, &quot;GID_2&quot;, &quot;NAME_2&quot;, &quot;VARNAME_2&quot;, &quot;NL_NAME_2&quot;, &quot;HASC_2&quot;, &quot;CC_2&quot;, &quot;TYPE_2&quot;, &quot;ENGTYPE_2&quot;, &quot;VALIDFR_2&quot;, &quot;GID_3&quot;, &quot;NAME_3&quot;, &quot;VARNAME_3&quot;, &quot;NL_NAME_3&quot;, &quot;HASC_3&quot;, &quot;CC_3&quot;, &quot;TYPE_3&quot;, &quot;ENGTYPE_3&quot;, &quot;VALIDFR_3&quot;, &quot;GID_4&quot;, &quot;NAME_4&quot;, &quot;VARNAME_4&quot;, &quot;CC_4&quot;, &quot;TYPE_4&quot;, &quot;ENGTYPE_4&quot;, &quot;VALIDFR_4&quot;, &quot;GID_5&quot;, &quot;NAME_5&quot;, &quot;CC_5&quot;, &quot;TYPE_5&quot;, &quot;ENGTYPE_5&quot;, &quot;GOVERNEDBY&quot;, &quot;SOVEREIGN&quot;, &quot;DISPUTEDBY&quot;, &quot;REGION&quot;, &quot;VARREGION&quot;, &quot;COUNTRY&quot;, &quot;CONTINENT&quot;, &quot;SUBCONT&quot;, &quot;layer&quot;];\n",
       "    let aliases = [&quot;index&quot;, &quot;UID&quot;, &quot;GID_0&quot;, &quot;NAME_0&quot;, &quot;VARNAME_0&quot;, &quot;GID_1&quot;, &quot;NAME_1&quot;, &quot;VARNAME_1&quot;, &quot;NL_NAME_1&quot;, &quot;ISO_1&quot;, &quot;HASC_1&quot;, &quot;CC_1&quot;, &quot;TYPE_1&quot;, &quot;ENGTYPE_1&quot;, &quot;VALIDFR_1&quot;, &quot;GID_2&quot;, &quot;NAME_2&quot;, &quot;VARNAME_2&quot;, &quot;NL_NAME_2&quot;, &quot;HASC_2&quot;, &quot;CC_2&quot;, &quot;TYPE_2&quot;, &quot;ENGTYPE_2&quot;, &quot;VALIDFR_2&quot;, &quot;GID_3&quot;, &quot;NAME_3&quot;, &quot;VARNAME_3&quot;, &quot;NL_NAME_3&quot;, &quot;HASC_3&quot;, &quot;CC_3&quot;, &quot;TYPE_3&quot;, &quot;ENGTYPE_3&quot;, &quot;VALIDFR_3&quot;, &quot;GID_4&quot;, &quot;NAME_4&quot;, &quot;VARNAME_4&quot;, &quot;CC_4&quot;, &quot;TYPE_4&quot;, &quot;ENGTYPE_4&quot;, &quot;VALIDFR_4&quot;, &quot;GID_5&quot;, &quot;NAME_5&quot;, &quot;CC_5&quot;, &quot;TYPE_5&quot;, &quot;ENGTYPE_5&quot;, &quot;GOVERNEDBY&quot;, &quot;SOVEREIGN&quot;, &quot;DISPUTEDBY&quot;, &quot;REGION&quot;, &quot;VARREGION&quot;, &quot;COUNTRY&quot;, &quot;CONTINENT&quot;, &quot;SUBCONT&quot;, &quot;layer&quot;];\n",
       "    let table = &#x27;&lt;table&gt;&#x27; +\n",
       "        String(\n",
       "        fields.map(\n",
       "        (v,i)=&gt;\n",
       "        `&lt;tr&gt;\n",
       "            &lt;th&gt;${aliases[i].toLocaleString()}&lt;/th&gt;\n",
       "            \n",
       "            &lt;td&gt;${handleObject(layer.feature.properties[v]).toLocaleString()}&lt;/td&gt;\n",
       "        &lt;/tr&gt;`).join(&#x27;&#x27;))\n",
       "    +&#x27;&lt;/table&gt;&#x27;;\n",
       "    div.innerHTML=table;\n",
       "    \n",
       "    return div\n",
       "    }\n",
       "    ,{&quot;className&quot;: &quot;foliumpopup&quot;});\n",
       "                     \n",
       "&lt;/script&gt;\" style=\"position:absolute;width:100%;height:100%;left:0;top:0;border:none !important;\" allowfullscreen webkitallowfullscreen mozallowfullscreen></iframe></div></div>"
      ],
      "text/plain": [
       "<folium.folium.Map at 0x7efdb1f96850>"
      ]
     },
     "execution_count": 4,
     "metadata": {},
     "output_type": "execute_result"
    }
   ],
   "source": [
    "area_of_interest_gdf.explore(\n",
    "    tiles = \"https://mt1.google.com/vt/lyrs=y&x={x}&y={y}&z={z}\", \n",
    "    attr ='Imagery @2022 Landsat/Copernicus, Map data @2022 Google',\n",
    "    popup=True,\n",
    "    cmap='viridis',\n",
    "    style_kwds=dict(color= 'red', fillOpacity= 0, weight= 3),\n",
    "    )"
   ]
  },
  {
   "cell_type": "markdown",
   "metadata": {
    "tags": []
   },
   "source": [
    "### Load the corresponding crop type map"
   ]
  },
  {
   "cell_type": "code",
   "execution_count": 5,
   "metadata": {},
   "outputs": [],
   "source": [
    "crop_type_path= f\"{crop_map_path}/{area_name}_croptype_prediction.tif\"\n",
    "da_crop_type=rioxarray.open_rasterio(crop_type_path, chunks={'x':2000, 'y':2000}).squeeze()"
   ]
  },
  {
   "cell_type": "markdown",
   "metadata": {},
   "source": [
    "### Load the crop class labels dictionary"
   ]
  },
  {
   "cell_type": "code",
   "execution_count": 6,
   "metadata": {},
   "outputs": [],
   "source": [
    "# Dictionary with class labels from previous step\n",
    "labels_path = \"Results/Model/class_labels.json\"\n",
    "\n",
    "# Read the class label dictionary\n",
    "with open(labels_path, \"r\") as json_file:\n",
    "    labels_dict = json.load(json_file)"
   ]
  },
  {
   "cell_type": "markdown",
   "metadata": {},
   "source": [
    "## Calculate crop areas\n",
    "\n",
    "Crop areas are calculated by counting the number of pixels classified as each crop type."
   ]
  },
  {
   "cell_type": "markdown",
   "metadata": {},
   "source": [
    "For each area, we make a mask using its geometry and count the pixels labeled as each crop type in the area mask.\n",
    "\n",
    "> Each Sentinel-2 pixel cover 10 by 10 meters on the ground."
   ]
  },
  {
   "cell_type": "code",
   "execution_count": 7,
   "metadata": {},
   "outputs": [
    {
     "name": "stdout",
     "output_type": "stream",
     "text": [
      "Processing polygon 0\n",
      "Nhamatanda\n",
      "Area (hectare) for Maize (0): 24848.75\n",
      "Area (hectare) for Others (1): 21173.49\n",
      "Area (hectare) for Sesame (2): 16179.89\n",
      "Area (hectare) for Soy (3): 1.5\n",
      "Processing polygon 1\n",
      "Tica\n",
      "Area (hectare) for Maize (0): 9107.68\n",
      "Area (hectare) for Others (1): 15171.65\n",
      "Area (hectare) for Sesame (2): 3177.14\n",
      "Area (hectare) for Soy (3): 2.32\n"
     ]
    }
   ],
   "source": [
    "gdf_new=area_of_interest_gdf[[name_col, \"geometry\"]].copy()\n",
    "for index, district in area_of_interest_gdf.iterrows():\n",
    "\n",
    "    print(f\"Processing polygon {index}\")\n",
    "    #area_of_interest_gdf.loc[index,'ID']=index\n",
    "    print(area_of_interest_gdf.loc[index][name_col])\n",
    "    \n",
    "    # Rasterize polygon\n",
    "    district_mask = xr_rasterize(\n",
    "        gdf=area_of_interest_gdf.loc[[index]],\n",
    "        da=da_crop_type,\n",
    "        transform=da_crop_type.geobox.transform,\n",
    "        crs=output_crs,\n",
    "    )\n",
    "    area_cols = []\n",
    "    for class_name, class_value in labels_dict.items():\n",
    "        # convert pixel count to hectare; each pixel is 10 m by 10 m\n",
    "        crop_type_mask = da_crop_type.where(district_mask, da_crop_type.attrs['_FillValue'])==class_value\n",
    "        crop_type_area=np.sum(crop_type_mask).compute()/100.0\n",
    "        attr_name=class_name+\"_area_hectare\"\n",
    "        area_cols.append(attr_name)\n",
    "        gdf_new.loc[index, attr_name] = crop_type_area.data\n",
    "        print('Area (hectare) for {} ({}): {}'.format(class_name, class_value, crop_type_area.data))"
   ]
  },
  {
   "cell_type": "markdown",
   "metadata": {},
   "source": [
    "We then calculate the total cropped area and the porportion of each crop type."
   ]
  },
  {
   "cell_type": "code",
   "execution_count": 8,
   "metadata": {},
   "outputs": [],
   "source": [
    "# calculate total crop area\n",
    "total_area_attr = \"Crop_area_hectare\"\n",
    "total_area = gdf_new[area_cols].sum(axis=1)\n",
    "gdf_new[total_area_attr] = total_area\n",
    "\n",
    "# calculate porportion of different crop types\n",
    "for class_name, class_value in labels_dict.items():\n",
    "    gdf_new[class_name+\"_area_precent\"] = gdf_new[class_name+\"_area_hectare\"]/gdf_new[total_area_attr]"
   ]
  },
  {
   "cell_type": "code",
   "execution_count": 15,
   "metadata": {},
   "outputs": [
    {
     "data": {
      "text/html": [
       "<div>\n",
       "<style scoped>\n",
       "    .dataframe tbody tr th:only-of-type {\n",
       "        vertical-align: middle;\n",
       "    }\n",
       "\n",
       "    .dataframe tbody tr th {\n",
       "        vertical-align: top;\n",
       "    }\n",
       "\n",
       "    .dataframe thead th {\n",
       "        text-align: right;\n",
       "    }\n",
       "</style>\n",
       "<table border=\"1\" class=\"dataframe\">\n",
       "  <thead>\n",
       "    <tr style=\"text-align: right;\">\n",
       "      <th></th>\n",
       "      <th>NAME_3</th>\n",
       "      <th>geometry</th>\n",
       "      <th>Maize_area_hectare</th>\n",
       "      <th>Others_area_hectare</th>\n",
       "      <th>Sesame_area_hectare</th>\n",
       "      <th>Soy_area_hectare</th>\n",
       "      <th>Crop_area_hectare</th>\n",
       "      <th>Maize_area_precent</th>\n",
       "      <th>Others_area_precent</th>\n",
       "      <th>Sesame_area_precent</th>\n",
       "      <th>Soy_area_precent</th>\n",
       "    </tr>\n",
       "  </thead>\n",
       "  <tbody>\n",
       "    <tr>\n",
       "      <th>0</th>\n",
       "      <td>Nhamatanda</td>\n",
       "      <td>MULTIPOLYGON (((33.98817 -19.11355, 34.00109 -...</td>\n",
       "      <td>24848.75</td>\n",
       "      <td>21173.49</td>\n",
       "      <td>16179.89</td>\n",
       "      <td>1.50</td>\n",
       "      <td>62203.63</td>\n",
       "      <td>0.399474</td>\n",
       "      <td>0.340390</td>\n",
       "      <td>0.260112</td>\n",
       "      <td>0.000024</td>\n",
       "    </tr>\n",
       "    <tr>\n",
       "      <th>1</th>\n",
       "      <td>Tica</td>\n",
       "      <td>MULTIPOLYGON (((34.52595 -19.60107, 34.51812 -...</td>\n",
       "      <td>9107.68</td>\n",
       "      <td>15171.65</td>\n",
       "      <td>3177.14</td>\n",
       "      <td>2.32</td>\n",
       "      <td>27458.79</td>\n",
       "      <td>0.331685</td>\n",
       "      <td>0.552524</td>\n",
       "      <td>0.115706</td>\n",
       "      <td>0.000084</td>\n",
       "    </tr>\n",
       "  </tbody>\n",
       "</table>\n",
       "</div>"
      ],
      "text/plain": [
       "       NAME_3                                           geometry  \\\n",
       "0  Nhamatanda  MULTIPOLYGON (((33.98817 -19.11355, 34.00109 -...   \n",
       "1        Tica  MULTIPOLYGON (((34.52595 -19.60107, 34.51812 -...   \n",
       "\n",
       "   Maize_area_hectare  Others_area_hectare  Sesame_area_hectare  \\\n",
       "0            24848.75             21173.49             16179.89   \n",
       "1             9107.68             15171.65              3177.14   \n",
       "\n",
       "   Soy_area_hectare  Crop_area_hectare  Maize_area_precent  \\\n",
       "0              1.50           62203.63            0.399474   \n",
       "1              2.32           27458.79            0.331685   \n",
       "\n",
       "   Others_area_precent  Sesame_area_precent  Soy_area_precent  \n",
       "0             0.340390             0.260112          0.000024  \n",
       "1             0.552524             0.115706          0.000084  "
      ]
     },
     "execution_count": 15,
     "metadata": {},
     "output_type": "execute_result"
    }
   ],
   "source": [
    "gdf_new"
   ]
  },
  {
   "cell_type": "markdown",
   "metadata": {},
   "source": [
    "## Plot crop areas\n",
    "\n",
    "We can inspect the crop type areas calculated as a table or plot the areas as a bar chart."
   ]
  },
  {
   "cell_type": "code",
   "execution_count": 9,
   "metadata": {},
   "outputs": [
    {
     "data": {
      "text/html": [
       "<div>\n",
       "<style scoped>\n",
       "    .dataframe tbody tr th:only-of-type {\n",
       "        vertical-align: middle;\n",
       "    }\n",
       "\n",
       "    .dataframe tbody tr th {\n",
       "        vertical-align: top;\n",
       "    }\n",
       "\n",
       "    .dataframe thead th {\n",
       "        text-align: right;\n",
       "    }\n",
       "</style>\n",
       "<table border=\"1\" class=\"dataframe\">\n",
       "  <thead>\n",
       "    <tr style=\"text-align: right;\">\n",
       "      <th></th>\n",
       "      <th>Maize_area_hectare</th>\n",
       "      <th>Others_area_hectare</th>\n",
       "      <th>Sesame_area_hectare</th>\n",
       "      <th>Soy_area_hectare</th>\n",
       "    </tr>\n",
       "    <tr>\n",
       "      <th>NAME_3</th>\n",
       "      <th></th>\n",
       "      <th></th>\n",
       "      <th></th>\n",
       "      <th></th>\n",
       "    </tr>\n",
       "  </thead>\n",
       "  <tbody>\n",
       "    <tr>\n",
       "      <th>Nhamatanda</th>\n",
       "      <td>24849.0</td>\n",
       "      <td>21173.0</td>\n",
       "      <td>16180.0</td>\n",
       "      <td>2.0</td>\n",
       "    </tr>\n",
       "    <tr>\n",
       "      <th>Tica</th>\n",
       "      <td>9108.0</td>\n",
       "      <td>15172.0</td>\n",
       "      <td>3177.0</td>\n",
       "      <td>2.0</td>\n",
       "    </tr>\n",
       "  </tbody>\n",
       "</table>\n",
       "</div>"
      ],
      "text/plain": [
       "            Maize_area_hectare  Others_area_hectare  Sesame_area_hectare  \\\n",
       "NAME_3                                                                     \n",
       "Nhamatanda             24849.0              21173.0              16180.0   \n",
       "Tica                    9108.0              15172.0               3177.0   \n",
       "\n",
       "            Soy_area_hectare  \n",
       "NAME_3                        \n",
       "Nhamatanda               2.0  \n",
       "Tica                     2.0  "
      ]
     },
     "execution_count": 9,
     "metadata": {},
     "output_type": "execute_result"
    }
   ],
   "source": [
    "gdf_new[area_cols].set_index(gdf_new[name_col]).round()"
   ]
  },
  {
   "cell_type": "code",
   "execution_count": 10,
   "metadata": {},
   "outputs": [
    {
     "data": {
      "image/png": "[encoded data removed]",
      "text/plain": [
       "<Figure size 640x480 with 1 Axes>"
      ]
     },
     "metadata": {},
     "output_type": "display_data"
    }
   ],
   "source": [
    "gdf_new[area_cols].set_index(gdf_new[name_col]).plot.bar(stacked=True);"
   ]
  },
  {
   "cell_type": "markdown",
   "metadata": {},
   "source": [
    "And we can sum the areas for each crop type."
   ]
  },
  {
   "cell_type": "code",
   "execution_count": 11,
   "metadata": {},
   "outputs": [
    {
     "data": {
      "text/plain": [
       "Maize_area_hectare     33956.0\n",
       "Others_area_hectare    36345.0\n",
       "Sesame_area_hectare    19357.0\n",
       "Soy_area_hectare           4.0\n",
       "dtype: float64"
      ]
     },
     "execution_count": 11,
     "metadata": {},
     "output_type": "execute_result"
    }
   ],
   "source": [
    "gdf_new[area_cols].sum().round()"
   ]
  },
  {
   "cell_type": "markdown",
   "metadata": {},
   "source": [
    "## Save the results to tables"
   ]
  },
  {
   "cell_type": "code",
   "execution_count": 12,
   "metadata": {},
   "outputs": [],
   "source": [
    "# Set results path\n",
    "output_folder = \"Results/Crop_stats\"\n",
    "if not os.path.exists(output_folder):\n",
    "    os.makedirs(output_folder)"
   ]
  },
  {
   "cell_type": "code",
   "execution_count": 13,
   "metadata": {},
   "outputs": [],
   "source": [
    "# with geometries\n",
    "gdf_new.round().to_file(os.path.join(output_folder, f\"{area_name}_crop_areas.geojson\"))"
   ]
  },
  {
   "cell_type": "code",
   "execution_count": 14,
   "metadata": {},
   "outputs": [],
   "source": [
    "# convert to CSV by dropping geometry\n",
    "df = pd.DataFrame(gdf_new.round().drop(columns='geometry'))\n",
    "\n",
    "df.to_csv(os.path.join(output_folder, f\"{area_name}_crop_areas.csv\"))"
   ]
  }
 ],
 "metadata": {
  "kernelspec": {
   "display_name": "Python 3 (ipykernel)",
   "language": "python",
   "name": "python3"
  },
  "language_info": {
   "codemirror_mode": {
    "name": "ipython",
    "version": 3
   },
   "file_extension": ".py",
   "mimetype": "text/x-python",
   "name": "python",
   "nbconvert_exporter": "python",
   "pygments_lexer": "ipython3",
   "version": "3.8.10"
  }
 },
 "nbformat": 4,
 "nbformat_minor": 4
}
