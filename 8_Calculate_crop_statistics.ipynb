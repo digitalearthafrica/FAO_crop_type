{
 "cells": [
  {
   "attachments": {},
   "cell_type": "markdown",
   "metadata": {},
   "source": [
    "## Description\n",
    "\n",
    "This notebook calculates areas of each crop type within given regions of interest."
   ]
  },
  {
   "cell_type": "code",
   "execution_count": null,
   "metadata": {},
   "outputs": [],
   "source": [
    "import os\n",
    "import pickle\n",
    "import json\n",
    "\n",
    "import datacube\n",
    "import geopandas as gpd\n",
    "import matplotlib.pyplot as plt\n",
    "import numpy as np\n",
    "import pandas as pd\n",
    "import rioxarray\n",
    "import xarray as xr\n",
    "from datacube.utils import geometry\n",
    "from deafrica_tools.spatial import xr_rasterize"
   ]
  },
  {
   "attachments": {},
   "cell_type": "markdown",
   "metadata": {},
   "source": [
    "## Load region boundaries and crop map"
   ]
  },
  {
   "cell_type": "code",
   "execution_count": null,
   "metadata": {},
   "outputs": [],
   "source": [
    "admin_boundaries_file = (\n",
    "    \"data/Mozambique_boundary.shp\"\n",
    ")\n",
    "area_of_interest_gdf = gpd.read_file(admin_boundaries_file).to_crs(\"EPSG:32736\")"
   ]
  },
  {
   "cell_type": "code",
   "execution_count": null,
   "metadata": {},
   "outputs": [],
   "source": [
    "crop_type_path='results/Test_areas_mosaic_croptype_merged_prediction.tif'\n",
    "da_crop_type=rioxarray.open_rasterio(crop_type_path).squeeze()"
   ]
  },
  {
   "cell_type": "code",
   "execution_count": null,
   "metadata": {},
   "outputs": [],
   "source": [
    "# Dictionary with class labels from previous step\n",
    "labels_path = \"results/class_labels.json\"\n",
    "\n",
    "# Read the class label dictionary\n",
    "with open(labels_path, \"r\") as json_file:\n",
    "    labels_dict = json.load(json_file)"
   ]
  },
  {
   "attachments": {},
   "cell_type": "markdown",
   "metadata": {},
   "source": [
    "## Calculate areas per polygon"
   ]
  },
  {
   "cell_type": "code",
   "execution_count": null,
   "metadata": {},
   "outputs": [],
   "source": [
    "gdf_new=area_of_interest_gdf.copy()\n",
    "for index, district in area_of_interest_gdf.iterrows():\n",
    "\n",
    "    print(f\"Processing polygon {index}\")\n",
    "    area_of_interest_gdf.loc[index,'ID']=index\n",
    "    # Rasterize polygon\n",
    "    district_mask = xr_rasterize(\n",
    "        gdf=area_of_interest_gdf.iloc[[index]],\n",
    "        da=da_crop_type,\n",
    "        transform=da_crop_type.geobox.transform,\n",
    "        crs=\"EPSG:32736\",\n",
    "    )\n",
    "    for class_name, class_value in labels_dict.items():\n",
    "        crop_type_area=np.sum(district_mask==class_value)/10000.0\n",
    "        attr_name=class_name+\"_area_km2\"\n",
    "        gdf_new.loc[index, attr_name] = crop_type_area\n",
    "        print('area in km2 for {}: {}'.format(class_name,crop_type_area))"
   ]
  },
  {
   "attachments": {},
   "cell_type": "markdown",
   "metadata": {},
   "source": [
    "## Plot areas histogram"
   ]
  },
  {
   "cell_type": "code",
   "execution_count": null,
   "metadata": {},
   "outputs": [],
   "source": [
    "gdf_new.plot(x='ID',y=[labels_dict.values()])"
   ]
  },
  {
   "cell_type": "markdown",
   "metadata": {},
   "source": [
    "## Export to files"
   ]
  },
  {
   "cell_type": "code",
   "execution_count": null,
   "metadata": {},
   "outputs": [],
   "source": [
    "gdf_new.to_file(\"data/crop_areas.geojson\")"
   ]
  },
  {
   "cell_type": "code",
   "execution_count": null,
   "metadata": {},
   "outputs": [],
   "source": [
    "# convert to CSV by dropping geometry\n",
    "df = pd.DataFrame(gdf_new.drop(columns='geometry'))\n",
    "\n",
    "df.to_csv(\"data/crop_areas.csv\")"
   ]
  }
 ],
 "metadata": {
  "kernelspec": {
   "display_name": "geoenv",
   "language": "python",
   "name": "python3"
  },
  "language_info": {
   "name": "python",
   "version": "3.7.12"
  },
  "orig_nbformat": 4
 },
 "nbformat": 4,
 "nbformat_minor": 2
}
