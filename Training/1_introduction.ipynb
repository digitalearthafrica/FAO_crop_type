{
 "cells": [
  {
   "cell_type": "markdown",
   "id": "13701d2e-6a9e-4cf9-9946-3ddcccdc601d",
   "metadata": {},
   "source": [
    "# Introduction to crop type mapping using the Digital Earth Africa platform"
   ]
  },
  {
   "cell_type": "markdown",
   "id": "5b768f14-90ad-4374-a2d3-d150522c1a79",
   "metadata": {},
   "source": [
    "Earth Observations data has been identified by the UN among the alternative big data sources that is instrumental to the the modernization of national statistical systems, for the production of official statistics and reporting to the SDG. In particular. In particular, EO data can be used to produce crop type maps that are accurate, timely and granular, allowing for the calculation of crop acreage, and crop yield when coupled with crop growth models. In addition to crop type maps, the delineation of crop field boundaries . \n",
    "\n",
    "However, the of EO data into national operational contexts is still low due to the technical and administrative barriers that are still found. As a result crop type maps, crop yield maps and crop boundary maps are rare to find in countries, and when available they are not regularly kept up-to-date. \n",
    "\n",
    "To increase the uptake of EO data for official statistics in countries, FAO has launched the EOSTAT project in 2019 with the scope of developing a novel, simplified and standardized EO approach and to use it to build technical capacity in countries through the implementation of pilot projects. EOSTAT outputs are typically national land cover maps, crop masks, crop type maps, crop yield maps and crop field boundary maps, which in turn feed into the FAO Hand in Hand Initiative. Mozambique is a beneficiary of the EOSTAT project and is participating to the HiH initiative. \n",
    "\n",
    "To amplify the outreach of the EOSTAT project,  FAO has established a collaboration with Digital Earth Africa (DE Africa) and with Frontier SI who will is the implementing partner in Rwanda and Mozambique.   \n"
   ]
  },
  {
   "cell_type": "markdown",
   "id": "719981d6-b8d6-4d05-8ccd-a19517f2b843",
   "metadata": {},
   "source": [
    "## Digital Earth Africa platform\n",
    "\n",
    "The workflow developed in this project uses the Earth observation data available from the DE Africa platform. The scripts are designed to operate in the [Digital Earth Africa sandbox](https://sandbox.digitalearth.africa/).\n",
    "\n",
    "Support on using DE Africa platform is available through the [DE Africa Help Desk](https://docs.digitalearthafrica.org/en/latest/about/contact.html)."
   ]
  },
  {
   "cell_type": "markdown",
   "id": "2ee0dab8-96a0-4c33-9164-03eb612ac502",
   "metadata": {},
   "source": [
    "## Crop type mapping\n",
    "\n",
    "The crop type mapping workflow implements a supervised machine learning (ML) approach with the following main components:\n",
    "\n",
    "* Training data cleaning and inspection\n",
    "* Extraction of input features and feature engineering\n",
    "* Building a ML classifier\n",
    "* Generation of a crop type map\n",
    "\n",
    "**Add a flowchat**\n",
    "\n",
    "Each of these components can be tuned and refined based on type of training data available and the climate and cropping characteristics of the region of interest."
   ]
  },
  {
   "cell_type": "markdown",
   "id": "63fe1c08-73f9-4e86-b421-b70539c828a5",
   "metadata": {},
   "source": [
    "## Training sessions\n",
    "\n",
    "The first training session explores how to inspect and clean the training data for building a machine learning model using Earth observations.\n",
    "\n",
    "* [Training data inspection](../1_Training_data_inspection.ipynb) - inspection of crop labels and preprocessing of training labels\n",
    "* [Phenology exploration](../2_Ephenology_expoloration.ipynb) - inspection of NDVI phenology curves for different crop classes\n",
    "* [Training feature extraction](../3_Traing_feature_extraction.ipynb) - extraction of relevant EO measurements over training data locations\n",
    "\n",
    "The second training session covers how to use the training data and Earth observations from the DE Africa platform to build a machine learning model, and apply it to produce a crop type map.\n",
    "\n",
    "* [Feature selection](../4_Training_feature_selection.ipynb) - inspection of training features for correlation and selection of features\n",
    "* [Fit, optimise and evaluate classifier](../5_Fit_classifier.ipynb) - model fitting and cross validation\n",
    "* [Model prediction and post-processing](../6_Create_test_map.ipynb) - generation of test maps over a small areas for visual inspection\n",
    "* [Country-wide crop type map](../7_Create_country_map.ipynb) - generation of a country-wide crop type map\n",
    "* [Crop area statistics](../8_Create_area_statistics.ipynb) - generation of crop area statistics\n"
   ]
  },
  {
   "cell_type": "code",
   "execution_count": null,
   "id": "9c41ab92-5b41-4a82-a4e7-00693eae9597",
   "metadata": {},
   "outputs": [],
   "source": []
  }
 ],
 "metadata": {
  "kernelspec": {
   "display_name": "Python 3 (ipykernel)",
   "language": "python",
   "name": "python3"
  },
  "language_info": {
   "codemirror_mode": {
    "name": "ipython",
    "version": 3
   },
   "file_extension": ".py",
   "mimetype": "text/x-python",
   "name": "python",
   "nbconvert_exporter": "python",
   "pygments_lexer": "ipython3",
   "version": "3.8.10"
  }
 },
 "nbformat": 4,
 "nbformat_minor": 5
}
